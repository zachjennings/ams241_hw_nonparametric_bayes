{
 "cells": [
  {
   "cell_type": "code",
   "execution_count": 1,
   "metadata": {
    "collapsed": false
   },
   "outputs": [],
   "source": [
    "%matplotlib inline\n",
    "import numpy as np\n",
    "import scipy.stats as stats\n",
    "import matplotlib.pyplot as plt"
   ]
  },
  {
   "cell_type": "markdown",
   "metadata": {},
   "source": [
    "AMS 241, Problem Set 1, Problem 2\n",
    "\n",
    "Zachary Jennings"
   ]
  },
  {
   "cell_type": "markdown",
   "metadata": {},
   "source": [
    "Consider a DP prior $DP(\\alpha,G_0)$ with $G_0 = N(0,1)$. "
   ]
  },
  {
   "cell_type": "markdown",
   "metadata": {},
   "source": []
  },
  {
   "cell_type": "code",
   "execution_count": 240,
   "metadata": {
    "collapsed": false
   },
   "outputs": [],
   "source": [
    "class DP(object):\n",
    "    '''\n",
    "    Class to hold a DP prior.\n",
    "    '''\n",
    "    def __init__(self,g='foo',alpha=1.,func_type='normal',**kwargs):\n",
    "        '''\n",
    "        Parameters:\n",
    "        g: scipy.stats object. if not specified, function type is used\n",
    "        alpha: precision parameter for dirichlet distribution\n",
    "        '''    \n",
    "        self.alpha = alpha\n",
    "        \n",
    "        #check if custom function is passed, else use that specified\n",
    "        if g == 'foo':\n",
    "            if func_type == 'normal':\n",
    "                self.g = stats.norm(**kwargs)\n",
    "            elif func_type == 'uniform':\n",
    "                self.g = stats.uniform(**kwargs)\n",
    "            else:\n",
    "                print 'Error: No valid function supplied or specified.'\n",
    "                \n",
    "        else:\n",
    "            self.g = g\n",
    "        \n",
    "        \n",
    "    def DrawCDFFerg(self,grid=np.linspace(-4,4,100),n_cdf=1):\n",
    "        '''\n",
    "        Draw a CDF realization, using method of Fergueson 1973\n",
    "        Parameters:\n",
    "            grid: n x 1 space of values on which to draw Dirichlet values\n",
    "            \n",
    "            n_cdf: int\n",
    "                number of CDFs to generate\n",
    "        \n",
    "        '''\n",
    "        g_draws = self.g.cdf(grid)\n",
    "        g_draws = np.insert(g_draws,[0],[0.])\n",
    "        g_diff = g_draws[1:] - g_draws[:-1]\n",
    "        \n",
    "        cdf_arr = []\n",
    "        for i in range(n_cdf):\n",
    "            p = np.cumsum(stats.dirichlet.rvs(self.alpha*g_diff))\n",
    "            cdf_arr.append(CDF(grid,p))\n",
    "        \n",
    "        return cdf_arr\n",
    "    \n",
    "    def DrawCDFStick(self,n_cdf=1,e=0.001,n_max=1e4):\n",
    "        '''\n",
    "        Draw a CDF realization, using stick-breaking constructive method.\n",
    "        Stop occurs using error-tolerance stop.\n",
    "        '''\n",
    "        #generate lists to hold the relevant values\n",
    "        cdf_arr = []\n",
    "        beta = stats.beta(1,self.alpha)\n",
    "        \n",
    "        #start the primary cdf generation loop\n",
    "        for i in range(n_cdf):\n",
    "            x = []\n",
    "            p = []\n",
    "            z = []\n",
    "            z.append(beta.rvs())\n",
    "            x.append(self.g.rvs())\n",
    "            p.append(z[0])\n",
    "            \n",
    "            #iterate for stick breaking process with appropriate exit conditions\n",
    "            while (self.alpha/(1.+self.alpha))**len(x) > e and len(x) < n_max:\n",
    "                x.append(self.g.rvs())\n",
    "                this_z = beta.rvs()\n",
    "                this_w = np.prod(1.-np.array(z))\n",
    "                p.append(this_w * this_z)\n",
    "                \n",
    "                z.append(this_z)\n",
    "    \n",
    "                if len(x) >= n_max:\n",
    "                    print 'Max iterations exceeded, exiting generation loop'\n",
    "\n",
    "                \n",
    "            self.x = x\n",
    "            self.z = z\n",
    "            self.p = p\n",
    "                \n",
    "            sort_x = np.argsort(x)\n",
    "            x = np.array(x)[sort_x]\n",
    "            p = np.cumsum(np.array(p)[sort_x])\n",
    "            cdf_arr.append(CDF(x,p))\n",
    "            \n",
    "            \n",
    "        return cdf_arr\n",
    "    \n",
    "    def PlotCDFs(self,cdf_arr,grid=np.linspace(-4,4,100),**kwargs):\n",
    "        '''\n",
    "        Plot a list of CDFs for values of grid\n",
    "        Parameters:\n",
    "            cdf_arr: list of CDF objects\n",
    "            grid: x-grid for plotting\n",
    "        '''\n",
    "        fig,ax = plt.subplots()\n",
    "        ax.set_ylim(0.,1.)\n",
    "        \n",
    "        for i in cdf_arr:\n",
    "            p = map(i.GetProb,grid)\n",
    "            ax.plot(grid,p,**kwargs)\n",
    "        \n",
    "        \n",
    "class CDF(object):\n",
    "    '''\n",
    "    Class to hold a single 1D discrete, DP-generated CDF\n",
    "    '''\n",
    "    def __init__(self,x,p):\n",
    "        '''\n",
    "        Parameters:\n",
    "        x: n x 1 array where \n",
    "        p: n x 1 array which holds P(X < x)\n",
    "        '''\n",
    "        self.x = np.array(x)\n",
    "        self.cdf = np.array(p)\n",
    "        self.pdf = self.cdf - np.insert(self.cdf,0.,0.)[:-1]\n",
    "        \n",
    "    def GetProb(self,check_x):\n",
    "        '''\n",
    "        Return P(x < check_x)\n",
    "        '''\n",
    "        #if check_x is below the region where the CDF is defined, make sure to return 0.     \n",
    "        if np.all(check_x < self.x):\n",
    "            return 0.0\n",
    "                \n",
    "        if np.all(check_x > self.x):\n",
    "            return 1.0\n",
    "        \n",
    "        diff = check_x - self.x\n",
    "        mask = diff < 0.\n",
    "        \n",
    "        masked_diff = np.ma.masked_array(diff, mask)\n",
    "        return self.p[masked_diff.argmin()]\n",
    "    \n",
    "    def GetMean(self):\n",
    "        '''\n",
    "        Return the mean (weighted average) of the distributuion\n",
    "        '''\n",
    "        return np.sum(self.pdf * self.x)/np.sum(self.pdf)\n",
    "    \n",
    "    def GetSD(self):\n",
    "        '''\n",
    "        Return the weighted variance of the distribution\n",
    "        '''\n",
    "        return np.sum(self.pdf * (self.x - self.GetMean())**2)/np.sum(self.pdf)\n"
   ]
  },
  {
   "cell_type": "code",
   "execution_count": 255,
   "metadata": {
    "collapsed": false,
    "scrolled": true
   },
   "outputs": [],
   "source": [
    "dp = DP(alpha=1000.)\n",
    "cdf_arr = dp.DrawCDFFerg(n_cdf=1000)\n",
    "means = []\n",
    "stddevs = []\n",
    "for i in cdf_arr:\n",
    "    means.append(i.GetMean())\n",
    "    stddevs.append(i.GetSD())"
   ]
  },
  {
   "cell_type": "code",
   "execution_count": 256,
   "metadata": {
    "collapsed": false
   },
   "outputs": [
    {
     "data": {
      "text/plain": [
       "(array([   1.,    2.,    7.,    5.,   22.,   34.,   37.,   55.,   71.,\n",
       "          84.,   87.,   77.,   97.,  101.,   69.,   80.,   46.,   47.,\n",
       "          34.,   19.,   13.,    4.,    5.,    2.,    1.]),\n",
       " array([-0.05608742, -0.04818217, -0.04027691, -0.03237165, -0.0244664 ,\n",
       "        -0.01656114, -0.00865588, -0.00075063,  0.00715463,  0.01505989,\n",
       "         0.02296514,  0.0308704 ,  0.03877566,  0.04668091,  0.05458617,\n",
       "         0.06249143,  0.07039668,  0.07830194,  0.0862072 ,  0.09411245,\n",
       "         0.10201771,  0.10992297,  0.11782822,  0.12573348,  0.13363874,\n",
       "         0.141544  ]),\n",
       " <a list of 25 Patch objects>)"
      ]
     },
     "execution_count": 256,
     "metadata": {},
     "output_type": "execute_result"
    },
    {
     "data": {
      "image/png": "[encoded data removed]",
      "text/plain": [
       "<matplotlib.figure.Figure at 0x110408e50>"
      ]
     },
     "metadata": {},
     "output_type": "display_data"
    }
   ],
   "source": [
    "plt.hist(means,bins=25)"
   ]
  },
  {
   "cell_type": "code",
   "execution_count": 258,
   "metadata": {
    "collapsed": false
   },
   "outputs": [
    {
     "data": {
      "text/plain": [
       "array([-4.        , -3.91919192, -3.83838384, -3.75757576, -3.67676768,\n",
       "       -3.5959596 , -3.51515152, -3.43434343, -3.35353535, -3.27272727,\n",
       "       -3.19191919, -3.11111111, -3.03030303, -2.94949495, -2.86868687,\n",
       "       -2.78787879, -2.70707071, -2.62626263, -2.54545455, -2.46464646,\n",
       "       -2.38383838, -2.3030303 , -2.22222222, -2.14141414, -2.06060606,\n",
       "       -1.97979798, -1.8989899 , -1.81818182, -1.73737374, -1.65656566,\n",
       "       -1.57575758, -1.49494949, -1.41414141, -1.33333333, -1.25252525,\n",
       "       -1.17171717, -1.09090909, -1.01010101, -0.92929293, -0.84848485,\n",
       "       -0.76767677, -0.68686869, -0.60606061, -0.52525253, -0.44444444,\n",
       "       -0.36363636, -0.28282828, -0.2020202 , -0.12121212, -0.04040404,\n",
       "        0.04040404,  0.12121212,  0.2020202 ,  0.28282828,  0.36363636,\n",
       "        0.44444444,  0.52525253,  0.60606061,  0.68686869,  0.76767677,\n",
       "        0.84848485,  0.92929293,  1.01010101,  1.09090909,  1.17171717,\n",
       "        1.25252525,  1.33333333,  1.41414141,  1.49494949,  1.57575758,\n",
       "        1.65656566,  1.73737374,  1.81818182,  1.8989899 ,  1.97979798,\n",
       "        2.06060606,  2.14141414,  2.22222222,  2.3030303 ,  2.38383838,\n",
       "        2.46464646,  2.54545455,  2.62626263,  2.70707071,  2.78787879,\n",
       "        2.86868687,  2.94949495,  3.03030303,  3.11111111,  3.19191919,\n",
       "        3.27272727,  3.35353535,  3.43434343,  3.51515152,  3.5959596 ,\n",
       "        3.67676768,  3.75757576,  3.83838384,  3.91919192,  4.        ])"
      ]
     },
     "execution_count": 258,
     "metadata": {},
     "output_type": "execute_result"
    }
   ],
   "source": [
    "cdf_arr[0].x"
   ]
  },
  {
   "cell_type": "code",
   "execution_count": 238,
   "metadata": {
    "collapsed": false
   },
   "outputs": [],
   "source": [
    "class EmpericalDistribution(stats.rv_continuous):\n",
    "    \n",
    "    def SetParameters(self,x,p,d_type='cdf'):\n",
    "        p = np.array(p)[np.argsort(x)]\n",
    "        self.x = np.array(x)[np.argsort(x)]\n",
    "        \n",
    "        if d_type == 'pdf':\n",
    "            self.p = np.cumsum(p)\n",
    "        else:\n",
    "            self.p = p\n",
    "        \n",
    "        \n",
    "    \n",
    "    def _cdf(self,check_x):\n",
    "        if np.all(check_x < self.x):\n",
    "            return 0.0\n",
    "        \n",
    "        if np.all(check_x > self.x):\n",
    "            return 1.0\n",
    "        \n",
    "        diff = check_x - self.x\n",
    "        mask = diff < 0.\n",
    "        \n",
    "        masked_diff = np.ma.masked_array(diff, mask)\n",
    "        return self.p[masked_diff.argmin()]"
   ]
  },
  {
   "cell_type": "code",
   "execution_count": 109,
   "metadata": {
    "collapsed": false
   },
   "outputs": [
    {
     "data": {
      "text/plain": [
       "[0.2183850826968432,\n",
       " 0.78131196631067978,\n",
       " 0.19299689233354664,\n",
       " 0.010697301704192152,\n",
       " 0.0037585826834016633,\n",
       " 0.0094372690352094359,\n",
       " 0.001789514262302305,\n",
       " 6.777355704258306e-06,\n",
       " 4.3939264958602757e-07,\n",
       " 8.9026124561464268e-07]"
      ]
     },
     "execution_count": 109,
     "metadata": {},
     "output_type": "execute_result"
    }
   ],
   "source": [
    "dp.p"
   ]
  },
  {
   "cell_type": "code",
   "execution_count": 171,
   "metadata": {
    "collapsed": false
   },
   "outputs": [],
   "source": [
    "cdf = CDF(np.array([0,1,2,3]),np.array([0.1,0.3,0.95,1.0]))"
   ]
  },
  {
   "cell_type": "code",
   "execution_count": 154,
   "metadata": {
    "collapsed": false
   },
   "outputs": [
    {
     "name": "stdout",
     "output_type": "stream",
     "text": [
      "[-0.5 -1.5 -2.5 -3.5]\n",
      "[ True  True  True  True]\n",
      "[-- -- -- --]\n",
      "0\n"
     ]
    }
   ],
   "source": [
    "diff = -0.5 - np.array([0,1,2,3])\n",
    "print diff\n",
    "mask = diff < 0\n",
    "print mask\n",
    "masked_diff = np.ma.masked_array(diff,mask)\n",
    "print masked_diff\n",
    "print masked_diff.argmin()"
   ]
  },
  {
   "cell_type": "code",
   "execution_count": 64,
   "metadata": {
    "collapsed": false
   },
   "outputs": [],
   "source": [
    "g_grid = rv.cdf(foo)\n",
    "g_diff = g_grid[1:] - g_grid[:-1]\n",
    "p = stats.dirichlet.rvs(g_diff * 0.1)"
   ]
  },
  {
   "cell_type": "code",
   "execution_count": 32,
   "metadata": {
    "collapsed": false
   },
   "outputs": [
    {
     "data": {
      "text/plain": [
       "0.0"
      ]
     },
     "execution_count": 32,
     "metadata": {},
     "output_type": "execute_result"
    }
   ],
   "source": [
    "len(cdf_arr[0].x)\n",
    "(10./(10.+1))**10000"
   ]
  },
  {
   "cell_type": "code",
   "execution_count": 67,
   "metadata": {
    "collapsed": false
   },
   "outputs": [
    {
     "data": {
      "text/plain": [
       "[<matplotlib.lines.Line2D at 0x10bbf0310>]"
      ]
     },
     "execution_count": 67,
     "metadata": {},
     "output_type": "execute_result"
    },
    {
     "data": {
      "image/png": "[encoded data removed]",
      "text/plain": [
       "<matplotlib.figure.Figure at 0x10baf8c90>"
      ]
     },
     "metadata": {},
     "output_type": "display_data"
    }
   ],
   "source": [
    "plt.plot(np.linspace(-4,4,99),sum)"
   ]
  },
  {
   "cell_type": "code",
   "execution_count": 81,
   "metadata": {
    "collapsed": false
   },
   "outputs": [
    {
     "data": {
      "text/plain": [
       "[<matplotlib.lines.Line2D at 0x10d00ea10>]"
      ]
     },
     "execution_count": 81,
     "metadata": {},
     "output_type": "execute_result"
    },
    {
     "data": {
      "image/png": "[encoded data removed]",
      "text/plain": [
       "<matplotlib.figure.Figure at 0x10d00ea90>"
      ]
     },
     "metadata": {},
     "output_type": "display_data"
    }
   ],
   "source": [
    "a = 1\n",
    "b = 1.5\n",
    "foo = np.linspace(0,1,100)\n",
    "beta = stats.beta(a,b)\n",
    "plt.plot(foo,beta.pdf(foo))\n",
    "plt.plot(foo,stats.beta.pdf(foo,a,b))"
   ]
  },
  {
   "cell_type": "code",
   "execution_count": null,
   "metadata": {
    "collapsed": true
   },
   "outputs": [],
   "source": []
  }
 ],
 "metadata": {
  "kernelspec": {
   "display_name": "Python 2",
   "language": "python",
   "name": "python2"
  },
  "language_info": {
   "codemirror_mode": {
    "name": "ipython",
    "version": 2
   },
   "file_extension": ".py",
   "mimetype": "text/x-python",
   "name": "python",
   "nbconvert_exporter": "python",
   "pygments_lexer": "ipython2",
   "version": "2.7.10"
  }
 },
 "nbformat": 4,
 "nbformat_minor": 0
}
