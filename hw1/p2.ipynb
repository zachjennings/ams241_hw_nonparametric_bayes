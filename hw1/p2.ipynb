{
 "cells": [
  {
   "cell_type": "code",
   "execution_count": 1,
   "metadata": {
    "collapsed": false
   },
   "outputs": [],
   "source": [
    "%matplotlib inline\n",
    "import numpy as np\n",
    "import scipy.stats as stats\n",
    "import matplotlib.pyplot as plt"
   ]
  },
  {
   "cell_type": "markdown",
   "metadata": {},
   "source": [
    "AMS 241, Problem Set 1, Problem 2\n",
    "\n",
    "Zachary Jennings"
   ]
  },
  {
   "cell_type": "markdown",
   "metadata": {},
   "source": [
    "Consider a DP prior $DP(\\alpha,G_0)$ with $G_0 = N(0,1)$. "
   ]
  },
  {
   "cell_type": "markdown",
   "metadata": {},
   "source": []
  },
  {
   "cell_type": "code",
   "execution_count": 385,
   "metadata": {
    "collapsed": false
   },
   "outputs": [],
   "source": [
    "class DP(object):\n",
    "    '''\n",
    "    Class to hold a DP prior.\n",
    "    '''\n",
    "    def __init__(self,g='foo',func_type='normal',**kwargs):\n",
    "        '''\n",
    "        Parameters:\n",
    "        g: scipy.stats object. if not specified, function type is used\n",
    "        alpha: precision parameter for dirichlet distribution\n",
    "        '''            \n",
    "        #check if custom function is passed, else use that specified\n",
    "        if g == 'foo':\n",
    "            if func_type == 'normal':\n",
    "                self.g = stats.norm(**kwargs)\n",
    "            elif func_type == 'uniform':\n",
    "                self.g = stats.uniform(**kwargs)\n",
    "            else:\n",
    "                print 'Error: No valid function supplied or specified.'\n",
    "                \n",
    "        else:\n",
    "            self.g = g\n",
    "        \n",
    "        \n",
    "    def DrawCDFFerg(self,alpha=1.,grid=np.linspace(-4,4,100),n_cdf=1):\n",
    "        '''\n",
    "        Draw a CDF realization, using method of Fergueson 1973\n",
    "        Parameters:\n",
    "            grid: n x 1 space of values on which to draw Dirichlet values\n",
    "            \n",
    "            n_cdf: int\n",
    "                number of CDFs to generate\n",
    "        \n",
    "        '''\n",
    "        g_draws = self.g.cdf(grid)\n",
    "        g_draws = np.insert(g_draws,grid.size,1.)\n",
    "        g_diff = g_draws[1:] - g_draws[:-1]\n",
    "        \n",
    "        cdf_arr = []\n",
    "        for i in range(n_cdf):\n",
    "            p = stats.dirichlet.rvs(alpha*g_diff)\n",
    "            p = np.insert(p,0.,0.)\n",
    "            p = np.cumsum(p)\n",
    "            cdf_arr.append(CDF(grid,p))\n",
    "        \n",
    "        return cdf_arr\n",
    "    \n",
    "    def DrawCDFStick(self,alpha=1.,n_cdf=1,e=0.001,n_max=1e4):\n",
    "        '''\n",
    "        Draw a CDF realization, using stick-breaking constructive method.\n",
    "        Stop occurs using error-tolerance stop.\n",
    "        '''\n",
    "        #generate lists to hold the relevant values\n",
    "        cdf_arr = []\n",
    "        beta = stats.beta(1,alpha)\n",
    "        \n",
    "        #start the primary cdf generation loop\n",
    "        for i in range(n_cdf):\n",
    "            x = []\n",
    "            p = []\n",
    "            z = []\n",
    "            z.append(beta.rvs())\n",
    "            x.append(self.g.rvs())\n",
    "            p.append(z[0])\n",
    "            \n",
    "            #iterate for stick breaking process with appropriate exit conditions\n",
    "            while (alpha/(1.+alpha))**len(x) > e and len(x) < n_max:\n",
    "                x.append(self.g.rvs())\n",
    "                this_z = beta.rvs()\n",
    "                this_w = np.prod(1.-np.array(z))\n",
    "                p.append(this_w * this_z)\n",
    "                \n",
    "                z.append(this_z)\n",
    "    \n",
    "                if len(x) >= n_max:\n",
    "                    print 'Max iterations exceeded, exiting generation loop'\n",
    "\n",
    "                \n",
    "            self.x = x\n",
    "            self.z = z\n",
    "            self.p = p\n",
    "                \n",
    "            sort_x = np.argsort(x)\n",
    "            x = np.array(x)[sort_x]\n",
    "            p = np.insert(p,0.,0.)\n",
    "            p = np.cumsum(np.array(p)[sort_x])\n",
    "            cdf_arr.append(CDF(x,p))\n",
    "            \n",
    "            \n",
    "        return cdf_arr\n",
    "    \n",
    "    def MDPGamma(self,grid=np.linspace(-4,4,100),a=1.,b=1.,n_cdf=1):\n",
    "        gamma = stats.gamma(a,b)\n",
    "        cdf_arr = []\n",
    "\n",
    "        for i in np.arange(n_cdf):\n",
    "            alpha = gamma.rvs()\n",
    "            draw_cdf = self.DrawCDFFerg(alpha=alpha,n_cdf=1,grid=grid)[0]\n",
    "            cdf_arr.append(draw_cdf)\n",
    "        \n",
    "        return cdf_arr\n",
    "    \n",
    "    def PlotCDFs(self,cdf_arr,grid=np.linspace(-4,4,100),**kwargs):\n",
    "        '''\n",
    "        Plot a list of CDFs for values of grid\n",
    "        Parameters:\n",
    "            cdf_arr: list of CDF objects\n",
    "            grid: x-grid for plotting\n",
    "        '''\n",
    "        fig,ax = plt.subplots()\n",
    "        ax.set_ylim(0.,1.)\n",
    "        \n",
    "        for i in cdf_arr:\n",
    "            p = map(i.GetProb,grid)\n",
    "            ax.plot(grid,p,**kwargs)\n",
    "        \n",
    "        \n",
    "class CDF(object):\n",
    "    '''\n",
    "    Class to hold a single 1D discrete, DP-generated CDF\n",
    "    '''\n",
    "    def __init__(self,x,p):\n",
    "        '''\n",
    "        Parameters:\n",
    "        x: n x 1 array where \n",
    "        p: (n+1) x 1 array which holds P(X < x)\n",
    "        '''\n",
    "        self.x = np.array(x)\n",
    "        self.cdf = np.array(p)\n",
    "        #ins_cdf = np.insert(self.cdf,0,0.)\n",
    "        self.pdf = self.cdf[1:] - self.cdf[:-1]\n",
    "        \n",
    "    def GetProb(self,check_x):\n",
    "        '''\n",
    "        Return P(x < check_x)\n",
    "        '''\n",
    "        #if check_x is below the region where the CDF is defined, make sure to return 0.     \n",
    "        if np.all(check_x < self.x):\n",
    "            return 0.0\n",
    "                \n",
    "        if np.all(check_x > self.x):\n",
    "            return 1.0\n",
    "        \n",
    "        diff = check_x - self.x\n",
    "        mask = diff < 0.\n",
    "        \n",
    "        masked_diff = np.ma.masked_array(diff, mask)\n",
    "        return self.cdf[masked_diff.argmin()+1]\n",
    "    \n",
    "    def GetMean(self):\n",
    "        '''\n",
    "        Return the mean (weighted average) of the distributuion\n",
    "        '''\n",
    "        return np.sum(self.pdf * self.x)\n",
    "    \n",
    "    def GetSD(self):\n",
    "        '''|\n",
    "        Return the weighted variance of the distribution\n",
    "        '''\n",
    "        return np.sum(self.pdf * self.x**2) - self.GetMean()**2\n",
    "        \n",
    "        #return np.sum(self.pdf * (self.x - self.GetMean())**2)/((self.pdf.size - 1.)/(self.pdf.size)*np.sum(self.pdf))\n"
   ]
  },
  {
   "cell_type": "code",
   "execution_count": 392,
   "metadata": {
    "collapsed": false,
    "scrolled": true
   },
   "outputs": [
    {
     "name": "stdout",
     "output_type": "stream",
     "text": [
      "0.14755061033\n"
     ]
    }
   ],
   "source": [
    "dp = DP()\n",
    "cdf_arr = dp.MDPGamma(n_cdf=30,a=1,b=1)\n",
    "means = []\n",
    "stddevs = []\n",
    "for i in cdf_arr:\n",
    "    means.append(i.GetMean())\n",
    "    stddevs.append(i.GetSD())\n",
    "print np.median(means)"
   ]
  },
  {
   "cell_type": "code",
   "execution_count": 393,
   "metadata": {
    "collapsed": false
   },
   "outputs": [
    {
     "data": {
      "image/png": "[encoded data removed]",
      "text/plain": [
       "<matplotlib.figure.Figure at 0x110565650>"
      ]
     },
     "metadata": {},
     "output_type": "display_data"
    }
   ],
   "source": [
    "dp.PlotCDFs(cdf_arr)"
   ]
  },
  {
   "cell_type": "code",
   "execution_count": 262,
   "metadata": {
    "collapsed": false
   },
   "outputs": [
    {
     "data": {
      "text/plain": [
       "[<matplotlib.lines.Line2D at 0x10da10190>]"
      ]
     },
     "execution_count": 262,
     "metadata": {},
     "output_type": "execute_result"
    },
    {
     "data": {
      "image/png": "[encoded data removed]",
      "text/plain": [
       "<matplotlib.figure.Figure at 0x10d861650>"
      ]
     },
     "metadata": {},
     "output_type": "display_data"
    }
   ],
   "source": [
    "plt.plot(cdf_arr[1].x,cdf_arr[1].cdf[1:])"
   ]
  },
  {
   "cell_type": "code",
   "execution_count": 353,
   "metadata": {
    "collapsed": false
   },
   "outputs": [],
   "source": [
    "cdf_arr = []\n",
    "grid = np.linspace(-4,4,100)\n",
    "med_arr = []\n",
    "stddev_arr = []\n",
    "for j in range(50):\n",
    "    means = []\n",
    "    stddev = []\n",
    "    cdf_arr = []\n",
    "    \n",
    "    for i in range(1000):\n",
    "        x = stats.norm.rvs(size=100)\n",
    "        x = np.sort(x)\n",
    "        y = np.linspace(0.,1.,101)\n",
    "        cdf_arr.append(CDF(x,y))\n",
    "        means.append(cdf_arr[i].GetMean())\n",
    "        stddev.append(cdf_arr[i].GetSD())\n",
    "        \n",
    "    med_arr.append(np.median(means))\n",
    "    stddev_arr.append(np.median(stddev))\n"
   ]
  },
  {
   "cell_type": "code",
   "execution_count": 83,
   "metadata": {
    "collapsed": false
   },
   "outputs": [
    {
     "name": "stdout",
     "output_type": "stream",
     "text": [
      "[  3.25578215e-18   2.82835379e-24   4.20527855e-07   4.88049796e-19\n",
      "   6.46182301e-12   2.14117372e-07   8.94515352e-06   2.54985947e-04\n",
      "   3.05321663e-04   5.59104615e-10   2.16793406e-05   4.60126088e-04\n",
      "   5.73005726e-04   9.42933946e-05   3.28489555e-04   1.35049258e-04\n",
      "   1.34988171e-03   3.00147177e-03   2.27591395e-03   1.30576421e-03\n",
      "   3.38103647e-03   1.03868344e-03   2.68944825e-03   6.54741632e-03\n",
      "   1.05916909e-02   2.76308748e-03   3.68274942e-03   6.57318133e-03\n",
      "   1.01000596e-02   1.36014984e-02   4.52641529e-03   1.46116745e-02\n",
      "   1.68564196e-02   9.20372427e-03   1.86540853e-02   1.61757737e-02\n",
      "   1.82539802e-02   2.35110357e-02   2.76798819e-02   2.52390408e-02\n",
      "   2.23895349e-02   2.28074022e-02   3.72845177e-02   3.00035850e-02\n",
      "   3.21814549e-02   2.48242458e-02   3.43607473e-02   2.51439391e-02\n",
      "   3.36968759e-02   3.47058469e-02   3.80207036e-02   2.75784732e-02\n",
      "   2.91625307e-02   2.37799528e-02   2.35281060e-02   2.92920591e-02\n",
      "   2.01382774e-02   3.15985896e-02   2.35194401e-02   3.66463103e-02\n",
      "   2.21126407e-02   1.63288727e-02   2.04444812e-02   8.36309464e-03\n",
      "   1.25614035e-02   8.93736106e-03   8.63276619e-03   1.58009519e-02\n",
      "   5.72390122e-03   6.72616774e-03   1.66803089e-03   9.44596368e-03\n",
      "   6.24749073e-03   5.97641575e-03   5.07439302e-03   3.33419053e-03\n",
      "   1.10254250e-03   3.67544859e-03   7.00953866e-04   1.40822424e-03\n",
      "   3.58647687e-04   9.68753274e-04   1.38584951e-03   9.77754913e-06\n",
      "   3.29353221e-03   2.43598408e-04   1.48770661e-05   1.03622220e-05\n",
      "   3.51825123e-07   2.93098879e-14   1.11022302e-16   0.00000000e+00\n",
      "   2.97716086e-03   1.88264444e-08   0.00000000e+00   6.47218834e-10\n",
      "   1.23487192e-05   0.00000000e+00   3.88446959e-07   1.11022302e-16]\n",
      "[ 0.  0.  0.  0.  0.  0.  0.  0.  0.  0.  0.  0.  0.  0.  0.  0.  0.  0.\n",
      "  0.  0.  0.  0.  0.  0.  0.  0.  0.  0.  0.  0.  0.  0.  0.  0.  0.  0.\n",
      "  0.  0.  0.  0.  0.  0.  0.  0.  0.  0.  0.  0.  0.  0.  0.  0.  0.  0.\n",
      "  0.  0.  0.  0.  0.  0.  0.  0.  0.  0.  0.  0.  0.  0.  0.  0.  0.  0.\n",
      "  0.  0.  0.  0.  0.  0.  0.  0.  0.  0.  0.  0.  0.  0.  0.  0.  0.  0.\n",
      "  0.  0.  0.  0.  0.  0.  0.  0.  0.  0.]\n"
     ]
    }
   ],
   "source": [
    "foo = np.insert(cdf_arr[0].cdf,cdf_arr[0].cdf.size,1.)\n",
    "print foo[1:] - foo[:-1]\n",
    "print cdf_arr[0].cdf[:] - np.insert(cdf_arr[0].cdf,cdf_arr[0].cdf.size,1.)[:-1]"
   ]
  },
  {
   "cell_type": "code",
   "execution_count": 73,
   "metadata": {
    "collapsed": false
   },
   "outputs": [
    {
     "data": {
      "text/plain": [
       "-0.13103727050432837"
      ]
     },
     "execution_count": 73,
     "metadata": {},
     "output_type": "execute_result"
    }
   ],
   "source": [
    "pdf = foo[1:] - foo[:-1]\n",
    "np.sum(pdf * cdf_arr[0].x)"
   ]
  },
  {
   "cell_type": "code",
   "execution_count": 52,
   "metadata": {
    "collapsed": false
   },
   "outputs": [
    {
     "name": "stdout",
     "output_type": "stream",
     "text": [
      "100\n"
     ]
    }
   ],
   "source": [
    "grid = np.linspace(-4,4,100)\n",
    "g_draws = stats.norm.cdf(grid)\n",
    "g_draws = np.insert(g_draws,grid.size,1.)\n",
    "g_diff = g_draws[1:] - g_draws[:-1]\n",
    "print g_diff.size"
   ]
  },
  {
   "cell_type": "code",
   "execution_count": 238,
   "metadata": {
    "collapsed": false
   },
   "outputs": [],
   "source": [
    "class EmpericalDistribution(stats.rv_continuous):\n",
    "    \n",
    "    def SetParameters(self,x,p,d_type='cdf'):\n",
    "        p = np.array(p)[np.argsort(x)]\n",
    "        self.x = np.array(x)[np.argsort(x)]\n",
    "        \n",
    "        if d_type == 'pdf':\n",
    "            self.p = np.cumsum(p)\n",
    "        else:\n",
    "            self.p = p\n",
    "        \n",
    "        \n",
    "    \n",
    "    def _cdf(self,check_x):\n",
    "        if np.all(check_x < self.x):\n",
    "            return 0.0\n",
    "        \n",
    "        if np.all(check_x > self.x):\n",
    "            return 1.0\n",
    "        \n",
    "        diff = check_x - self.x\n",
    "        mask = diff < 0.\n",
    "        \n",
    "        masked_diff = np.ma.masked_array(diff, mask)\n",
    "        return self.p[masked_diff.argmin()]"
   ]
  },
  {
   "cell_type": "code",
   "execution_count": 109,
   "metadata": {
    "collapsed": false
   },
   "outputs": [
    {
     "data": {
      "text/plain": [
       "[0.2183850826968432,\n",
       " 0.78131196631067978,\n",
       " 0.19299689233354664,\n",
       " 0.010697301704192152,\n",
       " 0.0037585826834016633,\n",
       " 0.0094372690352094359,\n",
       " 0.001789514262302305,\n",
       " 6.777355704258306e-06,\n",
       " 4.3939264958602757e-07,\n",
       " 8.9026124561464268e-07]"
      ]
     },
     "execution_count": 109,
     "metadata": {},
     "output_type": "execute_result"
    }
   ],
   "source": [
    "dp.p"
   ]
  },
  {
   "cell_type": "code",
   "execution_count": 171,
   "metadata": {
    "collapsed": false
   },
   "outputs": [],
   "source": [
    "cdf = CDF(np.array([0,1,2,3]),np.array([0.1,0.3,0.95,1.0]))"
   ]
  },
  {
   "cell_type": "code",
   "execution_count": 154,
   "metadata": {
    "collapsed": false
   },
   "outputs": [
    {
     "name": "stdout",
     "output_type": "stream",
     "text": [
      "[-0.5 -1.5 -2.5 -3.5]\n",
      "[ True  True  True  True]\n",
      "[-- -- -- --]\n",
      "0\n"
     ]
    }
   ],
   "source": [
    "diff = -0.5 - np.array([0,1,2,3])\n",
    "print diff\n",
    "mask = diff < 0\n",
    "print mask\n",
    "masked_diff = np.ma.masked_array(diff,mask)\n",
    "print masked_diff\n",
    "print masked_diff.argmin()"
   ]
  },
  {
   "cell_type": "code",
   "execution_count": 64,
   "metadata": {
    "collapsed": false
   },
   "outputs": [],
   "source": [
    "g_grid = rv.cdf(foo)\n",
    "g_diff = g_grid[1:] - g_grid[:-1]\n",
    "p = stats.dirichlet.rvs(g_diff * 0.1)"
   ]
  },
  {
   "cell_type": "code",
   "execution_count": 32,
   "metadata": {
    "collapsed": false
   },
   "outputs": [
    {
     "data": {
      "text/plain": [
       "0.0"
      ]
     },
     "execution_count": 32,
     "metadata": {},
     "output_type": "execute_result"
    }
   ],
   "source": [
    "len(cdf_arr[0].x)\n",
    "(10./(10.+1))**10000"
   ]
  },
  {
   "cell_type": "code",
   "execution_count": 67,
   "metadata": {
    "collapsed": false
   },
   "outputs": [
    {
     "data": {
      "text/plain": [
       "[<matplotlib.lines.Line2D at 0x10bbf0310>]"
      ]
     },
     "execution_count": 67,
     "metadata": {},
     "output_type": "execute_result"
    },
    {
     "data": {
      "image/png": "[encoded data removed]",
      "text/plain": [
       "<matplotlib.figure.Figure at 0x10baf8c90>"
      ]
     },
     "metadata": {},
     "output_type": "display_data"
    }
   ],
   "source": [
    "plt.plot(np.linspace(-4,4,99),sum)"
   ]
  },
  {
   "cell_type": "code",
   "execution_count": 81,
   "metadata": {
    "collapsed": false
   },
   "outputs": [
    {
     "data": {
      "text/plain": [
       "[<matplotlib.lines.Line2D at 0x10d00ea10>]"
      ]
     },
     "execution_count": 81,
     "metadata": {},
     "output_type": "execute_result"
    },
    {
     "data": {
      "image/png": "[encoded data removed]",
      "text/plain": [
       "<matplotlib.figure.Figure at 0x10d00ea90>"
      ]
     },
     "metadata": {},
     "output_type": "display_data"
    }
   ],
   "source": [
    "a = 1\n",
    "b = 1.5\n",
    "foo = np.linspace(0,1,100)\n",
    "beta = stats.beta(a,b)\n",
    "plt.plot(foo,beta.pdf(foo))\n",
    "plt.plot(foo,stats.beta.pdf(foo,a,b))"
   ]
  },
  {
   "cell_type": "code",
   "execution_count": null,
   "metadata": {
    "collapsed": true
   },
   "outputs": [],
   "source": []
  }
 ],
 "metadata": {
  "kernelspec": {
   "display_name": "Python 2",
   "language": "python",
   "name": "python2"
  },
  "language_info": {
   "codemirror_mode": {
    "name": "ipython",
    "version": 2
   },
   "file_extension": ".py",
   "mimetype": "text/x-python",
   "name": "python",
   "nbconvert_exporter": "python",
   "pygments_lexer": "ipython2",
   "version": "2.7.10"
  }
 },
 "nbformat": 4,
 "nbformat_minor": 0
}
