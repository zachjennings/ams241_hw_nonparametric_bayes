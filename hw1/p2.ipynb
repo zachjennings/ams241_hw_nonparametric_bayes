{
 "cells": [
  {
   "cell_type": "code",
   "execution_count": 1,
   "metadata": {
    "collapsed": false
   },
   "outputs": [],
   "source": [
    "%matplotlib inline\n",
    "import numpy as np\n",
    "import scipy.stats as stats\n",
    "import matplotlib.pyplot as plt"
   ]
  },
  {
   "cell_type": "markdown",
   "metadata": {},
   "source": [
    "AMS 241, Problem Set 1, Problem 2\n",
    "\n",
    "Zachary Jennings"
   ]
  },
  {
   "cell_type": "markdown",
   "metadata": {},
   "source": [
    "Consider a DP prior $DP(\\alpha,G_0)$ with $G_0 = N(0,1)$. "
   ]
  },
  {
   "cell_type": "markdown",
   "metadata": {},
   "source": []
  },
  {
   "cell_type": "code",
   "execution_count": 143,
   "metadata": {
    "collapsed": true
   },
   "outputs": [],
   "source": [
    "#Data generation for problem 3\n",
    "def gen_single(n):\n",
    "    return stats.norm.rvs(size=n)\n",
    "\n",
    "def gen_mixture(n):\n",
    "    #generate the proportions of mixtures\n",
    "    gen_select = stats.uniform.rvs(size=n)\n",
    "    mix_1 = np.sum(gen_select < 0.5)\n",
    "    mix_2 = np.sum((gen_select < 0.8) & (gen_select > 0.5))\n",
    "    mix_3 = np.sum(gen_select > 0.8)\n",
    "    \n",
    "    #generate the actual distributions\n",
    "    data = np.array([])\n",
    "    data = np.append(data,stats.norm.rvs(loc=-2.5,scale=0.5,size=mix_1))\n",
    "    data= np.append(data,stats.norm.rvs(loc=0.5,scale=0.7,size=mix_2))\n",
    "    data = np.append(data,stats.norm.rvs(loc=1.5,scale=2,size=mix_3))\n",
    "    return data\n"
   ]
  },
  {
   "cell_type": "code",
   "execution_count": 278,
   "metadata": {
    "collapsed": false
   },
   "outputs": [],
   "source": [
    "class DP(object):\n",
    "    '''\n",
    "    Class to hold a DP prior.\n",
    "    '''\n",
    "    def __init__(self,g='foo',func_type='normal',**kwargs):\n",
    "        '''\n",
    "        Parameters:\n",
    "        g: scipy.stats object. if not specified, function type is used\n",
    "        alpha: precision parameter for dirichlet distribution\n",
    "        '''            \n",
    "        #check if custom function is passed, else use that specified\n",
    "        if g == 'foo':\n",
    "            if func_type == 'normal':\n",
    "                self.g = stats.norm(**kwargs)\n",
    "            elif func_type == 'uniform':\n",
    "                self.g = stats.uniform(**kwargs)\n",
    "            else:\n",
    "                print 'Error: No valid function supplied or specified.'\n",
    "                \n",
    "        else:\n",
    "            self.g = g\n",
    "        \n",
    "        \n",
    "    def draw_cdf_ferg(self,alpha=1.,grid=np.linspace(-6,6,1000),n_cdf=1,g_0=None):\n",
    "        '''\n",
    "        Draw a CDF realization, using method of Fergueson 1973\n",
    "        Parameters:\n",
    "            grid: n x 1 space of values on which to draw Dirichlet values\n",
    "            \n",
    "            n_cdf: int\n",
    "                number of CDFs to generate\n",
    "                \n",
    "            g_0: if supplied, function g_0 to draw x values from\n",
    "        \n",
    "        '''\n",
    "        if g_0 is None:\n",
    "            g_0 = self.g\n",
    "    \n",
    "        g_draws = g_0.cdf(grid)\n",
    "        g_draws = np.insert(g_draws,grid.size,1.)\n",
    "        g_diff = g_draws[1:] - g_draws[:-1]\n",
    "        \n",
    "        cdf_arr = []\n",
    "        for i in range(n_cdf):\n",
    "            p = stats.dirichlet.rvs(alpha*g_diff)\n",
    "            p = np.insert(p,0.,0.)\n",
    "            p = np.cumsum(p)\n",
    "            cdf_arr.append(CDF(grid,p))\n",
    "        \n",
    "        return cdf_arr\n",
    "    \n",
    "    def draw_cdf_stick(self,alpha=1.,n_cdf=1,e=0.001,n_max=1e4,g_0=None):\n",
    "        '''\n",
    "        Draw a CDF realization, using stick-breaking constructive method.\n",
    "        Stop occurs using error-tolerance stop.\n",
    "        '''\n",
    "        if g_0 is None:\n",
    "            g_0 = self.g\n",
    "        #generate lists to hold the relevant values\n",
    "        cdf_arr = []\n",
    "        beta = stats.beta(1,alpha)\n",
    "        \n",
    "        #start the primary cdf generation loop\n",
    "        for i in range(n_cdf):\n",
    "            x = []\n",
    "            p = []\n",
    "            z = []\n",
    "            z.append(beta.rvs())\n",
    "            x.append(g_0.rvs())\n",
    "            p.append(z[0])\n",
    "            \n",
    "            #iterate for stick breaking process with appropriate exit conditions\n",
    "            stop_point = (alpha/(1.+alpha))**len(x)\n",
    "            while stop_point > e and len(x) < n_max:\n",
    "                x.append(g_0.rvs())\n",
    "                this_z = beta.rvs()\n",
    "                this_w = np.prod(1.-np.array(z))\n",
    "                p.append(this_w * this_z)\n",
    "                \n",
    "                z.append(this_z)\n",
    "    \n",
    "                if len(x) >= n_max:\n",
    "                    print 'Max iterations exceeded, exiting generation loop'\n",
    "\n",
    "                \n",
    "            self.x = x\n",
    "            self.z = z\n",
    "            self.p = p\n",
    "                \n",
    "            sort_x = np.argsort(x)\n",
    "            x = np.array(x)[sort_x]\n",
    "            p = np.insert(p,0.,0.)\n",
    "            p = np.cumsum(np.array(p)[sort_x])\n",
    "            cdf_arr.append(CDF(x,p))\n",
    "            \n",
    "            \n",
    "        return cdf_arr\n",
    "    \n",
    "    def mdp_gamma(self,grid=np.linspace(-4,4,100),a=1.,b=1.,n_cdf=1):\n",
    "        gamma = stats.gamma(a,b)\n",
    "        cdf_arr = []\n",
    "\n",
    "        for i in np.arange(n_cdf):\n",
    "            alpha = gamma.rvs()\n",
    "            draw_cdf = self.draw_cdf_ferg(alpha=alpha,n_cdf=1,grid=grid)[0]\n",
    "            cdf_arr.append(draw_cdf)\n",
    "        \n",
    "        return cdf_arr\n",
    "    \n",
    "    def plot_cdfs(self,cdf_arr,ax=None,grid=np.linspace(-4,4,200),**kwargs):\n",
    "        '''\n",
    "        Plot a list of CDFs for values of grid\n",
    "        Parameters:\n",
    "            cdf_arr: list of CDF objects\n",
    "            grid: x-grid for plotting\n",
    "        '''\n",
    "        if ax is None:\n",
    "            fig,ax = plt.subplots()\n",
    "        ax.set_ylim(0.,1.)\n",
    "        \n",
    "        for i in cdf_arr:\n",
    "            p = map(i.get_prob,grid)\n",
    "            ax.plot(grid,p,**kwargs)\n",
    "            \n",
    "    def post_inf(self,emp,g_0,alpha=1.,n_cdf=1,**kwargs):\n",
    "        '''\n",
    "        Return draw of posterior distribution\n",
    "\n",
    "        Parameters:\n",
    "            emp: CDF object containing emperical cdf of data\n",
    "            g_0 scipy.stats object\n",
    "        '''\n",
    "        mix = MixFunction(emp,g_0,alpha)\n",
    "        alpha_prime = emp.x.size + alpha\n",
    "        draws = self.draw_cdf_ferg(alpha=alpha_prime,n_cdf=n_cdf,g_0=mix,**kwargs)\n",
    "        return draws\n",
    "    \n",
    "            \n",
    "class MixFunction(object):\n",
    "    '''\n",
    "    Class to hold two emperical CDFs.\n",
    "    \n",
    "    Parameters:\n",
    "        emp: emperical CDF\n",
    "        g_0: \"prior\" distribution, scipy.stats.continuous_rv\n",
    "        \n",
    "    Methods:\n",
    "        RV: draw n random variables\n",
    "        CDF: return the CDF at a given X of the mixture distribution\n",
    "    '''\n",
    "    def __init__(self,emp,g_0,alpha):\n",
    "        self.emp = emp\n",
    "        self.g_0 = g_0\n",
    "        self.alpha = alpha\n",
    "        \n",
    "    def rvs(self,size=1):\n",
    "        emp_weight = self.emp.x.size / (self.alpha+self.emp.x.size)\n",
    "        mixture = stats.uniform.rvs(size=size)\n",
    "        if np.sum(mixture < emp_weight) > 0:\n",
    "            emp_draws = self.emp.rvs(size=np.sum(mixture < emp_weight))\n",
    "        else:\n",
    "            emp_draws = []\n",
    "        if np.sum(mixture > emp_weight) > 0:\n",
    "            prior_draws = self.g_0.rvs(size=np.sum(mixture > emp_weight))\n",
    "        else:\n",
    "            prior_draws = []\n",
    "        return np.concatenate([emp_draws,prior_draws])\n",
    "\n",
    "    def cdf(self,check_x):\n",
    "        cdf_emp = np.array(map(self.emp.get_prob,check_x))\n",
    "        cdf_prior = self.g_0.cdf(check_x)\n",
    "\n",
    "        emp_weight = self.emp.x.size / (self.alpha+self.emp.x.size)\n",
    "        prior_weight = 1.-emp_weight\n",
    "        \n",
    "        return cdf_emp * emp_weight + cdf_prior * prior_weight\n",
    "\n",
    "    \n",
    "class CDF(object):\n",
    "    '''\n",
    "    Class to hold a single 1D discrete, DP-generated CDF\n",
    "    '''\n",
    "    def __init__(self,x,p):\n",
    "        '''\n",
    "        Parameters:\n",
    "        x: n x 1 array where \n",
    "        p: (n+1) x 1 array which holds P(X < x)\n",
    "        '''\n",
    "        self.x = np.array(x)\n",
    "        self.cdf = np.array(p)\n",
    "        #ins_cdf = np.insert(self.cdf,0,0.)\n",
    "        self.pdf = self.cdf[1:] - self.cdf[:-1]\n",
    "        \n",
    "    def get_prob(self,check_x):\n",
    "        '''\n",
    "        Return P(x < check_x)\n",
    "        '''\n",
    "        #if check_x is below the region where the CDF is defined, make sure to return 0.     \n",
    "        if np.all(check_x < self.x):\n",
    "            return 0.0\n",
    "                \n",
    "        if np.all(check_x > self.x):\n",
    "            return 1.0\n",
    "        \n",
    "        diff = check_x - self.x\n",
    "        mask = diff < 0.\n",
    "        \n",
    "        masked_diff = np.ma.masked_array(diff, mask)\n",
    "        return self.cdf[masked_diff.argmin()+1]\n",
    "    \n",
    "    def rvs(self,size=1):\n",
    "        '''\n",
    "        Parameters:\n",
    "            size: int, number of rvs desired\n",
    "            \n",
    "        Returns:\n",
    "            RVs drawn from cumulative distribution\n",
    "        '''\n",
    "        probs = np.array(stats.uniform.rvs(size=size))\n",
    "        rvs = []\n",
    "        for i in probs:\n",
    "            rvs.append(self.x[np.argmin(np.abs(self.cdf[:-1] - i))])\n",
    "            \n",
    "        return rvs\n",
    "    \n",
    "    def get_mean(self):\n",
    "        '''\n",
    "        Return the mean (weighted average) of the distributuion\n",
    "        '''\n",
    "        return np.sum(self.pdf * self.x)\n",
    "    \n",
    "    def get_sd(self):\n",
    "        '''|\n",
    "        Return the weighted variance of the distribution\n",
    "        '''\n",
    "        return np.sum(self.pdf * self.x**2) - self.GetMean()**2\n",
    "        \n",
    "        #return np.sum(self.pdf * (self.x - self.GetMean())**2)/((self.pdf.size - 1.)/(self.pdf.size)*np.sum(self.pdf))\n"
   ]
  },
  {
   "cell_type": "code",
   "execution_count": 295,
   "metadata": {
    "collapsed": false
   },
   "outputs": [
    {
     "data": {
      "image/png": "[encoded data removed]",
      "text/plain": [
       "<matplotlib.figure.Figure at 0x112918b10>"
      ]
     },
     "metadata": {},
     "output_type": "display_data"
    }
   ],
   "source": [
    "dat = gen_mixture(2000)\n",
    "emp_cdf = CDF(np.sort(dat),np.linspace(0,1,dat.size+1))\n",
    "g_0 = stats.norm()\n",
    "dp = DP()\n",
    "grid = np.linspace(-4,4,200)\n",
    "post = dp.post_inf(emp_cdf,g_0,alpha=200.,n_cdf=100,grid=grid)\n",
    "emp_cdf = [emp_cdf]\n",
    "fig,ax = plt.subplots(figsize=(10,5))\n",
    "dp.plot_cdfs(emp_cdf,linewidth=4,ax=ax,c='b',grid=grid)\n",
    "dp.plot_cdfs(post,alpha=0.3,ax=ax,grid=grid)\n"
   ]
  },
  {
   "cell_type": "code",
   "execution_count": 191,
   "metadata": {
    "collapsed": false
   },
   "outputs": [
    {
     "data": {
      "text/plain": [
       "[<matplotlib.lines.Line2D at 0x110ab4050>]"
      ]
     },
     "execution_count": 191,
     "metadata": {},
     "output_type": "execute_result"
    },
    {
     "data": {
      "image/png": "[encoded data removed]",
      "text/plain": [
       "<matplotlib.figure.Figure at 0x111a76650>"
      ]
     },
     "metadata": {},
     "output_type": "display_data"
    }
   ],
   "source": [
    "mix = MixFunction(emp_cdf,stats.norm(loc=4.),2000.)\n",
    "grid = np.linspace(-2,6,200)\n",
    "plt.plot(grid,mix.cdf(grid))\n",
    "#foo = mix.cdf(np.linspace(-4,6,200))"
   ]
  },
  {
   "cell_type": "code",
   "execution_count": 183,
   "metadata": {
    "collapsed": false
   },
   "outputs": [
    {
     "data": {
      "text/plain": [
       "array([  2.48838423e-16,   3.73780338e-16,   5.60060164e-16,\n",
       "         8.37090314e-16,   1.24804298e-15,   1.85612216e-15,\n",
       "         2.75361708e-15,   4.07493533e-15,   6.01531366e-15,\n",
       "         8.85760736e-15,   1.30105415e-14,   1.90631793e-14,\n",
       "         2.78622717e-14,   4.06218004e-14,   5.90776880e-14,\n",
       "         8.57057031e-14,   1.24027530e-13,   1.79039497e-13,\n",
       "         2.57811464e-13,   3.70321111e-13,   5.30612942e-13,\n",
       "         7.58403946e-13,   1.08130191e-12,   1.53786163e-12,\n",
       "         2.18178388e-12,   3.08766838e-12,   4.35887392e-12,\n",
       "         6.13822761e-12,   8.62257508e-12,   1.20824942e-11,\n",
       "         1.68889297e-11,   2.35490770e-11,   3.27545924e-11,\n",
       "         4.54461795e-11,   6.28998718e-11,   8.68419724e-11,\n",
       "         1.19601735e-10,   1.64313600e-10,   2.25184312e-10,\n",
       "         3.07844718e-10,   4.19811768e-10,   5.71093504e-10,\n",
       "         7.74978992e-10,   1.04906678e-09,   1.41660000e-09,\n",
       "         1.90819458e-09,   2.56406963e-09,   3.43691778e-09,\n",
       "         4.59558799e-09,   6.12979700e-09,   8.15613916e-09,\n",
       "         1.08257293e-08,   1.43338937e-08,   1.89324218e-08,\n",
       "         2.49450080e-08,   3.27866559e-08,   4.29879886e-08,\n",
       "         5.62256125e-08,   7.33599266e-08,   9.54820577e-08,\n",
       "         1.23971946e-07,   1.60570009e-07,   2.07465275e-07,\n",
       "         2.67403442e-07,   3.43818943e-07,   4.40995841e-07,\n",
       "         5.64263217e-07,   7.20231692e-07,   9.17078807e-07,\n",
       "         1.16489224e-06,   1.47608119e-06,   1.86586794e-06,\n",
       "         2.35287304e-06,   2.95980990e-06,   3.71430613e-06,\n",
       "         4.64987160e-06,   5.80703542e-06,   7.23467661e-06,\n",
       "         8.99157580e-06,   1.11482184e-05,   1.37888818e-05,\n",
       "         1.70140436e-05,   2.09431473e-05,   2.57177698e-05,\n",
       "         3.15052317e-05,   3.85026978e-05,   4.69418149e-05,\n",
       "         5.70939359e-05,   6.92759782e-05,   8.38569673e-05,\n",
       "         1.01265310e-04,   1.21996842e-04,   1.46623696e-04,\n",
       "         1.75804016e-04,   2.10292547e-04,   2.50952128e-04,\n",
       "         2.98766083e-04,   3.54851503e-04,   4.20473411e-04,\n",
       "         4.97059744e-04,   5.86217117e-04,   6.89747256e-04,\n",
       "         8.09664016e-04,   9.48210827e-04,   1.10787840e-03,\n",
       "         1.29142253e-03,   1.50188168e-03,   1.74259419e-03,\n",
       "         2.01721478e-03,   2.32972992e-03,   2.68447191e-03,\n",
       "         3.08613108e-03,   3.53976584e-03,   4.05081011e-03,\n",
       "         4.62507766e-03,   5.26876295e-03,   5.98843799e-03,\n",
       "         6.79104484e-03,   7.68388318e-03,   8.67459275e-03,\n",
       "         9.77113013e-03,   1.09817396e-02,   1.23149180e-02,\n",
       "         1.37793730e-02,   1.53839750e-02,   1.71377027e-02,\n",
       "         1.90495825e-02,   2.11286212e-02,   2.33837330e-02,\n",
       "         2.58236618e-02,   2.84568979e-02,   3.12915905e-02,\n",
       "         3.43354579e-02,   3.75956938e-02,   4.10788734e-02,\n",
       "         4.47908591e-02,   4.87367061e-02,   5.29205722e-02,\n",
       "         5.73456289e-02,   6.20139796e-02,   6.69265825e-02,\n",
       "         7.20831819e-02,   7.74822486e-02,   8.31209299e-02,\n",
       "         8.89950111e-02,   9.50988901e-02,   1.01425564e-01,\n",
       "         1.07966629e-01,   1.14712300e-01,   1.21651434e-01,\n",
       "         1.28771582e-01,   1.36059045e-01,   1.43498946e-01,\n",
       "         1.51075324e-01,   1.58771226e-01,   1.66568828e-01,\n",
       "         1.74449552e-01,   1.82394201e-01,   1.90383100e-01,\n",
       "         1.98396239e-01,   2.06413425e-01,   2.14414434e-01,\n",
       "         2.22379167e-01,   2.30287795e-01,   2.38120913e-01,\n",
       "         2.45859679e-01,   2.53485951e-01,   2.60982416e-01,\n",
       "         2.68332703e-01,   2.75521488e-01,   2.82534594e-01,\n",
       "         2.89359061e-01,   2.95983220e-01,   3.02396737e-01,\n",
       "         3.08590652e-01,   3.14557403e-01,   3.20290827e-01,\n",
       "         3.25786158e-01,   3.31040001e-01,   3.36050303e-01,\n",
       "         3.40816306e-01,   3.45338491e-01,   3.49618510e-01,\n",
       "         3.53659119e-01,   3.57464091e-01,   3.61038133e-01,\n",
       "         3.64386795e-01,   3.67516379e-01,   3.70433843e-01,\n",
       "         3.73146706e-01,   3.75662956e-01,   3.77990957e-01,\n",
       "         3.80139363e-01,   3.82117029e-01,   3.83932934e-01,\n",
       "         3.85596105e-01,   3.87115547e-01,   3.88500181e-01,\n",
       "         3.89758785e-01,   3.90899947e-01])"
      ]
     },
     "execution_count": 183,
     "metadata": {},
     "output_type": "execute_result"
    }
   ],
   "source": []
  },
  {
   "cell_type": "code",
   "execution_count": 6,
   "metadata": {
    "collapsed": false,
    "scrolled": true
   },
   "outputs": [
    {
     "name": "stdout",
     "output_type": "stream",
     "text": [
      "0.174725262234\n"
     ]
    }
   ],
   "source": [
    "dp = DP()\n",
    "cdf_arr = dp.MDPGamma(n_cdf=30,a=1,b=1)\n",
    "means = []\n",
    "stddevs = []\n",
    "for i in cdf_arr:\n",
    "    means.append(i.GetMean())\n",
    "    stddevs.append(i.GetSD())\n",
    "print np.median(means)"
   ]
  },
  {
   "cell_type": "code",
   "execution_count": 21,
   "metadata": {
    "collapsed": false
   },
   "outputs": [
    {
     "data": {
      "text/plain": [
       "array([ 1,  0, -1,  0,  0, -1, -1,  0,  0,  0])"
      ]
     },
     "execution_count": 21,
     "metadata": {},
     "output_type": "execute_result"
    }
   ],
   "source": [
    "foo = stats.rv_discrete(name='emperical_cdf',values=(cdf_arr[0].x,cdf_arr[0].pdf))\n",
    "xk = np.arange(7)\n",
    "pk = (0.1, 0.2, 0.3, 0.1, 0.1, 0.0, 0.2)\n",
    "custm = stats.rv_discrete(name='custm', values=(xk, pk))\n",
    "foo.rvs(size=10)"
   ]
  },
  {
   "cell_type": "code",
   "execution_count": 30,
   "metadata": {
    "collapsed": false
   },
   "outputs": [],
   "source": [
    "foo = np.linspace(0,1,101)\n",
    "x = np.arange(100)\n",
    "probs = stats.uniform.rvs(size=10)\n",
    "rvs = []\n",
    "for i in probs:\n",
    "    rvs.append(x[np.argmin(np.abs(foo - i))])\n"
   ]
  },
  {
   "cell_type": "code",
   "execution_count": 31,
   "metadata": {
    "collapsed": false
   },
   "outputs": [
    {
     "name": "stdout",
     "output_type": "stream",
     "text": [
      "[77, 57, 53, 50, 92, 79, 7, 12, 44, 41]\n",
      "[ 0.76574719  0.56901751  0.52766814  0.50275942  0.92490194  0.78949967\n",
      "  0.07316107  0.12465406  0.44441273  0.40666432]\n",
      "[ 0.    0.01  0.02  0.03  0.04  0.05  0.06  0.07  0.08  0.09  0.1   0.11\n",
      "  0.12  0.13  0.14  0.15  0.16  0.17  0.18  0.19  0.2   0.21  0.22  0.23\n",
      "  0.24  0.25  0.26  0.27  0.28  0.29  0.3   0.31  0.32  0.33  0.34  0.35\n",
      "  0.36  0.37  0.38  0.39  0.4   0.41  0.42  0.43  0.44  0.45  0.46  0.47\n",
      "  0.48  0.49  0.5   0.51  0.52  0.53  0.54  0.55  0.56  0.57  0.58  0.59\n",
      "  0.6   0.61  0.62  0.63  0.64  0.65  0.66  0.67  0.68  0.69  0.7   0.71\n",
      "  0.72  0.73  0.74  0.75  0.76  0.77  0.78  0.79  0.8   0.81  0.82  0.83\n",
      "  0.84  0.85  0.86  0.87  0.88  0.89  0.9   0.91  0.92  0.93  0.94  0.95\n",
      "  0.96  0.97  0.98  0.99  1.  ]\n",
      "[ 0  1  2  3  4  5  6  7  8  9 10 11 12 13 14 15 16 17 18 19 20 21 22 23 24\n",
      " 25 26 27 28 29 30 31 32 33 34 35 36 37 38 39 40 41 42 43 44 45 46 47 48 49\n",
      " 50 51 52 53 54 55 56 57 58 59 60 61 62 63 64 65 66 67 68 69 70 71 72 73 74\n",
      " 75 76 77 78 79 80 81 82 83 84 85 86 87 88 89 90 91 92 93 94 95 96 97 98 99]\n"
     ]
    }
   ],
   "source": [
    "print rvs\n",
    "print probs\n",
    "print foo\n",
    "print x"
   ]
  },
  {
   "cell_type": "code",
   "execution_count": 353,
   "metadata": {
    "collapsed": false
   },
   "outputs": [],
   "source": [
    "cdf_arr = []\n",
    "grid = np.linspace(-4,4,100)\n",
    "med_arr = []\n",
    "stddev_arr = []\n",
    "for j in range(50):\n",
    "    means = []\n",
    "    stddev = []\n",
    "    cdf_arr = []\n",
    "    \n",
    "    for i in range(1000):\n",
    "        x = stats.norm.rvs(size=100)\n",
    "        x = np.sort(x)\n",
    "        y = np.linspace(0.,1.,101)\n",
    "        cdf_arr.append(CDF(x,y))\n",
    "        means.append(cdf_arr[i].GetMean())\n",
    "        stddev.append(cdf_arr[i].GetSD())\n",
    "        \n",
    "    med_arr.append(np.median(means))\n",
    "    stddev_arr.append(np.median(stddev))\n"
   ]
  },
  {
   "cell_type": "code",
   "execution_count": 83,
   "metadata": {
    "collapsed": false
   },
   "outputs": [
    {
     "name": "stdout",
     "output_type": "stream",
     "text": [
      "[  3.25578215e-18   2.82835379e-24   4.20527855e-07   4.88049796e-19\n",
      "   6.46182301e-12   2.14117372e-07   8.94515352e-06   2.54985947e-04\n",
      "   3.05321663e-04   5.59104615e-10   2.16793406e-05   4.60126088e-04\n",
      "   5.73005726e-04   9.42933946e-05   3.28489555e-04   1.35049258e-04\n",
      "   1.34988171e-03   3.00147177e-03   2.27591395e-03   1.30576421e-03\n",
      "   3.38103647e-03   1.03868344e-03   2.68944825e-03   6.54741632e-03\n",
      "   1.05916909e-02   2.76308748e-03   3.68274942e-03   6.57318133e-03\n",
      "   1.01000596e-02   1.36014984e-02   4.52641529e-03   1.46116745e-02\n",
      "   1.68564196e-02   9.20372427e-03   1.86540853e-02   1.61757737e-02\n",
      "   1.82539802e-02   2.35110357e-02   2.76798819e-02   2.52390408e-02\n",
      "   2.23895349e-02   2.28074022e-02   3.72845177e-02   3.00035850e-02\n",
      "   3.21814549e-02   2.48242458e-02   3.43607473e-02   2.51439391e-02\n",
      "   3.36968759e-02   3.47058469e-02   3.80207036e-02   2.75784732e-02\n",
      "   2.91625307e-02   2.37799528e-02   2.35281060e-02   2.92920591e-02\n",
      "   2.01382774e-02   3.15985896e-02   2.35194401e-02   3.66463103e-02\n",
      "   2.21126407e-02   1.63288727e-02   2.04444812e-02   8.36309464e-03\n",
      "   1.25614035e-02   8.93736106e-03   8.63276619e-03   1.58009519e-02\n",
      "   5.72390122e-03   6.72616774e-03   1.66803089e-03   9.44596368e-03\n",
      "   6.24749073e-03   5.97641575e-03   5.07439302e-03   3.33419053e-03\n",
      "   1.10254250e-03   3.67544859e-03   7.00953866e-04   1.40822424e-03\n",
      "   3.58647687e-04   9.68753274e-04   1.38584951e-03   9.77754913e-06\n",
      "   3.29353221e-03   2.43598408e-04   1.48770661e-05   1.03622220e-05\n",
      "   3.51825123e-07   2.93098879e-14   1.11022302e-16   0.00000000e+00\n",
      "   2.97716086e-03   1.88264444e-08   0.00000000e+00   6.47218834e-10\n",
      "   1.23487192e-05   0.00000000e+00   3.88446959e-07   1.11022302e-16]\n",
      "[ 0.  0.  0.  0.  0.  0.  0.  0.  0.  0.  0.  0.  0.  0.  0.  0.  0.  0.\n",
      "  0.  0.  0.  0.  0.  0.  0.  0.  0.  0.  0.  0.  0.  0.  0.  0.  0.  0.\n",
      "  0.  0.  0.  0.  0.  0.  0.  0.  0.  0.  0.  0.  0.  0.  0.  0.  0.  0.\n",
      "  0.  0.  0.  0.  0.  0.  0.  0.  0.  0.  0.  0.  0.  0.  0.  0.  0.  0.\n",
      "  0.  0.  0.  0.  0.  0.  0.  0.  0.  0.  0.  0.  0.  0.  0.  0.  0.  0.\n",
      "  0.  0.  0.  0.  0.  0.  0.  0.  0.  0.]\n"
     ]
    }
   ],
   "source": [
    "foo = np.insert(cdf_arr[0].cdf,cdf_arr[0].cdf.size,1.)\n",
    "print foo[1:] - foo[:-1]\n",
    "print cdf_arr[0].cdf[:] - np.insert(cdf_arr[0].cdf,cdf_arr[0].cdf.size,1.)[:-1]"
   ]
  },
  {
   "cell_type": "code",
   "execution_count": 98,
   "metadata": {
    "collapsed": false
   },
   "outputs": [
    {
     "name": "stdout",
     "output_type": "stream",
     "text": [
      "0.445411343028\n",
      "0.468204203044\n",
      "0.023580938754\n",
      "0.0444806498827\n",
      "0.195169020849\n"
     ]
    }
   ],
   "source": [
    "foo = np.array(stats.uniform.rvs(size=5))\n",
    "for i in foo:\n",
    "    print i"
   ]
  },
  {
   "cell_type": "code",
   "execution_count": 52,
   "metadata": {
    "collapsed": false
   },
   "outputs": [
    {
     "name": "stdout",
     "output_type": "stream",
     "text": [
      "100\n"
     ]
    }
   ],
   "source": [
    "grid = np.linspace(-4,4,100)\n",
    "g_draws = stats.norm.cdf(grid)\n",
    "g_draws = np.insert(g_draws,grid.size,1.)\n",
    "g_diff = g_draws[1:] - g_draws[:-1]\n",
    "print g_diff.size"
   ]
  },
  {
   "cell_type": "code",
   "execution_count": 238,
   "metadata": {
    "collapsed": false
   },
   "outputs": [],
   "source": [
    "class EmpericalDistribution(stats.rv_continuous):\n",
    "    \n",
    "    def SetParameters(self,x,p,d_type='cdf'):\n",
    "        p = np.array(p)[np.argsort(x)]\n",
    "        self.x = np.array(x)[np.argsort(x)]\n",
    "        \n",
    "        if d_type == 'pdf':\n",
    "            self.p = np.cumsum(p)\n",
    "        else:\n",
    "            self.p = p\n",
    "        \n",
    "        \n",
    "    \n",
    "    def _cdf(self,check_x):\n",
    "        if np.all(check_x < self.x):\n",
    "            return 0.0\n",
    "        \n",
    "        if np.all(check_x > self.x):\n",
    "            return 1.0\n",
    "        \n",
    "        diff = check_x - self.x\n",
    "        mask = diff < 0.\n",
    "        \n",
    "        masked_diff = np.ma.masked_array(diff, mask)\n",
    "        return self.p[masked_diff.argmin()]"
   ]
  },
  {
   "cell_type": "code",
   "execution_count": 109,
   "metadata": {
    "collapsed": false
   },
   "outputs": [
    {
     "data": {
      "text/plain": [
       "[0.2183850826968432,\n",
       " 0.78131196631067978,\n",
       " 0.19299689233354664,\n",
       " 0.010697301704192152,\n",
       " 0.0037585826834016633,\n",
       " 0.0094372690352094359,\n",
       " 0.001789514262302305,\n",
       " 6.777355704258306e-06,\n",
       " 4.3939264958602757e-07,\n",
       " 8.9026124561464268e-07]"
      ]
     },
     "execution_count": 109,
     "metadata": {},
     "output_type": "execute_result"
    }
   ],
   "source": [
    "dp.p"
   ]
  },
  {
   "cell_type": "code",
   "execution_count": 171,
   "metadata": {
    "collapsed": false
   },
   "outputs": [],
   "source": [
    "cdf = CDF(np.array([0,1,2,3]),np.array([0.1,0.3,0.95,1.0]))"
   ]
  },
  {
   "cell_type": "code",
   "execution_count": 154,
   "metadata": {
    "collapsed": false
   },
   "outputs": [
    {
     "name": "stdout",
     "output_type": "stream",
     "text": [
      "[-0.5 -1.5 -2.5 -3.5]\n",
      "[ True  True  True  True]\n",
      "[-- -- -- --]\n",
      "0\n"
     ]
    }
   ],
   "source": [
    "diff = -0.5 - np.array([0,1,2,3])\n",
    "print diff\n",
    "mask = diff < 0\n",
    "print mask\n",
    "masked_diff = np.ma.masked_array(diff,mask)\n",
    "print masked_diff\n",
    "print masked_diff.argmin()"
   ]
  },
  {
   "cell_type": "code",
   "execution_count": 64,
   "metadata": {
    "collapsed": false
   },
   "outputs": [],
   "source": [
    "g_grid = rv.cdf(foo)\n",
    "g_diff = g_grid[1:] - g_grid[:-1]\n",
    "p = stats.dirichlet.rvs(g_diff * 0.1)"
   ]
  },
  {
   "cell_type": "code",
   "execution_count": 32,
   "metadata": {
    "collapsed": false
   },
   "outputs": [
    {
     "data": {
      "text/plain": [
       "0.0"
      ]
     },
     "execution_count": 32,
     "metadata": {},
     "output_type": "execute_result"
    }
   ],
   "source": [
    "len(cdf_arr[0].x)\n",
    "(10./(10.+1))**10000"
   ]
  },
  {
   "cell_type": "code",
   "execution_count": 67,
   "metadata": {
    "collapsed": false
   },
   "outputs": [
    {
     "data": {
      "text/plain": [
       "[<matplotlib.lines.Line2D at 0x10bbf0310>]"
      ]
     },
     "execution_count": 67,
     "metadata": {},
     "output_type": "execute_result"
    },
    {
     "data": {
      "image/png": "[encoded data removed]",
      "text/plain": [
       "<matplotlib.figure.Figure at 0x10baf8c90>"
      ]
     },
     "metadata": {},
     "output_type": "display_data"
    }
   ],
   "source": [
    "plt.plot(np.linspace(-4,4,99),sum)"
   ]
  },
  {
   "cell_type": "code",
   "execution_count": 81,
   "metadata": {
    "collapsed": false
   },
   "outputs": [
    {
     "data": {
      "text/plain": [
       "[<matplotlib.lines.Line2D at 0x10d00ea10>]"
      ]
     },
     "execution_count": 81,
     "metadata": {},
     "output_type": "execute_result"
    },
    {
     "data": {
      "image/png": "[encoded data removed]",
      "text/plain": [
       "<matplotlib.figure.Figure at 0x10d00ea90>"
      ]
     },
     "metadata": {},
     "output_type": "display_data"
    }
   ],
   "source": [
    "a = 1\n",
    "b = 1.5\n",
    "foo = np.linspace(0,1,100)\n",
    "beta = stats.beta(a,b)\n",
    "plt.plot(foo,beta.pdf(foo))\n",
    "plt.plot(foo,stats.beta.pdf(foo,a,b))"
   ]
  },
  {
   "cell_type": "code",
   "execution_count": null,
   "metadata": {
    "collapsed": true
   },
   "outputs": [],
   "source": []
  }
 ],
 "metadata": {
  "kernelspec": {
   "display_name": "Python 2",
   "language": "python",
   "name": "python2"
  },
  "language_info": {
   "codemirror_mode": {
    "name": "ipython",
    "version": 2
   },
   "file_extension": ".py",
   "mimetype": "text/x-python",
   "name": "python",
   "nbconvert_exporter": "python",
   "pygments_lexer": "ipython2",
   "version": "2.7.10"
  }
 },
 "nbformat": 4,
 "nbformat_minor": 0
}
