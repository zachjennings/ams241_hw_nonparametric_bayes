{
 "cells": [
  {
   "cell_type": "code",
   "execution_count": 1,
   "metadata": {
    "collapsed": false
   },
   "outputs": [],
   "source": [
    "%matplotlib inline\n",
    "import numpy as np\n",
    "import scipy.stats as stats\n",
    "import matplotlib.pyplot as plt"
   ]
  },
  {
   "cell_type": "markdown",
   "metadata": {},
   "source": [
    "AMS 241, Problem Set 1, Problem 2\n",
    "\n",
    "Zachary Jennings"
   ]
  },
  {
   "cell_type": "markdown",
   "metadata": {},
   "source": [
    "Consider a DP prior $DP(\\alpha,G_0)$ with $G_0 = N(0,1)$. "
   ]
  },
  {
   "cell_type": "markdown",
   "metadata": {},
   "source": []
  },
  {
   "cell_type": "code",
   "execution_count": 143,
   "metadata": {
    "collapsed": true
   },
   "outputs": [],
   "source": [
    "#Data generation for problem 3\n",
    "def gen_single(n):\n",
    "    return stats.norm.rvs(size=n)\n",
    "\n",
    "def gen_mixture(n):\n",
    "    #generate the proportions of mixtures\n",
    "    gen_select = stats.uniform.rvs(size=n)\n",
    "    mix_1 = np.sum(gen_select < 0.5)\n",
    "    mix_2 = np.sum((gen_select < 0.8) & (gen_select > 0.5))\n",
    "    mix_3 = np.sum(gen_select > 0.8)\n",
    "    \n",
    "    #generate the actual distributions\n",
    "    data = np.array([])\n",
    "    data = np.append(data,stats.norm.rvs(loc=-2.5,scale=0.5,size=mix_1))\n",
    "    data= np.append(data,stats.norm.rvs(loc=0.5,scale=0.7,size=mix_2))\n",
    "    data = np.append(data,stats.norm.rvs(loc=1.5,scale=2,size=mix_3))\n",
    "    return data\n"
   ]
  },
  {
   "cell_type": "code",
   "execution_count": 278,
   "metadata": {
    "collapsed": false
   },
   "outputs": [],
   "source": [
    "class DP(object):\n",
    "    '''\n",
    "    Class to hold a DP prior.\n",
    "    '''\n",
    "    def __init__(self,g='foo',func_type='normal',**kwargs):\n",
    "        '''\n",
    "        Parameters:\n",
    "        g: scipy.stats object. if not specified, function type is used\n",
    "        alpha: precision parameter for dirichlet distribution\n",
    "        '''            \n",
    "        #check if custom function is passed, else use that specified\n",
    "        if g == 'foo':\n",
    "            if func_type == 'normal':\n",
    "                self.g = stats.norm(**kwargs)\n",
    "            elif func_type == 'uniform':\n",
    "                self.g = stats.uniform(**kwargs)\n",
    "            else:\n",
    "                print 'Error: No valid function supplied or specified.'\n",
    "                \n",
    "        else:\n",
    "            self.g = g\n",
    "        \n",
    "        \n",
    "    def draw_cdf_ferg(self,alpha=1.,grid=np.linspace(-6,6,1000),n_cdf=1,g_0=None):\n",
    "        '''\n",
    "        Draw a CDF realization, using method of Fergueson 1973\n",
    "        Parameters:\n",
    "            grid: n x 1 space of values on which to draw Dirichlet values\n",
    "            \n",
    "            n_cdf: int\n",
    "                number of CDFs to generate\n",
    "                \n",
    "            g_0: if supplied, function g_0 to draw x values from\n",
    "        \n",
    "        '''\n",
    "        if g_0 is None:\n",
    "            g_0 = self.g\n",
    "    \n",
    "        g_draws = g_0.cdf(grid)\n",
    "        g_draws = np.insert(g_draws,grid.size,1.)\n",
    "        g_diff = g_draws[1:] - g_draws[:-1]\n",
    "        \n",
    "        cdf_arr = []\n",
    "        for i in range(n_cdf):\n",
    "            p = stats.dirichlet.rvs(alpha*g_diff)\n",
    "            p = np.insert(p,0.,0.)\n",
    "            p = np.cumsum(p)\n",
    "            cdf_arr.append(CDF(grid,cdf=p))\n",
    "        \n",
    "        return cdf_arr\n",
    "    \n",
    "    def draw_cdf_stick(self,alpha=1.,n_cdf=1,e=0.001,n_max=1e4,g_0=None):\n",
    "        '''\n",
    "        Draw a CDF realization, using stick-breaking constructive method.\n",
    "        Stop occurs using error-tolerance stop.\n",
    "        '''\n",
    "        if g_0 is None:\n",
    "            g_0 = self.g\n",
    "        #generate lists to hold the relevant values\n",
    "        cdf_arr = []\n",
    "        beta = stats.beta(1,alpha)\n",
    "        \n",
    "        #start the primary cdf generation loop\n",
    "        for i in range(n_cdf):\n",
    "            x = []\n",
    "            p = []\n",
    "            z = []\n",
    "            z.append(beta.rvs())\n",
    "            x.append(g_0.rvs())\n",
    "            p.append(z[0])\n",
    "            \n",
    "            #iterate for stick breaking process with appropriate exit conditions\n",
    "            stop_point = (alpha/(1.+alpha))**len(x)\n",
    "            while stop_point > e and len(x) < n_max:\n",
    "                x.append(g_0.rvs())\n",
    "                this_z = beta.rvs()\n",
    "                this_w = np.prod(1.-np.array(z))\n",
    "                p.append(this_w * this_z)\n",
    "                \n",
    "                z.append(this_z)\n",
    "    \n",
    "                if len(x) >= n_max:\n",
    "                    print 'Max iterations exceeded, exiting generation loop'\n",
    "\n",
    "                \n",
    "            self.x = x\n",
    "            self.z = z\n",
    "            self.p = p\n",
    "                \n",
    "            sort_x = np.argsort(x)\n",
    "            x = np.array(x)[sort_x]\n",
    "            p = np.insert(p,0.,0.)\n",
    "            p = np.cumsum(np.array(p)[sort_x])\n",
    "            cdf_arr.append(CDF(x,cdf=p))\n",
    "            \n",
    "            \n",
    "        return cdf_arr\n",
    "    \n",
    "    def mdp_gamma(self,grid=np.linspace(-4,4,100),a=1.,b=1.,n_cdf=1):\n",
    "        gamma = stats.gamma(a,b)\n",
    "        cdf_arr = []\n",
    "\n",
    "        for i in np.arange(n_cdf):\n",
    "            alpha = gamma.rvs()\n",
    "            draw_cdf = self.draw_cdf_ferg(alpha=alpha,n_cdf=1,grid=grid)[0]\n",
    "            cdf_arr.append(draw_cdf)\n",
    "        \n",
    "        return cdf_arr\n",
    "    \n",
    "    def plot_cdfs(self,cdf_arr,ax=None,grid=np.linspace(-4,4,200),**kwargs):\n",
    "        '''\n",
    "        Plot a list of CDFs for values of grid\n",
    "        Parameters:\n",
    "            cdf_arr: list of CDF objects\n",
    "            grid: x-grid for plotting\n",
    "        '''\n",
    "        if ax is None:\n",
    "            fig,ax = plt.subplots()\n",
    "        ax.set_ylim(0.,1.)\n",
    "        \n",
    "        for i in cdf_arr:\n",
    "            p = map(i.get_prob,grid)\n",
    "            ax.plot(grid,p,**kwargs)\n",
    "            \n",
    "    def post_inf(self,emp,g_0,alpha=1.,n_cdf=1,**kwargs):\n",
    "        '''\n",
    "        Return draw of posterior distribution\n",
    "\n",
    "        Parameters:\n",
    "            emp: CDF object containing emperical cdf of data\n",
    "            g_0 scipy.stats object\n",
    "        '''\n",
    "        mix = MixFunction(emp,g_0,alpha)\n",
    "        alpha_prime = emp.x.size + alpha\n",
    "        draws = self.draw_cdf_ferg(alpha=alpha_prime,n_cdf=n_cdf,g_0=mix,**kwargs)\n",
    "        return draws\n",
    "    \n",
    "            \n",
    "class MixFunction(object):\n",
    "    '''\n",
    "    Class to hold two emperical CDFs.\n",
    "    \n",
    "    Parameters:\n",
    "        emp: emperical CDF\n",
    "        g_0: \"prior\" distribution, scipy.stats.continuous_rv\n",
    "        \n",
    "    Methods:\n",
    "        RV: draw n random variables\n",
    "        CDF: return the CDF at a given X of the mixture distribution\n",
    "    '''\n",
    "    def __init__(self,emp,g_0,alpha):\n",
    "        self.emp = emp\n",
    "        self.g_0 = g_0\n",
    "        self.alpha = alpha\n",
    "        \n",
    "    def rvs(self,size=1):\n",
    "        emp_weight = self.emp.x.size / (self.alpha+self.emp.x.size)\n",
    "        mixture = stats.uniform.rvs(size=size)\n",
    "        if np.sum(mixture < emp_weight) > 0:\n",
    "            emp_draws = self.emp.rvs(size=np.sum(mixture < emp_weight))\n",
    "        else:\n",
    "            emp_draws = []\n",
    "        if np.sum(mixture > emp_weight) > 0:\n",
    "            prior_draws = self.g_0.rvs(size=np.sum(mixture > emp_weight))\n",
    "        else:\n",
    "            prior_draws = []\n",
    "        return np.concatenate([emp_draws,prior_draws])\n",
    "\n",
    "    def cdf(self,check_x):\n",
    "        cdf_emp = np.array(map(self.emp.get_prob,check_x))\n",
    "        cdf_prior = self.g_0.cdf(check_x)\n",
    "\n",
    "        emp_weight = self.emp.x.size / (self.alpha+self.emp.x.size)\n",
    "        prior_weight = 1.-emp_weight\n",
    "        \n",
    "        return cdf_emp * emp_weight + cdf_prior * prior_weight\n",
    "\n",
    "    \n",
    "class CDF(object):\n",
    "    '''\n",
    "    Class to hold a single 1D discrete, DP-generated CDF\n",
    "    '''\n",
    "    def __init__(self,x,pdf=None,cdf=None):\n",
    "        '''\n",
    "        Parameters:\n",
    "        x: n x 1 array where \n",
    "        p: (n+1) x 1 array which holds P(X < x)\n",
    "        \n",
    "        all arrays assumed to be sorted\n",
    "        '''\n",
    "        if pdf is None and cdf is None:\n",
    "            print 'need to supply either a pdf or cdf'\n",
    "            break\n",
    "            \n",
    "        if pdf is None:\n",
    "            self.cdf = np.array(cdf)\n",
    "            self.pdf = self.cdf[1:] - self.cdf[:-1]\n",
    "\n",
    "        if cdf is None:\n",
    "            self.pdf = np.array(pdf)\n",
    "            self.cdf = np.append(np.cumsum(pdf),1.)\n",
    "            \n",
    "        self.x = np.array(x)\n",
    "        \n",
    "    def get_prob(self,check_x):\n",
    "        '''\n",
    "        Return P(x < check_x)\n",
    "        '''\n",
    "        #if check_x is below the region where the CDF is defined, make sure to return 0.     \n",
    "        if np.all(check_x < self.x):\n",
    "            return 0.0\n",
    "                \n",
    "        if np.all(check_x > self.x):\n",
    "            return 1.0\n",
    "        \n",
    "        diff = check_x - self.x\n",
    "        mask = diff < 0.\n",
    "        \n",
    "        masked_diff = np.ma.masked_array(diff, mask)\n",
    "        return self.cdf[masked_diff.argmin()+1]\n",
    "    \n",
    "    def rvs(self,size=1):\n",
    "        '''\n",
    "        Parameters:\n",
    "            size: int, number of rvs desired\n",
    "            \n",
    "        Returns:\n",
    "            RVs drawn from cumulative distribution\n",
    "        '''\n",
    "        probs = np.array(stats.uniform.rvs(size=size))\n",
    "        rvs = []\n",
    "        for i in probs:\n",
    "            rvs.append(self.x[np.argmin(np.abs(self.cdf[:-1] - i))])\n",
    "            \n",
    "        return rvs\n",
    "    \n",
    "    def get_mean(self):\n",
    "        '''\n",
    "        Return the mean (weighted average) of the distributuion\n",
    "        '''\n",
    "        return np.sum(self.pdf * self.x)\n",
    "    \n",
    "    def get_sd(self):\n",
    "        '''|\n",
    "        Return the weighted variance of the distribution\n",
    "        '''\n",
    "        return np.sum(self.pdf * self.x**2) - self.GetMean()**2\n",
    "        \n",
    "        #return np.sum(self.pdf * (self.x - self.GetMean())**2)/((self.pdf.size - 1.)/(self.pdf.size)*np.sum(self.pdf))\n"
   ]
  },
  {
   "cell_type": "code",
   "execution_count": 438,
   "metadata": {
    "collapsed": false
   },
   "outputs": [],
   "source": [
    "class MDPDiscrete(object):\n",
    "    '''\n",
    "    A class to do posterior inference for\n",
    "    a mixture of Dirichlet priors on discrete data.\n",
    "    \n",
    "    Currently only works for poisson priors. \n",
    "    '''\n",
    "    def __init__(self,data,f_type='poisson'):\n",
    "        '''\n",
    "        Parameters:\n",
    "            data: CDF object containing the emperical distribution\n",
    "            f_0: scipy.stats object containing prior guess at model\n",
    "        '''\n",
    "        self.data = data\n",
    "        self.y = np.unique(self.data.x)\n",
    "        self.n_j = np.histogram(self.data.x,bins=(np.max(self.data.x) - np.min(self.data.x)+1))\n",
    "        self.n_star = self.y.size\n",
    "        self.n = self.data.x.size\n",
    "        self.f_type = f_type\n",
    "        self.DP = DP()\n",
    "    \n",
    "    def log_like(self,log_alpha,log_lambda):\n",
    "        '''\n",
    "        Method to return the log likelihood for parameter vector theta \n",
    "        Parameters:\n",
    "            log_alpha, log_lambda: logs of parameters for likelihood function\n",
    "        '''\n",
    "        #set the prior function specification\n",
    "        alpha = np.exp(log_alpha)\n",
    "        lamb = np.exp(log_lambda)\n",
    "        if self.f_type == 'poisson':\n",
    "            f_0 = stats.poisson(lamb)\n",
    "            \n",
    "        log_f_0_like = f_0.logpmf(self.y_j)\n",
    "        alpha_log_f_0_like = self.log_product_notation(alpha*np.exp(log_f_0_like)+1.,self.n_j - 1)\n",
    "            \n",
    "        cond_post = self.DP.post_inf(self,emp,f_0,alpha=np.exp(log_alpha),n_cdf=1,**kwargs)\n",
    "        \n",
    "        log_like = self.n_star*log_alpha - self.log_product_notation(log_alpha,x) +\\\n",
    "            alpha_log_f_0_like - log_alpha - log_lambda\n",
    "        \n",
    "        return log_like\n",
    "                \n",
    "    \n",
    "    def log_prior(self):\n",
    "        '''\n",
    "        Method to return log of the prior.\n",
    "        '''\n",
    "        pass\n",
    "    def mcmc_step(self,n_steps=1):\n",
    "        '''\n",
    "        Run the mcmc sampler for a given number of steps.\n",
    "        '''\n",
    "        pass\n",
    "    \n",
    "    def product_notation(self,z,m):\n",
    "        '''\n",
    "        for given arguments z, n_j, return:\n",
    "            z * (z+1) * ... * (z+ n + 1)\n",
    "        '''\n",
    "        #by definiton, n_j=0 returns 1\n",
    "        if m <= 0:        \n",
    "            return 1.\n",
    "        \n",
    "        return np.prod(np.tile((z,m)+np.sort(np.tile(np.arange(m),z.size))).reshape(m,z.size),axis=0)\n",
    "    \n",
    "    def log_product_notation(self,z,m):\n",
    "        '''\n",
    "        Returns log of product notation, i.e.\n",
    "            z + (z+1) + ... + (z+ m - 1)\n",
    "        '''\n",
    "        #make the additive array to add to z\n",
    "        \n",
    "        \n",
    "        if m <= 0:\n",
    "            return 0.\n",
    "        \n",
    "        return np.sum(np.tile((z,m)+np.sort(np.tile(np.arange(m),z.size))).reshape(m,z.size),axis=0)        \n",
    "\n",
    "        \n",
    "        "
   ]
  },
  {
   "cell_type": "code",
   "execution_count": 316,
   "metadata": {
    "collapsed": false
   },
   "outputs": [
    {
     "data": {
      "image/png": "[encoded data removed]",
      "text/plain": [
       "<matplotlib.figure.Figure at 0x111e64690>"
      ]
     },
     "metadata": {},
     "output_type": "display_data"
    }
   ],
   "source": [
    "dat = gen_single(200)\n",
    "emp_cdf = CDF(np.sort(dat),np.linspace(0,1,dat.size+1))\n",
    "g_0 = stats.norm()\n",
    "dp = DP()\n",
    "grid = np.linspace(-4,4,200)\n",
    "post = dp.post_inf(emp_cdf,g_0,alpha=200.,n_cdf=10,grid=grid)\n",
    "emp_cdf = [emp_cdf]\n",
    "fig,ax = plt.subplots(figsize=(10,5))\n",
    "dp.plot_cdfs(emp_cdf,linewidth=4,ax=ax,c='b',grid=grid)\n",
    "dp.plot_cdfs(post,alpha=0.3,ax=ax,grid=grid)"
   ]
  },
  {
   "cell_type": "code",
   "execution_count": 304,
   "metadata": {
    "collapsed": false
   },
   "outputs": [
    {
     "ename": "AttributeError",
     "evalue": "'list' object has no attribute 'get_prob'",
     "output_type": "error",
     "traceback": [
      "\u001b[0;31m---------------------------------------------------------------------------\u001b[0m",
      "\u001b[0;31mAttributeError\u001b[0m                            Traceback (most recent call last)",
      "\u001b[0;32m<ipython-input-304-20ad144f9940>\u001b[0m in \u001b[0;36m<module>\u001b[0;34m()\u001b[0m\n\u001b[1;32m      1\u001b[0m \u001b[0mmix\u001b[0m \u001b[0;34m=\u001b[0m \u001b[0mMixFunction\u001b[0m\u001b[0;34m(\u001b[0m\u001b[0memp_cdf\u001b[0m\u001b[0;34m,\u001b[0m\u001b[0mstats\u001b[0m\u001b[0;34m.\u001b[0m\u001b[0mnorm\u001b[0m\u001b[0;34m(\u001b[0m\u001b[0mloc\u001b[0m\u001b[0;34m=\u001b[0m\u001b[0;36m4.\u001b[0m\u001b[0;34m)\u001b[0m\u001b[0;34m,\u001b[0m\u001b[0;36m2000.\u001b[0m\u001b[0;34m)\u001b[0m\u001b[0;34m\u001b[0m\u001b[0m\n\u001b[1;32m      2\u001b[0m \u001b[0mgrid\u001b[0m \u001b[0;34m=\u001b[0m \u001b[0mnp\u001b[0m\u001b[0;34m.\u001b[0m\u001b[0mlinspace\u001b[0m\u001b[0;34m(\u001b[0m\u001b[0;34m-\u001b[0m\u001b[0;36m2\u001b[0m\u001b[0;34m,\u001b[0m\u001b[0;36m6\u001b[0m\u001b[0;34m,\u001b[0m\u001b[0;36m200\u001b[0m\u001b[0;34m)\u001b[0m\u001b[0;34m\u001b[0m\u001b[0m\n\u001b[0;32m----> 3\u001b[0;31m \u001b[0mplt\u001b[0m\u001b[0;34m.\u001b[0m\u001b[0mplot\u001b[0m\u001b[0;34m(\u001b[0m\u001b[0mgrid\u001b[0m\u001b[0;34m,\u001b[0m\u001b[0mmix\u001b[0m\u001b[0;34m.\u001b[0m\u001b[0mcdf\u001b[0m\u001b[0;34m(\u001b[0m\u001b[0mgrid\u001b[0m\u001b[0;34m)\u001b[0m\u001b[0;34m)\u001b[0m\u001b[0;34m\u001b[0m\u001b[0m\n\u001b[0m\u001b[1;32m      4\u001b[0m \u001b[0;31m#foo = mix.cdf(np.linspace(-4,6,200))\u001b[0m\u001b[0;34m\u001b[0m\u001b[0;34m\u001b[0m\u001b[0m\n",
      "\u001b[0;32m<ipython-input-278-3d0bd5f3ccbf>\u001b[0m in \u001b[0;36mcdf\u001b[0;34m(self, check_x)\u001b[0m\n\u001b[1;32m    168\u001b[0m \u001b[0;34m\u001b[0m\u001b[0m\n\u001b[1;32m    169\u001b[0m     \u001b[0;32mdef\u001b[0m \u001b[0mcdf\u001b[0m\u001b[0;34m(\u001b[0m\u001b[0mself\u001b[0m\u001b[0;34m,\u001b[0m\u001b[0mcheck_x\u001b[0m\u001b[0;34m)\u001b[0m\u001b[0;34m:\u001b[0m\u001b[0;34m\u001b[0m\u001b[0m\n\u001b[0;32m--> 170\u001b[0;31m         \u001b[0mcdf_emp\u001b[0m \u001b[0;34m=\u001b[0m \u001b[0mnp\u001b[0m\u001b[0;34m.\u001b[0m\u001b[0marray\u001b[0m\u001b[0;34m(\u001b[0m\u001b[0mmap\u001b[0m\u001b[0;34m(\u001b[0m\u001b[0mself\u001b[0m\u001b[0;34m.\u001b[0m\u001b[0memp\u001b[0m\u001b[0;34m.\u001b[0m\u001b[0mget_prob\u001b[0m\u001b[0;34m,\u001b[0m\u001b[0mcheck_x\u001b[0m\u001b[0;34m)\u001b[0m\u001b[0;34m)\u001b[0m\u001b[0;34m\u001b[0m\u001b[0m\n\u001b[0m\u001b[1;32m    171\u001b[0m         \u001b[0mcdf_prior\u001b[0m \u001b[0;34m=\u001b[0m \u001b[0mself\u001b[0m\u001b[0;34m.\u001b[0m\u001b[0mg_0\u001b[0m\u001b[0;34m.\u001b[0m\u001b[0mcdf\u001b[0m\u001b[0;34m(\u001b[0m\u001b[0mcheck_x\u001b[0m\u001b[0;34m)\u001b[0m\u001b[0;34m\u001b[0m\u001b[0m\n\u001b[1;32m    172\u001b[0m \u001b[0;34m\u001b[0m\u001b[0m\n",
      "\u001b[0;31mAttributeError\u001b[0m: 'list' object has no attribute 'get_prob'"
     ]
    }
   ],
   "source": [
    "mix = MixFunction(emp_cdf,stats.norm(loc=4.),2000.)\n",
    "grid = np.linspace(-2,6,200)\n",
    "plt.plot(grid,mix.cdf(grid))\n",
    "#foo = mix.cdf(np.linspace(-4,6,200))"
   ]
  },
  {
   "cell_type": "code",
   "execution_count": 452,
   "metadata": {
    "collapsed": false
   },
   "outputs": [
    {
     "name": "stdout",
     "output_type": "stream",
     "text": [
      "[5 6 3 2 3 5 6 3 5 7]\n"
     ]
    }
   ],
   "source": [
    "foo = stats.poisson.rvs(5,size=10)\n",
    "print foo"
   ]
  },
  {
   "cell_type": "code",
   "execution_count": 454,
   "metadata": {
    "collapsed": false
   },
   "outputs": [
    {
     "name": "stdout",
     "output_type": "stream",
     "text": [
      "(array([1, 3, 0, 3, 2, 1]), array([ 2.        ,  2.83333333,  3.66666667,  4.5       ,  5.33333333,\n",
      "        6.16666667,  7.        ]))\n"
     ]
    }
   ],
   "source": [
    "foo_hist = np.histogram(foo,bins=(np.max(foo) - np.min(foo)+1))\n",
    "print foo_hist"
   ]
  },
  {
   "cell_type": "code",
   "execution_count": 6,
   "metadata": {
    "collapsed": false,
    "scrolled": true
   },
   "outputs": [
    {
     "name": "stdout",
     "output_type": "stream",
     "text": [
      "0.174725262234\n"
     ]
    }
   ],
   "source": [
    "dp = DP()\n",
    "cdf_arr = dp.MDPGamma(n_cdf=30,a=1,b=1)\n",
    "means = []\n",
    "stddevs = []\n",
    "for i in cdf_arr:\n",
    "    means.append(i.GetMean())\n",
    "    stddevs.append(i.GetSD())\n",
    "print np.median(means)"
   ]
  },
  {
   "cell_type": "code",
   "execution_count": 21,
   "metadata": {
    "collapsed": false
   },
   "outputs": [
    {
     "data": {
      "text/plain": [
       "array([ 1,  0, -1,  0,  0, -1, -1,  0,  0,  0])"
      ]
     },
     "execution_count": 21,
     "metadata": {},
     "output_type": "execute_result"
    }
   ],
   "source": [
    "foo = stats.rv_discrete(name='emperical_cdf',values=(cdf_arr[0].x,cdf_arr[0].pdf))\n",
    "xk = np.arange(7)\n",
    "pk = (0.1, 0.2, 0.3, 0.1, 0.1, 0.0, 0.2)\n",
    "custm = stats.rv_discrete(name='custm', values=(xk, pk))\n",
    "foo.rvs(size=10)"
   ]
  },
  {
   "cell_type": "code",
   "execution_count": 30,
   "metadata": {
    "collapsed": false
   },
   "outputs": [],
   "source": [
    "foo = np.linspace(0,1,101)\n",
    "x = np.arange(100)\n",
    "probs = stats.uniform.rvs(size=10)\n",
    "rvs = []\n",
    "for i in probs:\n",
    "    rvs.append(x[np.argmin(np.abs(foo - i))])\n"
   ]
  },
  {
   "cell_type": "code",
   "execution_count": 31,
   "metadata": {
    "collapsed": false
   },
   "outputs": [
    {
     "name": "stdout",
     "output_type": "stream",
     "text": [
      "[77, 57, 53, 50, 92, 79, 7, 12, 44, 41]\n",
      "[ 0.76574719  0.56901751  0.52766814  0.50275942  0.92490194  0.78949967\n",
      "  0.07316107  0.12465406  0.44441273  0.40666432]\n",
      "[ 0.    0.01  0.02  0.03  0.04  0.05  0.06  0.07  0.08  0.09  0.1   0.11\n",
      "  0.12  0.13  0.14  0.15  0.16  0.17  0.18  0.19  0.2   0.21  0.22  0.23\n",
      "  0.24  0.25  0.26  0.27  0.28  0.29  0.3   0.31  0.32  0.33  0.34  0.35\n",
      "  0.36  0.37  0.38  0.39  0.4   0.41  0.42  0.43  0.44  0.45  0.46  0.47\n",
      "  0.48  0.49  0.5   0.51  0.52  0.53  0.54  0.55  0.56  0.57  0.58  0.59\n",
      "  0.6   0.61  0.62  0.63  0.64  0.65  0.66  0.67  0.68  0.69  0.7   0.71\n",
      "  0.72  0.73  0.74  0.75  0.76  0.77  0.78  0.79  0.8   0.81  0.82  0.83\n",
      "  0.84  0.85  0.86  0.87  0.88  0.89  0.9   0.91  0.92  0.93  0.94  0.95\n",
      "  0.96  0.97  0.98  0.99  1.  ]\n",
      "[ 0  1  2  3  4  5  6  7  8  9 10 11 12 13 14 15 16 17 18 19 20 21 22 23 24\n",
      " 25 26 27 28 29 30 31 32 33 34 35 36 37 38 39 40 41 42 43 44 45 46 47 48 49\n",
      " 50 51 52 53 54 55 56 57 58 59 60 61 62 63 64 65 66 67 68 69 70 71 72 73 74\n",
      " 75 76 77 78 79 80 81 82 83 84 85 86 87 88 89 90 91 92 93 94 95 96 97 98 99]\n"
     ]
    }
   ],
   "source": [
    "print rvs\n",
    "print probs\n",
    "print foo\n",
    "print x"
   ]
  },
  {
   "cell_type": "code",
   "execution_count": 353,
   "metadata": {
    "collapsed": false
   },
   "outputs": [],
   "source": [
    "cdf_arr = []\n",
    "grid = np.linspace(-4,4,100)\n",
    "med_arr = []\n",
    "stddev_arr = []\n",
    "for j in range(50):\n",
    "    means = []\n",
    "    stddev = []\n",
    "    cdf_arr = []\n",
    "    \n",
    "    for i in range(1000):\n",
    "        x = stats.norm.rvs(size=100)\n",
    "        x = np.sort(x)\n",
    "        y = np.linspace(0.,1.,101)\n",
    "        cdf_arr.append(CDF(x,y))\n",
    "        means.append(cdf_arr[i].GetMean())\n",
    "        stddev.append(cdf_arr[i].GetSD())\n",
    "        \n",
    "    med_arr.append(np.median(means))\n",
    "    stddev_arr.append(np.median(stddev))\n"
   ]
  },
  {
   "cell_type": "code",
   "execution_count": 83,
   "metadata": {
    "collapsed": false
   },
   "outputs": [
    {
     "name": "stdout",
     "output_type": "stream",
     "text": [
      "[  3.25578215e-18   2.82835379e-24   4.20527855e-07   4.88049796e-19\n",
      "   6.46182301e-12   2.14117372e-07   8.94515352e-06   2.54985947e-04\n",
      "   3.05321663e-04   5.59104615e-10   2.16793406e-05   4.60126088e-04\n",
      "   5.73005726e-04   9.42933946e-05   3.28489555e-04   1.35049258e-04\n",
      "   1.34988171e-03   3.00147177e-03   2.27591395e-03   1.30576421e-03\n",
      "   3.38103647e-03   1.03868344e-03   2.68944825e-03   6.54741632e-03\n",
      "   1.05916909e-02   2.76308748e-03   3.68274942e-03   6.57318133e-03\n",
      "   1.01000596e-02   1.36014984e-02   4.52641529e-03   1.46116745e-02\n",
      "   1.68564196e-02   9.20372427e-03   1.86540853e-02   1.61757737e-02\n",
      "   1.82539802e-02   2.35110357e-02   2.76798819e-02   2.52390408e-02\n",
      "   2.23895349e-02   2.28074022e-02   3.72845177e-02   3.00035850e-02\n",
      "   3.21814549e-02   2.48242458e-02   3.43607473e-02   2.51439391e-02\n",
      "   3.36968759e-02   3.47058469e-02   3.80207036e-02   2.75784732e-02\n",
      "   2.91625307e-02   2.37799528e-02   2.35281060e-02   2.92920591e-02\n",
      "   2.01382774e-02   3.15985896e-02   2.35194401e-02   3.66463103e-02\n",
      "   2.21126407e-02   1.63288727e-02   2.04444812e-02   8.36309464e-03\n",
      "   1.25614035e-02   8.93736106e-03   8.63276619e-03   1.58009519e-02\n",
      "   5.72390122e-03   6.72616774e-03   1.66803089e-03   9.44596368e-03\n",
      "   6.24749073e-03   5.97641575e-03   5.07439302e-03   3.33419053e-03\n",
      "   1.10254250e-03   3.67544859e-03   7.00953866e-04   1.40822424e-03\n",
      "   3.58647687e-04   9.68753274e-04   1.38584951e-03   9.77754913e-06\n",
      "   3.29353221e-03   2.43598408e-04   1.48770661e-05   1.03622220e-05\n",
      "   3.51825123e-07   2.93098879e-14   1.11022302e-16   0.00000000e+00\n",
      "   2.97716086e-03   1.88264444e-08   0.00000000e+00   6.47218834e-10\n",
      "   1.23487192e-05   0.00000000e+00   3.88446959e-07   1.11022302e-16]\n",
      "[ 0.  0.  0.  0.  0.  0.  0.  0.  0.  0.  0.  0.  0.  0.  0.  0.  0.  0.\n",
      "  0.  0.  0.  0.  0.  0.  0.  0.  0.  0.  0.  0.  0.  0.  0.  0.  0.  0.\n",
      "  0.  0.  0.  0.  0.  0.  0.  0.  0.  0.  0.  0.  0.  0.  0.  0.  0.  0.\n",
      "  0.  0.  0.  0.  0.  0.  0.  0.  0.  0.  0.  0.  0.  0.  0.  0.  0.  0.\n",
      "  0.  0.  0.  0.  0.  0.  0.  0.  0.  0.  0.  0.  0.  0.  0.  0.  0.  0.\n",
      "  0.  0.  0.  0.  0.  0.  0.  0.  0.  0.]\n"
     ]
    }
   ],
   "source": [
    "foo = np.insert(cdf_arr[0].cdf,cdf_arr[0].cdf.size,1.)\n",
    "print foo[1:] - foo[:-1]\n",
    "print cdf_arr[0].cdf[:] - np.insert(cdf_arr[0].cdf,cdf_arr[0].cdf.size,1.)[:-1]"
   ]
  },
  {
   "cell_type": "code",
   "execution_count": 98,
   "metadata": {
    "collapsed": false
   },
   "outputs": [
    {
     "name": "stdout",
     "output_type": "stream",
     "text": [
      "0.445411343028\n",
      "0.468204203044\n",
      "0.023580938754\n",
      "0.0444806498827\n",
      "0.195169020849\n"
     ]
    }
   ],
   "source": [
    "foo = np.array(stats.uniform.rvs(size=5))\n",
    "for i in foo:\n",
    "    print i"
   ]
  },
  {
   "cell_type": "code",
   "execution_count": 52,
   "metadata": {
    "collapsed": false
   },
   "outputs": [
    {
     "name": "stdout",
     "output_type": "stream",
     "text": [
      "100\n"
     ]
    }
   ],
   "source": [
    "grid = np.linspace(-4,4,100)\n",
    "g_draws = stats.norm.cdf(grid)\n",
    "g_draws = np.insert(g_draws,grid.size,1.)\n",
    "g_diff = g_draws[1:] - g_draws[:-1]\n",
    "print g_diff.size"
   ]
  },
  {
   "cell_type": "code",
   "execution_count": 238,
   "metadata": {
    "collapsed": false
   },
   "outputs": [],
   "source": [
    "class EmpericalDistribution(stats.rv_continuous):\n",
    "    \n",
    "    def SetParameters(self,x,p,d_type='cdf'):\n",
    "        p = np.array(p)[np.argsort(x)]\n",
    "        self.x = np.array(x)[np.argsort(x)]\n",
    "        \n",
    "        if d_type == 'pdf':\n",
    "            self.p = np.cumsum(p)\n",
    "        else:\n",
    "            self.p = p\n",
    "        \n",
    "        \n",
    "    \n",
    "    def _cdf(self,check_x):\n",
    "        if np.all(check_x < self.x):\n",
    "            return 0.0\n",
    "        \n",
    "        if np.all(check_x > self.x):\n",
    "            return 1.0\n",
    "        \n",
    "        diff = check_x - self.x\n",
    "        mask = diff < 0.\n",
    "        \n",
    "        masked_diff = np.ma.masked_array(diff, mask)\n",
    "        return self.p[masked_diff.argmin()]"
   ]
  },
  {
   "cell_type": "code",
   "execution_count": 109,
   "metadata": {
    "collapsed": false
   },
   "outputs": [
    {
     "data": {
      "text/plain": [
       "[0.2183850826968432,\n",
       " 0.78131196631067978,\n",
       " 0.19299689233354664,\n",
       " 0.010697301704192152,\n",
       " 0.0037585826834016633,\n",
       " 0.0094372690352094359,\n",
       " 0.001789514262302305,\n",
       " 6.777355704258306e-06,\n",
       " 4.3939264958602757e-07,\n",
       " 8.9026124561464268e-07]"
      ]
     },
     "execution_count": 109,
     "metadata": {},
     "output_type": "execute_result"
    }
   ],
   "source": [
    "dp.p"
   ]
  },
  {
   "cell_type": "code",
   "execution_count": 171,
   "metadata": {
    "collapsed": false
   },
   "outputs": [],
   "source": [
    "cdf = CDF(np.array([0,1,2,3]),np.array([0.1,0.3,0.95,1.0]))"
   ]
  },
  {
   "cell_type": "code",
   "execution_count": 154,
   "metadata": {
    "collapsed": false
   },
   "outputs": [
    {
     "name": "stdout",
     "output_type": "stream",
     "text": [
      "[-0.5 -1.5 -2.5 -3.5]\n",
      "[ True  True  True  True]\n",
      "[-- -- -- --]\n",
      "0\n"
     ]
    }
   ],
   "source": [
    "diff = -0.5 - np.array([0,1,2,3])\n",
    "print diff\n",
    "mask = diff < 0\n",
    "print mask\n",
    "masked_diff = np.ma.masked_array(diff,mask)\n",
    "print masked_diff\n",
    "print masked_diff.argmin()"
   ]
  },
  {
   "cell_type": "code",
   "execution_count": 64,
   "metadata": {
    "collapsed": false
   },
   "outputs": [],
   "source": [
    "g_grid = rv.cdf(foo)\n",
    "g_diff = g_grid[1:] - g_grid[:-1]\n",
    "p = stats.dirichlet.rvs(g_diff * 0.1)"
   ]
  },
  {
   "cell_type": "code",
   "execution_count": 32,
   "metadata": {
    "collapsed": false
   },
   "outputs": [
    {
     "data": {
      "text/plain": [
       "0.0"
      ]
     },
     "execution_count": 32,
     "metadata": {},
     "output_type": "execute_result"
    }
   ],
   "source": [
    "len(cdf_arr[0].x)\n",
    "(10./(10.+1))**10000"
   ]
  },
  {
   "cell_type": "code",
   "execution_count": 67,
   "metadata": {
    "collapsed": false
   },
   "outputs": [
    {
     "data": {
      "text/plain": [
       "[<matplotlib.lines.Line2D at 0x10bbf0310>]"
      ]
     },
     "execution_count": 67,
     "metadata": {},
     "output_type": "execute_result"
    },
    {
     "data": {
      "image/png": "[encoded data removed]",
      "text/plain": [
       "<matplotlib.figure.Figure at 0x10baf8c90>"
      ]
     },
     "metadata": {},
     "output_type": "display_data"
    }
   ],
   "source": [
    "plt.plot(np.linspace(-4,4,99),sum)"
   ]
  },
  {
   "cell_type": "code",
   "execution_count": 81,
   "metadata": {
    "collapsed": false
   },
   "outputs": [
    {
     "data": {
      "text/plain": [
       "[<matplotlib.lines.Line2D at 0x10d00ea10>]"
      ]
     },
     "execution_count": 81,
     "metadata": {},
     "output_type": "execute_result"
    },
    {
     "data": {
      "image/png": "[encoded data removed]",
      "text/plain": [
       "<matplotlib.figure.Figure at 0x10d00ea90>"
      ]
     },
     "metadata": {},
     "output_type": "display_data"
    }
   ],
   "source": [
    "a = 1\n",
    "b = 1.5\n",
    "foo = np.linspace(0,1,100)\n",
    "beta = stats.beta(a,b)\n",
    "plt.plot(foo,beta.pdf(foo))\n",
    "plt.plot(foo,stats.beta.pdf(foo,a,b))"
   ]
  },
  {
   "cell_type": "code",
   "execution_count": null,
   "metadata": {
    "collapsed": true
   },
   "outputs": [],
   "source": []
  }
 ],
 "metadata": {
  "kernelspec": {
   "display_name": "Python 2",
   "language": "python",
   "name": "python2"
  },
  "language_info": {
   "codemirror_mode": {
    "name": "ipython",
    "version": 2
   },
   "file_extension": ".py",
   "mimetype": "text/x-python",
   "name": "python",
   "nbconvert_exporter": "python",
   "pygments_lexer": "ipython2",
   "version": "2.7.10"
  }
 },
 "nbformat": 4,
 "nbformat_minor": 0
}
