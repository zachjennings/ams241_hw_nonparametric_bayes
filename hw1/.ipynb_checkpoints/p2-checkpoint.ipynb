{
 "cells": [
  {
   "cell_type": "code",
   "execution_count": 1,
   "metadata": {
    "collapsed": false
   },
   "outputs": [],
   "source": [
    "%matplotlib inline\n",
    "import numpy as np\n",
    "import scipy.stats as stats\n",
    "import matplotlib.pyplot as plt"
   ]
  },
  {
   "cell_type": "markdown",
   "metadata": {},
   "source": [
    "AMS 241, Problem Set 1, Problem 2\n",
    "\n",
    "Zachary Jennings"
   ]
  },
  {
   "cell_type": "markdown",
   "metadata": {},
   "source": [
    "Consider a DP prior $DP(\\alpha,G_0)$ with $G_0 = N(0,1)$. "
   ]
  },
  {
   "cell_type": "markdown",
   "metadata": {},
   "source": []
  },
  {
   "cell_type": "code",
   "execution_count": 225,
   "metadata": {
    "collapsed": false
   },
   "outputs": [],
   "source": [
    "class DP(object):\n",
    "    '''\n",
    "    Class to hold a DP prior.\n",
    "    '''\n",
    "    def __init__(self,g='foo',alpha=1.,func_type='normal',**kwargs):\n",
    "        '''\n",
    "        Parameters:\n",
    "        g: scipy.stats object. if not specified, function type is used\n",
    "        alpha: precision parameter for dirichlet distribution\n",
    "        '''    \n",
    "        self.alpha = alpha\n",
    "        \n",
    "        #check if custom function is passed, else use that specified\n",
    "        if g == 'foo':\n",
    "            if func_type == 'normal':\n",
    "                self.g = stats.norm(**kwargs)\n",
    "            elif func_type == 'uniform':\n",
    "                self.g = stats.uniform(**kwargs)\n",
    "            else:\n",
    "                print 'Error: No valid function supplied or specified.'\n",
    "                \n",
    "        else:\n",
    "            self.g = g\n",
    "        \n",
    "        \n",
    "    def DrawCDFFerg(self,grid=np.linspace(-4,4,100),n_cdf=1):\n",
    "        '''\n",
    "        Draw a CDF realization, using method of Fergueson 1973\n",
    "        Parameters:\n",
    "            grid: n x 1 space of values on which to draw Dirichlet values\n",
    "            \n",
    "            n_cdf: int\n",
    "                number of CDFs to generate\n",
    "        \n",
    "        '''\n",
    "        g_draws = self.g.cdf(grid)\n",
    "        g_draws = np.insert(g_draws,[0],[0.])\n",
    "        g_diff = g_draws[1:] - g_draws[:-1]\n",
    "        \n",
    "        cdf_arr = []\n",
    "        for i in range(n_cdf):\n",
    "            p = np.cumsum(stats.dirichlet.rvs(self.alpha*g_diff))\n",
    "            cdf_arr.append(CDF(grid,p))\n",
    "        \n",
    "        return cdf_arr\n",
    "    \n",
    "    def DrawCDFStick(self,n_cdf=1,e=0.001,n_max=1e4):\n",
    "        '''\n",
    "        Draw a CDF realization, using stick-breaking constructive method.\n",
    "        Stop occurs using error-tolerance stop.\n",
    "        '''\n",
    "        #generate lists to hold the relevant values\n",
    "        cdf_arr = []\n",
    "        beta = stats.beta(1,self.alpha)\n",
    "        \n",
    "        #start the primary cdf generation loop\n",
    "        for i in range(n_cdf):\n",
    "            x = []\n",
    "            p = []\n",
    "            z = []\n",
    "            z.append(beta.rvs())\n",
    "            x.append(self.g.rvs())\n",
    "            p.append(z[0])\n",
    "            \n",
    "            #iterate for stick breaking process with appropriate exit conditions\n",
    "            while (self.alpha/(1.+self.alpha))**len(x) > e and len(x) < n_max:\n",
    "                x.append(self.g.rvs())\n",
    "                this_z = beta.rvs()\n",
    "                this_w = np.prod(1.-np.array(z))\n",
    "                p.append(this_w * this_z)\n",
    "                \n",
    "                z.append(this_z)\n",
    "    \n",
    "                if len(x) >= n_max:\n",
    "                    print 'Max iterations exceeded, exiting generation loop'\n",
    "\n",
    "                \n",
    "            self.x = x\n",
    "            self.z = z\n",
    "            self.p = p\n",
    "                \n",
    "            sort_x = np.argsort(x)\n",
    "            x = np.array(x)[sort_x]\n",
    "            p = np.cumsum(np.array(p)[sort_x])\n",
    "            cdf_arr.append(CDF(x,p))\n",
    "            \n",
    "            \n",
    "        return cdf_arr\n",
    "    \n",
    "    def PlotCDFs(self,cdf_arr,grid=np.linspace(-4,4,100),**kwargs):\n",
    "        '''\n",
    "        Plot a list of CDFs for values of grid\n",
    "        Parameters:\n",
    "            cdf_arr: list of CDF objects\n",
    "            grid: x-grid for plotting\n",
    "        '''\n",
    "        fig,ax = plt.subplots()\n",
    "        ax.set_ylim(0.,1.)\n",
    "        \n",
    "        for i in cdf_arr:\n",
    "            p = map(i.GetProb,grid)\n",
    "            ax.plot(grid,p,**kwargs)\n",
    "        \n",
    "        \n",
    "class CDF(object):\n",
    "    '''\n",
    "    Class to hold a single 1D discrete, DP-generated CDF\n",
    "    '''\n",
    "    def __init__(self,x,p):\n",
    "        '''\n",
    "        Parameters:\n",
    "        x: n x 1 array where \n",
    "        p: n x 1 array which holds P(X < x)\n",
    "        '''\n",
    "        self.x = np.array(x)\n",
    "        self.cdf = np.array(p)\n",
    "        self.pdf = self.cdf - np.insert(self.cdf,0.,0.)[:-1]\n",
    "        \n",
    "    def GetProb(self,check_x):\n",
    "        '''\n",
    "        Return P(x < check_x)\n",
    "        '''\n",
    "        #if check_x is below the region where the CDF is defined, make sure to return 0.     \n",
    "        if np.all(check_x < self.x):\n",
    "            return 0.0\n",
    "                \n",
    "        if np.all(check_x > self.x):\n",
    "            return 1.0\n",
    "        \n",
    "        diff = check_x - self.x\n",
    "        mask = diff < 0.\n",
    "        \n",
    "        masked_diff = np.ma.masked_array(diff, mask)\n",
    "        return self.p[masked_diff.argmin()]\n",
    "    \n",
    "    def GetMean(self):\n",
    "        '''\n",
    "        Return the mean (weighted average) of the distributuion\n",
    "        '''\n",
    "        return np.sum(self.pdf * self.x)/np.sum(self.pdf)\n",
    "    \n",
    "    def GetSD(self):\n",
    "        '''\n",
    "        Return the weighted variance of the distribution\n",
    "        '''\n",
    "        return np.sum(self.pdf * (self.x - self.GetMean())**2)/np.sum(self.pdf)\n"
   ]
  },
  {
   "cell_type": "code",
   "execution_count": 237,
   "metadata": {
    "collapsed": false,
    "scrolled": true
   },
   "outputs": [
    {
     "ename": "ValueError",
     "evalue": "operands could not be broadcast together with shapes (101,) (100,) ",
     "output_type": "error",
     "traceback": [
      "\u001b[0;31m---------------------------------------------------------------------------\u001b[0m",
      "\u001b[0;31mValueError\u001b[0m                                Traceback (most recent call last)",
      "\u001b[0;32m<ipython-input-237-d6259e548aa8>\u001b[0m in \u001b[0;36m<module>\u001b[0;34m()\u001b[0m\n\u001b[1;32m      4\u001b[0m \u001b[0mstddevs\u001b[0m \u001b[0;34m=\u001b[0m \u001b[0;34m[\u001b[0m\u001b[0;34m]\u001b[0m\u001b[0;34m\u001b[0m\u001b[0m\n\u001b[1;32m      5\u001b[0m \u001b[0;32mfor\u001b[0m \u001b[0mi\u001b[0m \u001b[0;32min\u001b[0m \u001b[0mcdf_arr\u001b[0m\u001b[0;34m:\u001b[0m\u001b[0;34m\u001b[0m\u001b[0m\n\u001b[0;32m----> 6\u001b[0;31m     \u001b[0mmeans\u001b[0m\u001b[0;34m.\u001b[0m\u001b[0mappend\u001b[0m\u001b[0;34m(\u001b[0m\u001b[0mi\u001b[0m\u001b[0;34m.\u001b[0m\u001b[0mGetMean\u001b[0m\u001b[0;34m(\u001b[0m\u001b[0;34m)\u001b[0m\u001b[0;34m)\u001b[0m\u001b[0;34m\u001b[0m\u001b[0m\n\u001b[0m\u001b[1;32m      7\u001b[0m     \u001b[0mstddevs\u001b[0m\u001b[0;34m.\u001b[0m\u001b[0mappend\u001b[0m\u001b[0;34m(\u001b[0m\u001b[0mi\u001b[0m\u001b[0;34m.\u001b[0m\u001b[0mGetSD\u001b[0m\u001b[0;34m(\u001b[0m\u001b[0;34m)\u001b[0m\u001b[0;34m)\u001b[0m\u001b[0;34m\u001b[0m\u001b[0m\n",
      "\u001b[0;32m<ipython-input-225-77844296fc77>\u001b[0m in \u001b[0;36mGetMean\u001b[0;34m(self)\u001b[0m\n\u001b[1;32m    138\u001b[0m         \u001b[0mReturn\u001b[0m \u001b[0mthe\u001b[0m \u001b[0mmean\u001b[0m \u001b[0;34m(\u001b[0m\u001b[0mweighted\u001b[0m \u001b[0maverage\u001b[0m\u001b[0;34m)\u001b[0m \u001b[0mof\u001b[0m \u001b[0mthe\u001b[0m \u001b[0mdistributuion\u001b[0m\u001b[0;34m\u001b[0m\u001b[0m\n\u001b[1;32m    139\u001b[0m         '''\n\u001b[0;32m--> 140\u001b[0;31m         \u001b[0;32mreturn\u001b[0m \u001b[0mnp\u001b[0m\u001b[0;34m.\u001b[0m\u001b[0msum\u001b[0m\u001b[0;34m(\u001b[0m\u001b[0mself\u001b[0m\u001b[0;34m.\u001b[0m\u001b[0mpdf\u001b[0m \u001b[0;34m*\u001b[0m \u001b[0mself\u001b[0m\u001b[0;34m.\u001b[0m\u001b[0mx\u001b[0m\u001b[0;34m)\u001b[0m\u001b[0;34m/\u001b[0m\u001b[0mnp\u001b[0m\u001b[0;34m.\u001b[0m\u001b[0msum\u001b[0m\u001b[0;34m(\u001b[0m\u001b[0mself\u001b[0m\u001b[0;34m.\u001b[0m\u001b[0mpdf\u001b[0m\u001b[0;34m)\u001b[0m\u001b[0;34m\u001b[0m\u001b[0m\n\u001b[0m\u001b[1;32m    141\u001b[0m \u001b[0;34m\u001b[0m\u001b[0m\n\u001b[1;32m    142\u001b[0m     \u001b[0;32mdef\u001b[0m \u001b[0mGetSD\u001b[0m\u001b[0;34m(\u001b[0m\u001b[0mself\u001b[0m\u001b[0;34m)\u001b[0m\u001b[0;34m:\u001b[0m\u001b[0;34m\u001b[0m\u001b[0m\n",
      "\u001b[0;31mValueError\u001b[0m: operands could not be broadcast together with shapes (101,) (100,) "
     ]
    }
   ],
   "source": [
    "dp = DP(alpha=100.)\n",
    "cdf_arr = dp.DrawCDFFerg(n_cdf=100)\n",
    "means = []\n",
    "stddevs = []\n",
    "for i in cdf_arr:\n",
    "    means.append(i.GetMean())\n",
    "    stddevs.append(i.GetSD())"
   ]
  },
  {
   "cell_type": "code",
   "execution_count": 238,
   "metadata": {
    "collapsed": false
   },
   "outputs": [],
   "source": [
    "class EmpericalDistribution(stats.rv_continuous):\n",
    "    \n",
    "    def SetParameters(self,x,p,d_type='cdf'):\n",
    "        p = np.array(p)[np.argsort(x)]\n",
    "        self.x = np.array(x)[np.argsort(x)]\n",
    "        \n",
    "        if d_type == 'pdf':\n",
    "            self.p = np.cumsum(p)\n",
    "        else:\n",
    "            self.p = p\n",
    "        \n",
    "        \n",
    "    \n",
    "    def _cdf(self,check_x):\n",
    "        if np.all(check_x < self.x):\n",
    "            return 0.0\n",
    "        \n",
    "        if np.all(check_x > self.x):\n",
    "            return 1.0\n",
    "        \n",
    "        diff = check_x - self.x\n",
    "        mask = diff < 0.\n",
    "        \n",
    "        masked_diff = np.ma.masked_array(diff, mask)\n",
    "        return self.p[masked_diff.argmin()]"
   ]
  },
  {
   "cell_type": "code",
   "execution_count": 239,
   "metadata": {
    "collapsed": false
   },
   "outputs": [
    {
     "data": {
      "text/plain": [
       "array([  1.10977698e-240,   1.10977698e-240,   6.96864783e-019,\n",
       "         6.96864783e-019,   6.96864783e-019,   6.96864783e-019,\n",
       "         6.96864783e-019,   6.96864783e-019,   3.15761658e-011,\n",
       "         3.15761658e-011,   4.01194325e-003,   4.01241773e-003,\n",
       "         4.01241773e-003,   4.01241773e-003,   4.01241773e-003,\n",
       "         4.02384726e-003,   4.15238035e-003,   4.15238036e-003,\n",
       "         5.63325528e-003,   5.63325528e-003,   5.63328138e-003,\n",
       "         5.64800220e-003,   5.64918909e-003,   6.02258522e-003,\n",
       "         1.86097272e-002,   1.99597816e-002,   2.00470386e-002,\n",
       "         2.59211874e-002,   3.83307705e-002,   3.95861467e-002,\n",
       "         4.75127755e-002,   5.99729307e-002,   7.72174573e-002,\n",
       "         9.60505326e-002,   9.69258980e-002,   1.00239674e-001,\n",
       "         1.04654276e-001,   1.16240648e-001,   1.33525243e-001,\n",
       "         1.71270830e-001,   1.81649546e-001,   2.12552699e-001,\n",
       "         2.31474638e-001,   2.64714900e-001,   2.70403291e-001,\n",
       "         2.83940584e-001,   3.14381203e-001,   3.56584783e-001,\n",
       "         3.68983896e-001,   3.89318048e-001,   4.22035748e-001,\n",
       "         4.59953725e-001,   4.97849412e-001,   5.48651318e-001,\n",
       "         5.72768562e-001,   6.17826650e-001,   6.60310651e-001,\n",
       "         6.98134320e-001,   7.06675158e-001,   7.12657539e-001,\n",
       "         7.27287531e-001,   7.80260653e-001,   7.93000608e-001,\n",
       "         8.24473610e-001,   8.41684976e-001,   8.57545857e-001,\n",
       "         8.73385468e-001,   8.86975465e-001,   8.89347867e-001,\n",
       "         9.10433952e-001,   9.11105486e-001,   9.42634445e-001,\n",
       "         9.54733967e-001,   9.72306502e-001,   9.75403380e-001,\n",
       "         9.79191231e-001,   9.79271202e-001,   9.79639254e-001,\n",
       "         9.80270256e-001,   9.80474708e-001,   9.80478882e-001,\n",
       "         9.80821288e-001,   9.89092306e-001,   9.89114796e-001,\n",
       "         9.89305564e-001,   9.89305564e-001,   9.89305580e-001,\n",
       "         9.89305580e-001,   9.99994661e-001,   9.99999214e-001,\n",
       "         9.99999837e-001,   9.99999837e-001,   9.99999837e-001,\n",
       "         1.00000000e+000,   1.00000000e+000,   1.00000000e+000,\n",
       "         1.00000000e+000,   1.00000000e+000,   1.00000000e+000,\n",
       "         1.00000000e+000,   1.00000000e+000])"
      ]
     },
     "execution_count": 239,
     "metadata": {},
     "output_type": "execute_result"
    }
   ],
   "source": [
    "cdf_arr[0].cdf"
   ]
  },
  {
   "cell_type": "code",
   "execution_count": 230,
   "metadata": {
    "collapsed": false
   },
   "outputs": [
    {
     "data": {
      "text/plain": [
       "(array([  9.,  11.,  24.,  13.,  17.,   8.,   8.,   5.,   1.,   4.]),\n",
       " array([ 0.21976685,  0.42091187,  0.6220569 ,  0.82320193,  1.02434696,\n",
       "         1.22549199,  1.42663702,  1.62778205,  1.82892707,  2.0300721 ,\n",
       "         2.23121713]),\n",
       " <a list of 10 Patch objects>)"
      ]
     },
     "execution_count": 230,
     "metadata": {},
     "output_type": "execute_result"
    },
    {
     "data": {
      "image/png": "[encoded data removed]",
      "text/plain": [
       "<matplotlib.figure.Figure at 0x10d7ae8d0>"
      ]
     },
     "metadata": {},
     "output_type": "display_data"
    }
   ],
   "source": [
    "plt.hist(stddevs)"
   ]
  },
  {
   "cell_type": "code",
   "execution_count": 109,
   "metadata": {
    "collapsed": false
   },
   "outputs": [
    {
     "data": {
      "text/plain": [
       "[0.2183850826968432,\n",
       " 0.78131196631067978,\n",
       " 0.19299689233354664,\n",
       " 0.010697301704192152,\n",
       " 0.0037585826834016633,\n",
       " 0.0094372690352094359,\n",
       " 0.001789514262302305,\n",
       " 6.777355704258306e-06,\n",
       " 4.3939264958602757e-07,\n",
       " 8.9026124561464268e-07]"
      ]
     },
     "execution_count": 109,
     "metadata": {},
     "output_type": "execute_result"
    }
   ],
   "source": [
    "dp.p"
   ]
  },
  {
   "cell_type": "code",
   "execution_count": 171,
   "metadata": {
    "collapsed": false
   },
   "outputs": [],
   "source": [
    "cdf = CDF(np.array([0,1,2,3]),np.array([0.1,0.3,0.95,1.0]))"
   ]
  },
  {
   "cell_type": "code",
   "execution_count": 154,
   "metadata": {
    "collapsed": false
   },
   "outputs": [
    {
     "name": "stdout",
     "output_type": "stream",
     "text": [
      "[-0.5 -1.5 -2.5 -3.5]\n",
      "[ True  True  True  True]\n",
      "[-- -- -- --]\n",
      "0\n"
     ]
    }
   ],
   "source": [
    "diff = -0.5 - np.array([0,1,2,3])\n",
    "print diff\n",
    "mask = diff < 0\n",
    "print mask\n",
    "masked_diff = np.ma.masked_array(diff,mask)\n",
    "print masked_diff\n",
    "print masked_diff.argmin()"
   ]
  },
  {
   "cell_type": "code",
   "execution_count": 64,
   "metadata": {
    "collapsed": false
   },
   "outputs": [],
   "source": [
    "g_grid = rv.cdf(foo)\n",
    "g_diff = g_grid[1:] - g_grid[:-1]\n",
    "p = stats.dirichlet.rvs(g_diff * 0.1)"
   ]
  },
  {
   "cell_type": "code",
   "execution_count": 32,
   "metadata": {
    "collapsed": false
   },
   "outputs": [
    {
     "data": {
      "text/plain": [
       "0.0"
      ]
     },
     "execution_count": 32,
     "metadata": {},
     "output_type": "execute_result"
    }
   ],
   "source": [
    "len(cdf_arr[0].x)\n",
    "(10./(10.+1))**10000"
   ]
  },
  {
   "cell_type": "code",
   "execution_count": 67,
   "metadata": {
    "collapsed": false
   },
   "outputs": [
    {
     "data": {
      "text/plain": [
       "[<matplotlib.lines.Line2D at 0x10bbf0310>]"
      ]
     },
     "execution_count": 67,
     "metadata": {},
     "output_type": "execute_result"
    },
    {
     "data": {
      "image/png": "[encoded data removed]",
      "text/plain": [
       "<matplotlib.figure.Figure at 0x10baf8c90>"
      ]
     },
     "metadata": {},
     "output_type": "display_data"
    }
   ],
   "source": [
    "plt.plot(np.linspace(-4,4,99),sum)"
   ]
  },
  {
   "cell_type": "code",
   "execution_count": 81,
   "metadata": {
    "collapsed": false
   },
   "outputs": [
    {
     "data": {
      "text/plain": [
       "[<matplotlib.lines.Line2D at 0x10d00ea10>]"
      ]
     },
     "execution_count": 81,
     "metadata": {},
     "output_type": "execute_result"
    },
    {
     "data": {
      "image/png": "[encoded data removed]",
      "text/plain": [
       "<matplotlib.figure.Figure at 0x10d00ea90>"
      ]
     },
     "metadata": {},
     "output_type": "display_data"
    }
   ],
   "source": [
    "a = 1\n",
    "b = 1.5\n",
    "foo = np.linspace(0,1,100)\n",
    "beta = stats.beta(a,b)\n",
    "plt.plot(foo,beta.pdf(foo))\n",
    "plt.plot(foo,stats.beta.pdf(foo,a,b))"
   ]
  },
  {
   "cell_type": "code",
   "execution_count": null,
   "metadata": {
    "collapsed": true
   },
   "outputs": [],
   "source": []
  }
 ],
 "metadata": {
  "kernelspec": {
   "display_name": "Python 2",
   "language": "python",
   "name": "python2"
  },
  "language_info": {
   "codemirror_mode": {
    "name": "ipython",
    "version": 2
   },
   "file_extension": ".py",
   "mimetype": "text/x-python",
   "name": "python",
   "nbconvert_exporter": "python",
   "pygments_lexer": "ipython2",
   "version": "2.7.10"
  }
 },
 "nbformat": 4,
 "nbformat_minor": 0
}
