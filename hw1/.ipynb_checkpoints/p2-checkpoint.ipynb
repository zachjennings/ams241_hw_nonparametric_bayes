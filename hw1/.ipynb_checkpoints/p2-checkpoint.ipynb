{
 "cells": [
  {
   "cell_type": "code",
   "execution_count": 45,
   "metadata": {
    "collapsed": false
   },
   "outputs": [],
   "source": [
    "%matplotlib inline\n",
    "import numpy as np\n",
    "import scipy.stats as stats\n",
    "import matplotlib.pyplot as plt\n",
    "import scipy.special as spc"
   ]
  },
  {
   "cell_type": "markdown",
   "metadata": {},
   "source": [
    "AMS 241, Problem Set 1, Problem 2\n",
    "\n",
    "Zachary Jennings"
   ]
  },
  {
   "cell_type": "markdown",
   "metadata": {},
   "source": [
    "Consider a DP prior $DP(\\alpha,G_0)$ with $G_0 = N(0,1)$. "
   ]
  },
  {
   "cell_type": "markdown",
   "metadata": {},
   "source": []
  },
  {
   "cell_type": "code",
   "execution_count": 327,
   "metadata": {
    "collapsed": true
   },
   "outputs": [],
   "source": [
    "#Data generation for problem 3 and 4\n",
    "def gen_single(n):\n",
    "    return stats.norm.rvs(size=n)\n",
    "\n",
    "def gen_mixture(n):\n",
    "    #generate the proportions of mixtures\n",
    "    gen_select = stats.uniform.rvs(size=n)\n",
    "    mix_1 = np.sum(gen_select < 0.5)\n",
    "    mix_2 = np.sum((gen_select < 0.8) & (gen_select > 0.5))\n",
    "    mix_3 = np.sum(gen_select > 0.8)\n",
    "    \n",
    "    #generate the actual distributions\n",
    "    data = np.array([])\n",
    "    data = np.append(data,stats.norm.rvs(loc=-2.5,scale=0.5,size=mix_1))\n",
    "    data= np.append(data,stats.norm.rvs(loc=0.5,scale=0.7,size=mix_2))\n",
    "    data = np.append(data,stats.norm.rvs(loc=1.5,scale=2,size=mix_3))\n",
    "    return data\n",
    "\n",
    "def gen_poisson(n,mean=5.):\n",
    "    #generate data from a single poisson\n",
    "    return stats.poisson.rvs(mean,size=n)\n",
    "\n",
    "def gen_poisson_mix(n):\n",
    "    gen_select = stats.uniform.rvs(size=n)\n",
    "    mix_1 = np.sum(gen_select < 0.7)\n",
    "    mix_2 = np.sum(gen_select > 0.3)\n",
    "    data = np.array([])\n",
    "    data = np.append(data,stats.poisson.rvs(3.,size=mix_1))\n",
    "    data = np.append(data,stats.poisson.rvs(11.,size=mix_2))\n",
    "    return data\n"
   ]
  },
  {
   "cell_type": "code",
   "execution_count": 360,
   "metadata": {
    "collapsed": false
   },
   "outputs": [],
   "source": [
    "class MixFunction(object):\n",
    "    '''\n",
    "    Class to hold two emperical CDFs.\n",
    "    \n",
    "    Parameters:\n",
    "        emp: emperical CDF\n",
    "        g_0: \"prior\" distribution, scipy.stats.continuous_rv\n",
    "        \n",
    "    Methods:\n",
    "        RV: draw n random variables\n",
    "        CDF: return the CDF at a given X of the mixture distribution\n",
    "    '''\n",
    "    def __init__(self,emp,g_0,alpha):\n",
    "        self.emp = emp\n",
    "        self.g_0 = g_0\n",
    "        self.alpha = alpha\n",
    "        \n",
    "    def rvs(self,size=1):\n",
    "        emp_weight = self.emp.x.size / (self.alpha+self.emp.x.size)\n",
    "        mixture = stats.uniform.rvs(size=size)\n",
    "        if np.sum(mixture < emp_weight) > 0:\n",
    "            emp_draws = self.emp.rvs(size=np.sum(mixture < emp_weight))\n",
    "        else:\n",
    "            emp_draws = []\n",
    "        if np.sum(mixture > emp_weight) > 0:\n",
    "            prior_draws = self.g_0.rvs(size=np.sum(mixture > emp_weight))\n",
    "        else:\n",
    "            prior_draws = []\n",
    "        return np.concatenate([emp_draws,prior_draws])\n",
    "\n",
    "    def cdf(self,check_x):\n",
    "        cdf_emp = np.array(map(self.emp.get_prob,check_x))\n",
    "        cdf_prior = self.g_0.cdf(check_x)\n",
    "\n",
    "        emp_weight = self.emp.x.size / (self.alpha+self.emp.x.size)\n",
    "        prior_weight = 1.-emp_weight\n",
    "        \n",
    "        return cdf_emp * emp_weight + cdf_prior * prior_weight\n",
    "\n",
    "    "
   ]
  },
  {
   "cell_type": "code",
   "execution_count": 361,
   "metadata": {
    "collapsed": false
   },
   "outputs": [],
   "source": [
    "class CDF(object):\n",
    "    '''\n",
    "    Class to hold a single 1D discrete, DP-generated CDF\n",
    "    '''\n",
    "    def __init__(self,x,pdf=None,cdf=None):\n",
    "        '''\n",
    "        Parameters:\n",
    "        x: n x 1 array where \n",
    "        p: (n+1) x 1 array which holds P(X < x)\n",
    "        \n",
    "        all arrays assumed to be sorted\n",
    "        '''\n",
    "        if pdf is None and cdf is None:\n",
    "            print 'need to supply either a pdf or cdf'\n",
    "            \n",
    "        if pdf is None:\n",
    "            self.cdf = np.array(cdf)\n",
    "            self.pdf = self.cdf[1:] - self.cdf[:-1]\n",
    "\n",
    "        if cdf is None:\n",
    "            self.pdf = np.array(pdf)\n",
    "            self.cdf = np.append(np.cumsum(pdf),1.)\n",
    "            \n",
    "        self.x = np.array(x)\n",
    "        \n",
    "    def get_prob(self,check_x):\n",
    "        '''\n",
    "        Return P(x < check_x)\n",
    "        '''\n",
    "        #if check_x is below the region where the CDF is defined, make sure to return 0.     \n",
    "        if np.all(check_x < self.x):\n",
    "            return 0.0\n",
    "                \n",
    "        if np.all(check_x > self.x):\n",
    "            return 1.0\n",
    "        \n",
    "        diff = check_x - self.x\n",
    "        mask = diff < 0.\n",
    "        \n",
    "        masked_diff = np.ma.masked_array(diff, mask)\n",
    "        return self.cdf[masked_diff.argmin()+1]\n",
    "    \n",
    "    def rvs(self,size=1):\n",
    "        '''\n",
    "        Parameters:\n",
    "            size: int, number of rvs desired\n",
    "            \n",
    "        Returns:\n",
    "            RVs drawn from cumulative distribution\n",
    "        '''\n",
    "        probs = np.array(stats.uniform.rvs(size=size))\n",
    "        rvs = []\n",
    "        for i in probs:\n",
    "            rvs.append(self.x[np.argmin(np.abs(self.cdf[:-1] - i))])\n",
    "            \n",
    "        return rvs\n",
    "    \n",
    "    def get_mean(self):\n",
    "        '''\n",
    "        Return the mean (weighted average) of the distributuion\n",
    "        '''\n",
    "        return np.sum(self.pdf * self.x)\n",
    "    \n",
    "    def get_sd(self):\n",
    "        '''|\n",
    "        Return the weighted variance of the distribution\n",
    "        '''\n",
    "        return np.sum(self.pdf * self.x**2) - self.GetMean()**2\n",
    "        \n",
    "        #return np.sum(self.pdf * (self.x - self.GetMean())**2)/((self.pdf.size - 1.)/(self.pdf.size)*np.sum(self.pdf))"
   ]
  },
  {
   "cell_type": "code",
   "execution_count": 362,
   "metadata": {
    "collapsed": false
   },
   "outputs": [],
   "source": [
    "class MDPDiscrete(object):\n",
    "    '''\n",
    "    A class to do posterior inference for\n",
    "    a mixture of Dirichlet priors on discrete data.\n",
    "    \n",
    "    Currently only works for poisson priors. \n",
    "    '''\n",
    "    def __init__(self,data,f_type='poisson',sig_alpha=1.,sig_lambda=1.,theta_init=np.array([5.,np.log(5.)])):\n",
    "        '''\n",
    "        Parameters:\n",
    "            data: CDF object containing the emperical distribution\n",
    "            f_0: scipy.stats object containing prior guess at model, \n",
    "                currently only works for Poisson function\n",
    "            \n",
    "            sig_alpha: sigma for alpha in MH proposal distribution\n",
    "            sig_lambda: sigmpa for lambda in MH proposal distribution\n",
    "        '''\n",
    "        self.data = data\n",
    "        self.y = np.unique(self.data.x)\n",
    "        self.n_j = np.histogram(self.data.x,bins=(np.max(self.data.x) - np.min(self.data.x)+1))[0]\n",
    "        self.n_j = self.n_j[np.nonzero(self.n_j)]\n",
    "        self.n_star = self.y.size\n",
    "        self.n = self.data.x.size\n",
    "        self.f_type = f_type\n",
    "        self.DP = DP()\n",
    "        self.cov = np.array([[sig_alpha,0.],[0.,sig_lambda]])\n",
    "        self.pos = theta_init\n",
    "        self.log_alphas = theta_init[0]\n",
    "        self.log_lambdas = theta_init[1]\n",
    "        self.cur_like = self.log_like(self.pos[0],self.pos[1]) + self.log_prior(self.pos[0],self.pos[1]) \n",
    "        self.total_num_accepted = 0.\n",
    "        self.total_steps = 0.\n",
    "    \n",
    "    def log_like(self,log_alpha,log_lambda):\n",
    "        '''\n",
    "        Method to return the log likelihood for parameter vector theta \n",
    "        Parameters:\n",
    "            log_alpha, log_lambda: logs of parameters for likelihood function\n",
    "        '''\n",
    "        #set the prior function specification\n",
    "        alpha = np.exp(log_alpha)\n",
    "        lamb = np.exp(log_lambda)\n",
    "        if self.f_type == 'poisson':\n",
    "            f_0 = stats.poisson(lamb)\n",
    "        \n",
    "        log_f_0_like = []\n",
    "        alpha_log_f_0_like = []\n",
    "        \n",
    "        for i in range(self.n_j.size):\n",
    "            log_f_0_like.append(f_0.logpmf(self.y[i]))\n",
    "            alpha_log_f_0_like.append(self.log_gamma_div(alpha*np.exp(log_f_0_like[i]) + 1.,self.n_j[i] - 1))\n",
    "            \n",
    "        #cond_post = self.DP.post_inf(self,emp,f_0,alpha=np.exp(log_alpha),n_cdf=1,**kwargs)\n",
    "        tot_log_f_0_like = np.sum(np.array(log_f_0_like) + np.array(alpha_log_f_0_like))\n",
    "        \n",
    "        log_like = self.n_star*log_alpha - self.log_gamma_div(alpha,self.n) +\\\n",
    "            tot_log_f_0_like - log_alpha - log_lambda\n",
    "        \n",
    "        return log_like\n",
    "                \n",
    "    \n",
    "    def log_prior(self,log_alpha,log_lambda,a=10.,b=10.,c=2.,d=2.):\n",
    "        '''\n",
    "        Method to return log of the prior.\n",
    "        '''\n",
    "        pri_alpha = stats.gamma.logpdf(np.exp(log_alpha),a,scale=b)\n",
    "        pri_gamma = stats.gamma.logpdf(np.exp(log_lambda),c,scale=d)\n",
    "        \n",
    "        return pri_alpha + pri_gamma\n",
    "    \n",
    "    def mcmc_step(self,n_steps=1):\n",
    "        '''\n",
    "        Run the mcmc sampler for a given number of steps.\n",
    "        '''\n",
    "        num_accepted = 0.\n",
    "        for i in range(n_steps):\n",
    "            #draw two values from a MVN proposal distribution\n",
    "            prop = stats.multivariate_normal.rvs(mean=self.pos,cov=self.cov)\n",
    "            prop_like = self.log_like(prop[0],prop[1]) + self.log_prior(prop[0],prop[1])\n",
    "            accept = prop_like - self.cur_like\n",
    "            test = np.log(stats.uniform.rvs())\n",
    "\n",
    "            #if the proposal is more likely, accept \n",
    "            if accept > 0 or accept >= test:\n",
    "                self.log_alphas = np.append(self.log_alphas,prop[0])\n",
    "                self.log_lambdas = np.append(self.log_lambdas,prop[1])\n",
    "                self.cur_like = prop_like\n",
    "                self.pos = np.array([prop[0],prop[1]])\n",
    "                num_accepted += 1\n",
    "\n",
    "            #if proposal is less likely, accept with probability accept\n",
    "            elif accept < test:\n",
    "                    self.log_alphas = np.append(self.log_alphas,self.pos[0])\n",
    "                    self.log_lambdas = np.append(self.log_lambdas,self.pos[1])\n",
    "            \n",
    "        self.total_num_accepted += num_accepted\n",
    "        self.total_steps += n_steps\n",
    "        self.total_accept_frac = self.total_num_accepted / self.total_steps\n",
    "        \n",
    "        print 'Acceptance fraction for this run:'+str(num_accepted/n_steps)\n",
    "    \n",
    "    def gamma_div(self,z,m):\n",
    "        '''\n",
    "        for given arguments z, n_j, return:\n",
    "            z * (z+1) * ... * (z+ n + 1)\n",
    "        '''\n",
    "        #by definiton, n_j=0 returns 1\n",
    "        if m <= 0:        \n",
    "            return 1.\n",
    "        \n",
    "        #return np.prod((np.tile(z,m) + np.sort(np.tile(np.arange(m),z.size))).reshape(m,z.size),axis=0)\n",
    "        return spc.gamma(z+m) / spc.gamma(z)\n",
    "    \n",
    "    def log_gamma_div(self,z,m):\n",
    "        '''\n",
    "        Returns log of product notation, i.e.\n",
    "            z + (z+1) + ... + (z+ m - 1)\n",
    "        '''\n",
    "        #make the additive array to add to z   \n",
    "        if m <= 0:\n",
    "            return 0.\n",
    "        \n",
    "        #return np.sum((np.tile(z,m) + np.sort(np.tile(np.arange(m),z.size))).reshape(m,z.size),axis=0)        \n",
    "        return spc.gammaln(z+m) - spc.gammaln(z)\n",
    "        \n",
    "        "
   ]
  },
  {
   "cell_type": "code",
   "execution_count": 432,
   "metadata": {
    "collapsed": false
   },
   "outputs": [
    {
     "name": "stdout",
     "output_type": "stream",
     "text": [
      "Acceptance fraction for this run:0.2715\n"
     ]
    }
   ],
   "source": [
    "data = gen_poisson(300)\n",
    "emp_cdf = CDF(np.sort(data),cdf=np.linspace(0,1,data.size+1))\n",
    "mdp = MDPDiscrete(emp_cdf,sig_alpha=0.3,sig_lambda=0.01)\n",
    "mdp.mcmc_step(n_steps=2000)"
   ]
  },
  {
   "cell_type": "code",
   "execution_count": 433,
   "metadata": {
    "collapsed": false
   },
   "outputs": [
    {
     "data": {
      "text/plain": [
       "[<matplotlib.lines.Line2D at 0x115f86dd0>]"
      ]
     },
     "execution_count": 433,
     "metadata": {},
     "output_type": "execute_result"
    },
    {
     "data": {
      "image/png": "[encoded data removed]",
      "text/plain": [
       "<matplotlib.figure.Figure at 0x118007410>"
      ]
     },
     "metadata": {},
     "output_type": "display_data"
    }
   ],
   "source": [
    "plt.plot(mdp.log_lambdas)"
   ]
  },
  {
   "cell_type": "code",
   "execution_count": 435,
   "metadata": {
    "collapsed": false,
    "scrolled": true
   },
   "outputs": [
    {
     "name": "stdout",
     "output_type": "stream",
     "text": [
      "[ nan  nan  nan  nan  nan  nan  nan  nan  nan  nan  nan  nan]\n",
      "[ 0.00483365  0.02181839  0.05627902  0.0948755   0.13805435  0.17134437\n",
      "  0.13232064  0.10841698  0.08391012  0.04631255  0.07797086  0.06150033]\n",
      "[ 0.00491141  0.0221014   0.05648179  0.09332016  0.13262219  0.15966864\n",
      "  0.11064426  0.07892691  0.04987966  0.01135417  0.02461475  0.25301896]\n",
      "[ 0.00477374  0.02148183  0.054898    0.09070105  0.12889096  0.15514655\n",
      "  0.10740925  0.07638026  0.04773883  0.0095518   0.01674936  0.28389151]\n",
      "[ 0.00461349  0.02076069  0.0530551   0.08765625  0.12456415  0.14993832\n",
      "  0.10380345  0.07381579  0.04613487  0.00922698  0.01614726  0.3079769 ]\n",
      "[ 0.00540237  0.02431067  0.06212728  0.10264507  0.14586404  0.17557709\n",
      "  0.12155337  0.08643795  0.05402372  0.01080474  0.0189083   0.18964421]\n",
      "[ 0.00426895  0.01921026  0.0490929   0.08111     0.11526158  0.13874079\n",
      "  0.09605132  0.06830316  0.04268948  0.0085379   0.01494132  0.35965787]\n",
      "[ 0.00446284  0.02008278  0.05132265  0.08479395  0.12049666  0.14504227\n",
      "  0.10041388  0.07140543  0.04462839  0.00892568  0.01561994  0.33057412]\n",
      "[ 0.00541725  0.0243776   0.06229832  0.10292766  0.14626562  0.17606047\n",
      "  0.12188802  0.08667593  0.05417245  0.01083449  0.01896036  0.1874132 ]\n",
      "[ 0.0052455   0.02360475  0.06032326  0.09966452  0.14162852  0.17047878\n",
      "  0.11802377  0.08392801  0.05245501  0.010491    0.01835925  0.21317488]\n",
      "[ 0.00425765  0.01915942  0.04896297  0.08089534  0.11495654  0.13837361\n",
      "  0.09579712  0.06812239  0.0425765   0.0085153   0.01490177  0.36135256]\n",
      "[ 0.00449068  0.02020806  0.05164281  0.08532291  0.12124834  0.14594708\n",
      "  0.10104028  0.07185087  0.04490679  0.00898136  0.01571738  0.32639811]\n",
      "[ 0.00443268  0.01994706  0.05097582  0.08422092  0.11968236  0.1440621\n",
      "  0.0997353   0.07092288  0.0443268   0.00886536  0.01551438  0.335098  ]\n",
      "[ 0.00489562  0.02203031  0.05629967  0.09301685  0.13218184  0.15910778\n",
      "  0.11015154  0.07832998  0.04895624  0.00979125  0.01713468  0.26565642]\n",
      "[ 0.00453686  0.02041588  0.05217391  0.08620037  0.12249527  0.14744801\n",
      "  0.10207939  0.07258979  0.04536862  0.00907372  0.01587902  0.31947073]\n",
      "[ 0.00417498  0.01878743  0.04801233  0.07932471  0.11272459  0.13568701\n",
      "  0.09393716  0.06679976  0.04174985  0.00834997  0.01461245  0.37375226]\n",
      "[ 0.00491778  0.02213002  0.0565545   0.09343786  0.13278012  0.15982792\n",
      "  0.1106501   0.07868452  0.04917782  0.00983556  0.01721224  0.26233267]\n",
      "[ 0.00458014  0.02061065  0.05267166  0.08702274  0.12366389  0.14885468\n",
      "  0.10305324  0.0732823   0.04580144  0.00916029  0.0160305   0.3129784 ]\n",
      "[ 0.00510221  0.02295995  0.05867543  0.09694202  0.13775971  0.16582187\n",
      "  0.11479976  0.08163538  0.05102211  0.01020442  0.01785774  0.23466829]\n",
      "[ 0.00446831  0.02010741  0.05138561  0.08489796  0.12064448  0.1452202\n",
      "  0.10053706  0.07149302  0.04468314  0.00893663  0.0156391   0.32975291]\n",
      "[ 0.00487948  0.02195768  0.05611406  0.09271019  0.13174606  0.15858321\n",
      "  0.10978838  0.07807174  0.04879484  0.00975897  0.01707819  0.26807747]\n",
      "[ 0.00516074  0.02322331  0.05934846  0.09805397  0.13933985  0.1677239\n",
      "  0.11611655  0.08257177  0.05160735  0.01032147  0.01806257  0.22588969]\n",
      "[ 0.00531042  0.02389691  0.06106988  0.10089806  0.14338146  0.17258879\n",
      "  0.11948455  0.08496679  0.05310424  0.01062085  0.01858649  0.20343635]\n",
      "[ 0.00508708  0.02289184  0.05850138  0.09665445  0.13735105  0.16532997\n",
      "  0.11445921  0.08139322  0.05087076  0.01017415  0.01780477  0.23693859]\n",
      "[ 0.00483319  0.02174937  0.05558172  0.09183067  0.13049622  0.15707878\n",
      "  0.10874685  0.07733109  0.04833193  0.00966639  0.01691618  0.27502102]\n",
      "[ 0.00460458  0.02072062  0.05295271  0.08748708  0.12432374  0.14964895\n",
      "  0.10360312  0.07367333  0.04604583  0.00920917  0.01611604  0.30931254]\n",
      "[ 0.00460458  0.02072062  0.05295271  0.08748708  0.12432374  0.14964895\n",
      "  0.10360312  0.07367333  0.04604583  0.00920917  0.01611604  0.30931254]\n",
      "[ 0.00501722  0.02257749  0.05769803  0.09532718  0.13546495  0.16305966\n",
      "  0.11288745  0.08027552  0.0501722   0.01003444  0.01756027  0.24741697]\n",
      "[ 0.00478187  0.02151842  0.05499152  0.09085555  0.12911052  0.15541081\n",
      "  0.1075921   0.07650994  0.04781871  0.00956374  0.01673655  0.28271935]\n",
      "[ 0.00462745  0.02082354  0.05321572  0.08792162  0.12494125  0.15039224\n",
      "  0.1041177   0.07403926  0.04627454  0.00925491  0.01619609  0.30588197]\n",
      "[ 0.0041309   0.01858906  0.04750539  0.07848716  0.11153439  0.13425436\n",
      "  0.09294532  0.06609445  0.04130903  0.00826181  0.01445816  0.3803645 ]\n",
      "[ 0.00481191  0.02165359  0.05533696  0.09142629  0.12992157  0.15638707\n",
      "  0.10826797  0.07699056  0.0481191   0.00962382  0.01684168  0.27821353]\n",
      "[ 0.00483365  0.02175145  0.05558703  0.09183944  0.13050868  0.15709378\n",
      "  0.10875723  0.07733848  0.04833655  0.00966731  0.01691779  0.27495179]\n",
      "[ 0.00509528  0.02292876  0.05859572  0.09681031  0.13757255  0.16559659\n",
      "  0.11464379  0.08152448  0.0509528   0.01019056  0.01783348  0.23570804]\n",
      "[ 0.00469311  0.02111901  0.05397079  0.08916914  0.12671404  0.15252616\n",
      "  0.10559503  0.0750898   0.04693113  0.00938623  0.01642589  0.29603312]\n",
      "[ 0.00550632  0.02477844  0.06332269  0.1046201   0.14867067  0.17895543\n",
      "  0.12389222  0.08810114  0.05506321  0.01101264  0.01927212  0.17405186]\n",
      "[ 0.00511007  0.02299533  0.05876585  0.0970914   0.137972    0.1660774\n",
      "  0.11497666  0.08176118  0.05110074  0.01022015  0.01788526  0.23348891]\n",
      "[ 0.0048112   0.0216504   0.05532879  0.09141278  0.12990237  0.15636397\n",
      "  0.10825198  0.07697918  0.04811199  0.0096224   0.0168392   0.27832016]\n",
      "[ 0.0048112   0.0216504   0.05532879  0.09141278  0.12990237  0.15636397\n",
      "  0.10825198  0.07697918  0.04811199  0.0096224   0.0168392   0.27832016]\n",
      "[ 0.00534789  0.02406551  0.06150076  0.10160994  0.14439308  0.17380648\n",
      "  0.12032757  0.08556627  0.05347892  0.01069578  0.01871762  0.19781623]\n",
      "[ 0.00470698  0.02118141  0.05413026  0.0894326   0.12708843  0.15297682\n",
      "  0.10590703  0.07531166  0.04706979  0.00941396  0.01647443  0.29395314]\n",
      "[ 0.00438422  0.01972899  0.05041852  0.08330016  0.11837392  0.14248712\n",
      "  0.09864493  0.07014751  0.04384219  0.00876844  0.01534477  0.34236713]\n",
      "[ 0.00463969  0.0208786   0.05335643  0.08815411  0.12527162  0.15078992\n",
      "  0.10439302  0.07423504  0.0463969   0.00927938  0.01623891  0.30404654]\n",
      "[ 0.00482087  0.0216939   0.05543996  0.09159645  0.13016338  0.15667814\n",
      "  0.10846948  0.07713385  0.04820866  0.00964173  0.01687303  0.27687013]\n",
      "[ 0.00500538  0.02252422  0.05756189  0.09510225  0.13514531  0.16267491\n",
      "  0.11262109  0.08008611  0.05005382  0.01001076  0.01751884  0.24919273]\n",
      "[ 0.00425845  0.01916304  0.04897221  0.08091061  0.11497823  0.13839972\n",
      "  0.09581519  0.06813525  0.04258453  0.00851691  0.01490459  0.36123204]\n",
      "[ 0.00461053  0.0207474   0.05302114  0.08760014  0.1244844   0.14984234\n",
      "  0.103737    0.07376854  0.04610534  0.00922107  0.01613687  0.30841997]\n",
      "[ 0.00457867  0.020604    0.05265467  0.08699467  0.12362401  0.14880668\n",
      "  0.10302001  0.07325867  0.04578667  0.00915733  0.01602533  0.31319994]\n",
      "[ 0.00428012  0.01926052  0.04922133  0.08132221  0.11556313  0.13910377\n",
      "  0.09630261  0.06848186  0.04280116  0.00856023  0.01498041  0.35798259]\n",
      "[ 0.00519823  0.02339203  0.05977964  0.09876637  0.1403522   0.16894247\n",
      "  0.11696017  0.08317168  0.0519823   0.01039646  0.0181938   0.22026553]\n",
      "[ 0.00459202  0.02066408  0.05280821  0.08724835  0.1239845   0.1492406\n",
      "  0.10332042  0.0734723   0.04592019  0.00918404  0.01607206  0.31119722]\n",
      "[ 0.00497909  0.0224059   0.05725951  0.09460267  0.13443537  0.16182036\n",
      "  0.11202948  0.07966541  0.04979088  0.00995818  0.01742681  0.25313681]\n",
      "[ 0.00447115  0.02012017  0.0514182   0.08495182  0.120721    0.14531232\n",
      "  0.10060083  0.07153837  0.04471148  0.0089423   0.01564902  0.32932777]\n",
      "[ 0.0044152   0.01986841  0.05077484  0.08388886  0.11921049  0.14349411\n",
      "  0.09934207  0.07064325  0.04415203  0.00883041  0.01545321  0.33771951]\n",
      "[ 0.00472918  0.02128131  0.05438558  0.08985443  0.12768788  0.15369837\n",
      "  0.10640657  0.07566689  0.04729181  0.00945836  0.01655213  0.29062289]\n",
      "[ 0.00460288  0.02071298  0.05293316  0.08745478  0.12427785  0.14959371\n",
      "  0.10356488  0.07364613  0.04602883  0.00920577  0.01611009  0.30956749]\n",
      "[ 0.00499201  0.02246405  0.05740813  0.09484821  0.1347843   0.16224036\n",
      "  0.11232025  0.07987218  0.04992011  0.00998402  0.01747204  0.25119833]\n",
      "[ 0.00499201  0.02246405  0.05740813  0.09484821  0.1347843   0.16224036\n",
      "  0.11232025  0.07987218  0.04992011  0.00998402  0.01747204  0.25119833]\n",
      "[ 0.004819    0.02168552  0.05541854  0.09156107  0.1301131   0.15661762\n",
      "  0.10842758  0.07710406  0.04819004  0.00963801  0.01686651  0.27714945]\n",
      "[ 0.00503344  0.02265048  0.05788455  0.09563535  0.13590287  0.16358678\n",
      "  0.11325239  0.08053503  0.0503344   0.01006688  0.01761704  0.24498407]\n",
      "[ 0.00511677  0.02302547  0.05884288  0.09721867  0.13815285  0.16629509\n",
      "  0.11512737  0.08186835  0.05116772  0.01023354  0.0179087   0.23248419]\n",
      "[ 0.00476632  0.02144843  0.05481265  0.09056003  0.12869057  0.15490531\n",
      "  0.10724214  0.07626108  0.04766317  0.00953263  0.01668211  0.2850524 ]\n",
      "[ 0.00519598  0.0233819   0.05975375  0.0987236   0.14029142  0.16886931\n",
      "  0.11690952  0.08313566  0.05195979  0.01039196  0.01818593  0.2206032 ]\n",
      "[ 0.00496236  0.02233061  0.05706712  0.09428481  0.13398368  0.16127665\n",
      "  0.11165307  0.07939774  0.04962359  0.00992472  0.01736825  0.25564622]\n",
      "[ 0.00391891  0.01763508  0.04506743  0.07445923  0.10581048  0.12736447\n",
      "  0.0881754   0.06270251  0.03918907  0.00783781  0.01371617  0.412164  ]\n",
      "[ 0.00495715  0.02230718  0.05700723  0.09418586  0.13384307  0.1611074\n",
      "  0.11153589  0.07931441  0.04957151  0.0099143   0.01735003  0.25642741]\n",
      "[ 0.00447543  0.02013943  0.05146743  0.08503315  0.12083659  0.14545145\n",
      "  0.10069715  0.07160687  0.04475429  0.00895086  0.015664    0.32868564]\n",
      "[ 0.00526435  0.02368959  0.06054006  0.10002271  0.14213753  0.17109147\n",
      "  0.11844794  0.08422965  0.05264353  0.01052871  0.01842524  0.21034706]\n",
      "[ 0.00506417  0.02278877  0.05823798  0.09621927  0.13673265  0.1645856\n",
      "  0.11394387  0.08102676  0.05064172  0.01012834  0.0177246   0.24037417]\n",
      "[ 0.00501573  0.02257079  0.05768092  0.09529891  0.13542477  0.1630113\n",
      "  0.11285397  0.08025172  0.05015732  0.01003146  0.01755506  0.24764017]\n",
      "[ 0.00475276  0.02138741  0.05465672  0.09030241  0.12832447  0.15446464\n",
      "  0.10693706  0.07604413  0.04752758  0.00950552  0.01663465  0.28708626]\n",
      "[ 0.0051862   0.0233379   0.05964129  0.09853779  0.14002738  0.16855148\n",
      "  0.11668948  0.08297919  0.05186199  0.0103724   0.0181517   0.22207011]\n",
      "[ 0.00506039  0.02277176  0.05819451  0.09614745  0.13663059  0.16446274\n",
      "  0.11385882  0.08096627  0.05060392  0.01012078  0.01771137  0.24094118]\n",
      "[ 0.00461708  0.02077686  0.05309642  0.08772452  0.12466116  0.1500551\n",
      "  0.1038843   0.07387328  0.0461708   0.00923416  0.01615978  0.30743802]\n",
      "[ 0.00475907  0.02141579  0.05472925  0.09042224  0.12849477  0.15466963\n",
      "  0.10707897  0.07614505  0.04759065  0.00951813  0.01665673  0.28614019]\n",
      "[ 0.00475907  0.02141579  0.05472925  0.09042224  0.12849477  0.15466963\n",
      "  0.10707897  0.07614505  0.04759065  0.00951813  0.01665673  0.28614019]\n",
      "[ 0.00467894  0.02105523  0.0538078   0.08889985  0.12633137  0.15206553\n",
      "  0.10527614  0.07486303  0.04678939  0.00935788  0.01637629  0.29815908]\n",
      "[ 0.00482208  0.02169936  0.05545393  0.09161954  0.13019618  0.15671763\n",
      "  0.10849682  0.07715329  0.04822081  0.00964416  0.01687728  0.27668787]\n",
      "[ 0.00482208  0.02169936  0.05545393  0.09161954  0.13019618  0.15671763\n",
      "  0.10849682  0.07715329  0.04822081  0.00964416  0.01687728  0.27668787]\n",
      "[ 0.00448261  0.02017172  0.05154996  0.0851695   0.12103035  0.14568468\n",
      "  0.10085862  0.07172169  0.04482605  0.00896521  0.01568912  0.32760918]\n",
      "[ 0.0045114   0.02030131  0.05188112  0.08571663  0.12180785  0.14662056\n",
      "  0.10150654  0.07218243  0.04511402  0.0090228   0.01578991  0.32328974]\n",
      "[ 0.00472737  0.02127318  0.0543648   0.08982011  0.1276391   0.15363966\n",
      "  0.10636592  0.07563799  0.04727374  0.00945475  0.01654581  0.29089389]\n",
      "[ 0.00520919  0.02344137  0.05990572  0.09897466  0.14064821  0.16929877\n",
      "  0.11720684  0.08334708  0.05209193  0.01041839  0.01823217  0.21862108]\n",
      "[ 0.00539683  0.02428576  0.0620636   0.10253985  0.14571453  0.17539712\n",
      "  0.12142878  0.08634935  0.05396834  0.01079367  0.01888892  0.19047483]\n",
      "[ 0.00492184  0.02214829  0.05660119  0.09351501  0.13288975  0.15995988\n",
      "  0.11074145  0.07874948  0.04921842  0.00984368  0.01722645  0.26172364]\n",
      "[ 0.00526928  0.02371178  0.06059676  0.10011638  0.14227065  0.17125171\n",
      "  0.11855888  0.08430853  0.05269283  0.01053857  0.01844249  0.2096075 ]\n",
      "[ 0.00404793  0.01821569  0.0465512   0.07691067  0.10929411  0.13155773\n",
      "  0.09107843  0.06476688  0.0404793   0.00809586  0.01416776  0.39281048]\n",
      "[ 0.00463246  0.02084605  0.05327323  0.08801665  0.12507629  0.15055479\n",
      "  0.10423024  0.07411928  0.04632455  0.00926491  0.01621359  0.30513174]\n",
      "[ 0.0050623   0.02278035  0.05821646  0.09618371  0.13668212  0.16452477\n",
      "  0.11390177  0.08099681  0.05062301  0.0101246   0.01771805  0.24065489]\n",
      "[ 0.00513283  0.02309772  0.05902752  0.09752372  0.13858634  0.16681689\n",
      "  0.11548862  0.08212524  0.05132827  0.01026565  0.0179649   0.23007588]\n",
      "[ 0.00530932  0.02389196  0.06105723  0.10087717  0.14335176  0.17255305\n",
      "  0.1194598   0.08494919  0.05309325  0.01061865  0.01858264  0.20360132]\n",
      "[ 0.00472703  0.02127163  0.05436084  0.08981357  0.12762981  0.15362847\n",
      "  0.10635817  0.07563248  0.0472703   0.00945406  0.0165446   0.29094551]\n",
      "[ 0.00472703  0.02127163  0.05436084  0.08981357  0.12762981  0.15362847\n",
      "  0.10635817  0.07563248  0.0472703   0.00945406  0.0165446   0.29094551]\n",
      "[ 0.00451255  0.0203065   0.05189438  0.08573854  0.12183898  0.14665803\n",
      "  0.10153248  0.07220087  0.04512555  0.00902511  0.01579394  0.3231168 ]\n",
      "[ 0.0047618   0.02142811  0.05476073  0.09047426  0.12856868  0.1547586\n",
      "  0.10714057  0.07618885  0.04761803  0.00952361  0.01666631  0.28572956]\n",
      "[ 0.00528069  0.02376312  0.06072796  0.10033316  0.14257869  0.1716225\n",
      "  0.11881558  0.08449108  0.05280692  0.01056138  0.01848242  0.20789614]\n",
      "[ 0.00427212  0.01922453  0.04912934  0.08117022  0.11534716  0.1388438\n",
      "  0.09612263  0.06835387  0.04272117  0.00854423  0.01495241  0.35918247]\n",
      "[ 0.00446277  0.02008248  0.0513219   0.08479271  0.1204949   0.14504016\n",
      "  0.10041242  0.07140439  0.04462774  0.00892555  0.01561971  0.33058388]\n",
      "[ 0.00468572  0.02108575  0.05388582  0.08902874  0.12651452  0.152286\n",
      "  0.10542877  0.07497157  0.04685723  0.00937145  0.01640003  0.29714154]\n",
      "[ 0.00490357  0.02206607  0.05639107  0.09316785  0.13239642  0.15936606\n",
      "  0.11033035  0.07845714  0.04903571  0.00980714  0.0171625   0.26446433]\n",
      "[ 0.00463838  0.02087269  0.05334132  0.08812915  0.12523615  0.15074722\n",
      "  0.10436346  0.07421402  0.04638376  0.00927675  0.01623432  0.30424359]\n",
      "[ 0.00480589  0.02162649  0.0552677   0.09131185  0.12975895  0.15619132\n",
      "  0.10813245  0.07689419  0.04805887  0.00961177  0.0168206   0.27911697]\n",
      "[ 0.00461327  0.0207597   0.05305256  0.08765205  0.12455817  0.14993114\n",
      "  0.10379848  0.07381225  0.04613266  0.00922653  0.01614643  0.30801014]\n",
      "[ 0.00513878  0.02312449  0.05909592  0.09763673  0.13874694  0.1670102\n",
      "  0.11562245  0.08222041  0.05138775  0.01027755  0.01798571  0.22918369]\n",
      "[ 0.0046349   0.02085707  0.05330141  0.08806319  0.12514243  0.15063441\n",
      "  0.10428536  0.07415848  0.04634905  0.00926981  0.01622217  0.30476428]\n",
      "[ 0.00398141  0.01791633  0.04578619  0.07564675  0.10749801  0.12939575\n",
      "  0.08958167  0.06370252  0.03981408  0.00796282  0.01393493  0.40278885]\n",
      "[ 0.00512111  0.023045    0.05889279  0.09730112  0.13827002  0.16643613\n",
      "  0.11522502  0.08193779  0.05121112  0.01024222  0.01792389  0.23183322]\n",
      "[ 0.00526944  0.02371247  0.06059854  0.10011933  0.14227484  0.17125675\n",
      "  0.11856237  0.08431102  0.05269439  0.01053888  0.01844303  0.20958422]\n",
      "[ 0.00442204  0.01989918  0.05085346  0.08401875  0.11939507  0.14371629\n",
      "  0.09949589  0.07075263  0.0442204   0.00884408  0.01547714  0.33669406]\n",
      "[ 0.00421371  0.01896169  0.04845765  0.08006047  0.11377015  0.13694555\n",
      "  0.09480845  0.06741935  0.04213709  0.00842742  0.01474798  0.36794363]\n",
      "[ 0.00440889  0.01984001  0.05070225  0.08376894  0.11904007  0.14328897\n",
      "  0.09920006  0.07054226  0.04408891  0.00881778  0.01543112  0.33866629]\n",
      "[ 0.00515652  0.02320435  0.05930001  0.09797393  0.13922611  0.16758699\n",
      "  0.11602176  0.08250436  0.05156523  0.01031305  0.01804783  0.22652161]\n",
      "[ 0.00487517  0.02193829  0.05606451  0.09262832  0.13162972  0.15844318\n",
      "  0.10969143  0.0780028   0.04875175  0.00975035  0.01706311  0.26872379]\n",
      "[ 0.00497695  0.02239626  0.05723488  0.09456198  0.13437755  0.16175076\n",
      "  0.11198129  0.07963114  0.04976946  0.00995389  0.01741931  0.25345804]\n",
      "[ 0.00518488  0.02333194  0.05962607  0.09851263  0.13999163  0.16850845\n",
      "  0.1166597   0.08295801  0.05184875  0.01036975  0.01814706  0.2222687 ]\n",
      "[ 0.00482069  0.02169312  0.05543797  0.09159316  0.1301587   0.15667251\n",
      "  0.10846559  0.07713108  0.04820693  0.00964139  0.01687242  0.27689609]\n",
      "[ 0.00516387  0.02323742  0.05938452  0.09811355  0.13942452  0.16782581\n",
      "  0.1161871   0.08262194  0.05163871  0.01032774  0.01807355  0.22541936]\n",
      "[ 0.00466041  0.02097182  0.05359466  0.0885477   0.12583094  0.15146317\n",
      "  0.10485912  0.07456648  0.04660405  0.00932081  0.01631142  0.30093923]\n",
      "[ 0.00489377  0.02202197  0.05627837  0.09298166  0.13213184  0.15904758\n",
      "  0.11010986  0.07830035  0.04893772  0.00978754  0.0171282   0.26593424]\n",
      "[ 0.00464694  0.02091122  0.05343979  0.08829183  0.12546734  0.1510255\n",
      "  0.10455612  0.07435102  0.04646939  0.00929388  0.01626429  0.30295921]\n",
      "[ 0.00502183  0.02259824  0.05775105  0.09541478  0.13558942  0.16320949\n",
      "  0.11299118  0.08034929  0.0502183   0.01004366  0.01757641  0.24672544]\n",
      "[ 0.00517551  0.0232898   0.05951839  0.09833473  0.13973882  0.16820414\n",
      "  0.11644902  0.08280819  0.05175512  0.01035102  0.01811429  0.22367322]\n",
      "[ 0.00531974  0.02393883  0.06117702  0.10107508  0.14363301  0.17289159\n",
      "  0.11969417  0.08511586  0.05319741  0.01063948  0.01861909  0.20203883]\n",
      "[ 0.00494736  0.02226313  0.05689467  0.09399989  0.13357878  0.16078928\n",
      "  0.11131565  0.0791578   0.04947362  0.00989472  0.01731577  0.25789564]\n",
      "[ 0.00517211  0.02327449  0.05947925  0.09827007  0.13964695  0.16809355\n",
      "  0.11637245  0.08275375  0.05172109  0.01034422  0.01810238  0.22418364]\n",
      "[ 0.00448927  0.02020171  0.0516266   0.08529613  0.12121029  0.14590127\n",
      "  0.10100857  0.07182832  0.0448927   0.00897854  0.01571244  0.32660951]\n",
      "[ 0.00530362  0.02386628  0.06099159  0.10076872  0.14319765  0.17236755\n",
      "  0.11933138  0.08485787  0.05303617  0.01060723  0.01856266  0.20445748]\n",
      "[ 0.00469779  0.02114008  0.05402464  0.0892581   0.12684045  0.15267832\n",
      "  0.10570038  0.07516471  0.04697795  0.00939559  0.01644228  0.29533082]\n",
      "[ 0.00513521  0.02310843  0.05905487  0.09756891  0.13865055  0.16689419\n",
      "  0.11554213  0.08216329  0.05135206  0.01027041  0.01797322  0.22971914]\n",
      "[ 0.00541673  0.02437531  0.06229245  0.10291796  0.14625183  0.17604387\n",
      "  0.12187653  0.08666775  0.05416735  0.01083347  0.01895857  0.18748981]\n",
      "[ 0.00518427  0.02332921  0.05961908  0.09850109  0.13997523  0.16848871\n",
      "  0.11664603  0.08294829  0.05184268  0.01036854  0.01814494  0.22235981]\n",
      "[ 0.00471507  0.02121782  0.05422333  0.08958637  0.12730694  0.15323984\n",
      "  0.10608912  0.07544115  0.04715072  0.00943014  0.01650275  0.29273922]\n",
      "[ 0.00513732  0.02311793  0.05907917  0.09760906  0.13870761  0.16696286\n",
      "  0.11558967  0.0821971   0.05137319  0.01027464  0.01798062  0.22940217]\n",
      "[ 0.0051758   0.02329109  0.05952168  0.09834017  0.13974656  0.16821345\n",
      "  0.11645546  0.08281277  0.05175798  0.0103516   0.01811529  0.22363025]\n",
      "[ 0.00480896  0.0216403   0.05530299  0.09137016  0.12984181  0.15629107\n",
      "  0.10820151  0.0769433   0.04808956  0.00961791  0.01683135  0.27865661]\n",
      "[ 0.00489703  0.02203666  0.0563159   0.09304366  0.13221994  0.15915363\n",
      "  0.11018328  0.07835256  0.04897035  0.00979407  0.01713962  0.26544478]\n",
      "[ 0.0048601   0.02187046  0.05589117  0.09234193  0.13122274  0.1579533\n",
      "  0.10935228  0.07776162  0.04860101  0.0097202   0.01701036  0.27098478]\n",
      "[ 0.00479707  0.02158681  0.05516629  0.09114431  0.12952086  0.15590474\n",
      "  0.10793405  0.0767531   0.04797069  0.00959414  0.01678974  0.28043968]\n",
      "[ 0.00500537  0.02252415  0.0575617   0.09510195  0.13514487  0.16267438\n",
      "  0.11262073  0.08008585  0.05005366  0.01001073  0.01751878  0.24919517]\n",
      "[ 0.00445126  0.02003068  0.0511895   0.08457396  0.12018405  0.14466599\n",
      "  0.10015338  0.07122018  0.04451261  0.00890252  0.01557941  0.33231081]\n",
      "[ 0.00432136  0.01944612  0.04969563  0.08210582  0.11667669  0.14044417\n",
      "  0.09723058  0.06914174  0.04321359  0.00864272  0.01512476  0.35179615]\n",
      "[ 0.00493014  0.02218562  0.05669657  0.0936726   0.1331137   0.16022945\n",
      "  0.11092808  0.07888219  0.04930137  0.00986027  0.01725548  0.26047946]\n",
      "[ 0.00436229  0.01963029  0.0501663   0.08288346  0.11778175  0.14177433\n",
      "  0.09815146  0.06979659  0.04362287  0.00872457  0.01526801  0.34565692]\n",
      "[ 0.00471744  0.02122847  0.05425052  0.0896313   0.12737079  0.15331669\n",
      "  0.10614233  0.07547899  0.04717437  0.00943487  0.01651103  0.29238449]\n",
      "[ 0.0055807   0.02511313  0.06417801  0.10603323  0.1506788   0.18137262\n",
      "  0.12556566  0.08929114  0.05580696  0.01116139  0.01953244  0.16289558]\n",
      "[ 0.00462198  0.02079892  0.05315281  0.08781768  0.12479354  0.15021445\n",
      "  0.10399462  0.07395173  0.04621983  0.00924397  0.01617694  0.30670253]\n",
      "[ 0.00476965  0.02146344  0.05485101  0.09062341  0.12878063  0.15501373\n",
      "  0.1073172   0.07631445  0.04769653  0.00953931  0.01669379  0.28455203]\n",
      "[ 0.00441024  0.01984608  0.05071776  0.08379455  0.11907647  0.14333279\n",
      "  0.09923039  0.07056383  0.0441024   0.00882048  0.01543584  0.33846406]\n",
      "[ 0.00480669  0.02163009  0.0552769   0.09132706  0.12978055  0.15621733\n",
      "  0.10815046  0.07690699  0.04806687  0.00961337  0.0168234   0.27899693]\n",
      "[ 0.00534623  0.02405805  0.06148169  0.10157844  0.14434831  0.17375259\n",
      "  0.12029026  0.08553974  0.05346234  0.01069247  0.01871182  0.19806496]\n",
      "[ 0.00503966  0.02267846  0.05795606  0.09575349  0.13607075  0.16378886\n",
      "  0.11339229  0.08063452  0.05039657  0.01007931  0.0176388   0.24405139]\n",
      "[ 0.00488915  0.02200116  0.05622518  0.09289378  0.13200695  0.15889726\n",
      "  0.11000579  0.07822634  0.04889146  0.00977829  0.01711201  0.26662804]\n",
      "[ 0.00555922  0.02501651  0.06393107  0.10562525  0.15009904  0.18067477\n",
      "  0.12508253  0.08894758  0.05559224  0.01111845  0.01945728  0.16611646]\n",
      "[ 0.00457597  0.02059184  0.0526236   0.08694334  0.12355106  0.14871887\n",
      "  0.10295922  0.07321544  0.04575965  0.00915193  0.01601588  0.31360521]\n",
      "[ 0.00441649  0.01987419  0.0507896   0.08391325  0.11924514  0.14353581\n",
      "  0.09937095  0.07066379  0.04416487  0.00883297  0.0154577   0.33752701]\n",
      "[ 0.00527303  0.02372863  0.06063984  0.10018756  0.1423718   0.17137346\n",
      "  0.11864317  0.08436847  0.0527303   0.01054606  0.0184556   0.20904556]\n",
      "[ 0.00466348  0.02098566  0.05363002  0.08860612  0.12591396  0.1515631\n",
      "  0.1049283   0.07461568  0.0466348   0.00932696  0.01632218  0.30047799]\n",
      "[ 0.00427221  0.01922495  0.04913043  0.08117202  0.11534971  0.13884687\n",
      "  0.09612476  0.06835538  0.04272211  0.00854442  0.01495274  0.35916828]\n",
      "[ 0.00461691  0.02077609  0.05309445  0.08772127  0.12465654  0.15004954\n",
      "  0.10388045  0.07387054  0.04616909  0.00923382  0.01615918  0.30746365]\n",
      "[ 0.00500184  0.02250827  0.05752115  0.09503494  0.13504965  0.16255976\n",
      "  0.11254137  0.08002942  0.05001839  0.01000368  0.01750644  0.24972419]\n",
      "[ 0.00461634  0.02077351  0.05308785  0.08771037  0.12464105  0.15003089\n",
      "  0.10386754  0.07386136  0.04616335  0.00923267  0.01615717  0.30754974]\n",
      "[ 0.00504582  0.0227062   0.05802697  0.09587064  0.13623723  0.16398926\n",
      "  0.11353102  0.08073317  0.05045823  0.01009165  0.01766038  0.2431265 ]\n",
      "[ 0.00501862  0.0225838   0.05771415  0.09535381  0.13550278  0.1631052\n",
      "  0.11291899  0.08029795  0.05018622  0.01003724  0.01756518  0.24720676]\n",
      "[ 0.00468225  0.02107011  0.05384584  0.08896268  0.12642066  0.15217301\n",
      "  0.10535055  0.07491594  0.04682247  0.00936449  0.01638786  0.29766302]\n",
      "[ 0.00473398  0.02130289  0.05444073  0.08994556  0.12781737  0.15385424\n",
      "  0.10651447  0.07574363  0.04733977  0.00946795  0.01656892  0.28990351]\n",
      "[ 0.00479769  0.02158961  0.05517345  0.09115613  0.12953767  0.15592497\n",
      "  0.10794805  0.07676306  0.04797691  0.00959538  0.01679192  0.2803463 ]\n",
      "[ 0.00472289  0.02125302  0.05431327  0.08973497  0.12751812  0.15349404\n",
      "  0.1062651   0.07556629  0.04722893  0.00944579  0.01653013  0.29156599]\n",
      "[ 0.00446157  0.02007707  0.05130808  0.08476987  0.12046244  0.14500109\n",
      "  0.10038537  0.07138515  0.04461572  0.00892314  0.0156155   0.33076421]\n",
      "[ 0.00558908  0.02515087  0.06427446  0.10619258  0.15090525  0.1816452\n",
      "  0.12575437  0.08942533  0.05589083  0.01117817  0.01956179  0.16163752]\n",
      "[ 0.00500288  0.02251298  0.05753316  0.09505478  0.13507785  0.16259371\n",
      "  0.11256488  0.08004613  0.05002883  0.01000577  0.01751009  0.2495675 ]\n",
      "[ 0.00418611  0.01883751  0.04814029  0.07953613  0.11302503  0.13604865\n",
      "  0.09418753  0.0669778   0.04186112  0.00837222  0.01465139  0.37208315]\n",
      "[ 0.00523813  0.0235716   0.06023854  0.09952455  0.14142962  0.17023936\n",
      "  0.11785802  0.08381015  0.05238134  0.01047627  0.01833347  0.21427987]\n",
      "[ 0.00554078  0.02493349  0.06371893  0.10527476  0.14960097  0.18007524\n",
      "  0.12466747  0.08865243  0.05540777  0.01108155  0.01939272  0.1688835 ]\n",
      "[ 0.00514367  0.0231465   0.05915216  0.09772965  0.13887898  0.16716914\n",
      "  0.11573248  0.08229865  0.05143666  0.01028733  0.01800283  0.22845012]\n",
      "[ 0.00523293  0.02354818  0.06017869  0.09942567  0.1412891   0.17007022\n",
      "  0.11774092  0.08372688  0.0523293   0.01046586  0.01831525  0.21506054]\n",
      "[ 0.00523293  0.02354818  0.06017869  0.09942567  0.1412891   0.17007022\n",
      "  0.11774092  0.08372688  0.0523293   0.01046586  0.01831525  0.21506054]\n",
      "[ 0.0053578   0.02411012  0.06161476  0.10179829  0.14466073  0.17412866\n",
      "  0.12055061  0.08572488  0.05357805  0.01071561  0.01875232  0.19632926]\n",
      "[ 0.00535179  0.02408305  0.06154558  0.10168401  0.14449833  0.17393317\n",
      "  0.12041527  0.08562864  0.0535179   0.01070358  0.01873126  0.1972315 ]\n",
      "[ 0.00361137  0.01625117  0.04153076  0.06861604  0.097507    0.11736954\n",
      "  0.08125583  0.05778193  0.0361137   0.00722274  0.0126398   0.45829445]\n",
      "[ 0.00437611  0.01969248  0.05032522  0.08314602  0.11815487  0.14222346\n",
      "  0.09846239  0.0700177   0.04376106  0.00875221  0.01531637  0.34358404]\n",
      "[ 0.00501311  0.02255901  0.05765081  0.09524917  0.13535408  0.16292621\n",
      "  0.11279507  0.08020983  0.05013114  0.01002623  0.0175459   0.24803287]\n",
      "[ 0.00499296  0.02246832  0.05741903  0.09486623  0.1348099   0.16227118\n",
      "  0.11234159  0.07988735  0.04992959  0.00998592  0.01747536  0.25105609]\n",
      "[ 0.00496288  0.02233295  0.05707311  0.0942947   0.13399773  0.16129356\n",
      "  0.11166477  0.07940606  0.04962879  0.00992576  0.01737008  0.25556818]\n",
      "[ 0.00462853  0.02082839  0.05322812  0.08794211  0.12497037  0.15042729\n",
      "  0.10414197  0.07405651  0.04628532  0.00925706  0.01619986  0.30572018]\n",
      "[ 0.00471832  0.02123244  0.05426068  0.08964808  0.12739464  0.1533454\n",
      "  0.1061622   0.07549312  0.0471832   0.00943664  0.01651412  0.292252  ]\n",
      "[ 0.00471832  0.02123244  0.05426068  0.08964808  0.12739464  0.1533454\n",
      "  0.1061622   0.07549312  0.0471832   0.00943664  0.01651412  0.292252  ]\n",
      "[ 0.00540328  0.02431478  0.06213778  0.10266241  0.14588869  0.17560676\n",
      "  0.12157391  0.08645256  0.05403285  0.01080657  0.0189115   0.18950728]\n",
      "[ 0.00440854  0.01983842  0.05069817  0.0837622   0.11903049  0.14327745\n",
      "  0.09919208  0.07053659  0.04408537  0.00881707  0.01542988  0.33871948]\n",
      "[ 0.004761    0.02142452  0.05475155  0.09045909  0.12854713  0.15473265\n",
      "  0.10712261  0.07617608  0.04761005  0.00952201  0.01666352  0.2858493 ]\n",
      "[ 0.0045959   0.02068154  0.05285283  0.08732207  0.12408925  0.14936669\n",
      "  0.10340771  0.07353437  0.04595898  0.0091918   0.01608564  0.31061526]\n",
      "[ 0.0045959   0.02068154  0.05285283  0.08732207  0.12408925  0.14936669\n",
      "  0.10340771  0.07353437  0.04595898  0.0091918   0.01608564  0.31061526]\n",
      "[ 0.00507196  0.02282381  0.05832751  0.0963672   0.13694286  0.16483862\n",
      "  0.11411905  0.08115132  0.05071958  0.01014392  0.01775185  0.23920635]\n",
      "[ 0.00530011  0.02385048  0.06095123  0.10070203  0.14310289  0.17225347\n",
      "  0.1192524   0.08480171  0.05300107  0.01060021  0.01855037  0.20498397]\n",
      "[ 0.00511671  0.02302519  0.05884216  0.09721748  0.13815116  0.16629306\n",
      "  0.11512597  0.08186735  0.0511671   0.01023342  0.01790848  0.23249355]\n",
      "[ 0.00455002  0.0204751   0.05232526  0.08645043  0.12285061  0.14787573\n",
      "  0.10237551  0.07280036  0.04550023  0.00910005  0.01592508  0.31749662]\n",
      "[ 0.00452368  0.02035655  0.05202229  0.08594987  0.12213929  0.14701952\n",
      "  0.10178275  0.07237884  0.04523678  0.00904736  0.01583287  0.32144836]\n",
      "[ 0.00478082  0.02151367  0.05497938  0.0908355   0.12908202  0.15537651\n",
      "  0.10756835  0.07649305  0.04780816  0.00956163  0.01673285  0.28287766]\n",
      "[ 0.00464363  0.02089635  0.05340179  0.08822905  0.12537812  0.15091811\n",
      "  0.10448177  0.07429815  0.04643634  0.00928727  0.01625272  0.30345487]\n",
      "[ 0.005188    0.02334601  0.05966203  0.09857206  0.14007608  0.1686101\n",
      "  0.11673007  0.08300805  0.05188003  0.01037601  0.01815801  0.22179955]\n",
      "[ 0.00542231  0.02440038  0.06235654  0.10302385  0.14640231  0.176225\n",
      "  0.12200192  0.08675692  0.05422308  0.01084462  0.01897808  0.18665385]\n"
     ]
    }
   ],
   "source": [
    "dp = DP()\n",
    "cdf_arr = dp.post_inf(emp_cdf,stats.poisson(1.),alpha=np.exp(mdp.log_alphas),lamb=np.exp(mdp.log_lambdas))"
   ]
  },
  {
   "cell_type": "code",
   "execution_count": 450,
   "metadata": {
    "collapsed": false
   },
   "outputs": [
    {
     "data": {
      "text/plain": [
       "300"
      ]
     },
     "execution_count": 450,
     "metadata": {},
     "output_type": "execute_result"
    }
   ],
   "source": [
    "#grid= np.linspace(0,20,21)\n",
    "#dp.plot_cdfs(map(cdf_arr[0].get_prob,grid),grid=grid)\n",
    "#cdf_arr[3].get_prob(grid)\n",
    "emp_cdf.x.size"
   ]
  },
  {
   "cell_type": "code",
   "execution_count": 434,
   "metadata": {
    "collapsed": false
   },
   "outputs": [],
   "source": [
    "class DP(object):\n",
    "    '''\n",
    "    Class to deal with DP priors.\n",
    "    '''\n",
    "    def __init__(self,g='foo',func_type='normal',**kwargs):\n",
    "        '''\n",
    "        Parameters:\n",
    "        g: scipy.stats object. if not specified, function type is used\n",
    "        alpha: precision parameter for dirichlet distribution\n",
    "        '''            \n",
    "        #check if custom function is passed, else use that specified\n",
    "        if g == 'foo':\n",
    "            if func_type == 'normal':\n",
    "                self.g = stats.norm(**kwargs)\n",
    "            elif func_type == 'uniform':\n",
    "                self.g = stats.uniform(**kwargs)\n",
    "            else:\n",
    "                print 'Error: No valid function supplied or specified.'\n",
    "                \n",
    "        else:\n",
    "            self.g = g\n",
    "        \n",
    "        \n",
    "    def draw_cdf_ferg(self,alpha=1.,grid=np.linspace(-6,6,1000),n_cdf=1,g_0=None):\n",
    "        '''\n",
    "        Draw a CDF realization, using method of Fergueson 1973\n",
    "        Parameters:\n",
    "            grid: n x 1 space of values on which to draw Dirichlet values\n",
    "            \n",
    "            n_cdf: int\n",
    "                number of CDFs to generate\n",
    "                \n",
    "            g_0: if supplied, function g_0 to draw x values from\n",
    "        \n",
    "        '''\n",
    "        if g_0 is None:\n",
    "            g_0 = self.g\n",
    "    \n",
    "        g_draws = g_0.cdf(grid)\n",
    "        g_draws = np.insert(g_draws,grid.size,1.)\n",
    "        g_diff = g_draws[1:] - g_draws[:-1]\n",
    "        cdf_arr = []\n",
    "        for i in range(n_cdf):\n",
    "            p = stats.dirichlet.rvs(alpha*g_diff)\n",
    "            p = np.insert(p,0.,0.)\n",
    "            p = np.cumsum(p)\n",
    "            cdf_arr.append(CDF(grid,cdf=p))\n",
    "        \n",
    "        return cdf_arr\n",
    "    \n",
    "    def draw_cdf_stick(self,alpha=1.,n_cdf=1,e=0.001,n_max=1e4,g_0=None):\n",
    "        '''\n",
    "        Draw a CDF realization, using stick-breaking constructive method.\n",
    "        Stop occurs using error-tolerance stop.\n",
    "        '''\n",
    "        if g_0 is None:\n",
    "            g_0 = self.g\n",
    "        #generate lists to hold the relevant values\n",
    "        cdf_arr = []\n",
    "        beta = stats.beta(1,alpha)\n",
    "        \n",
    "        #start the primary cdf generation loop\n",
    "        for i in range(n_cdf):\n",
    "            x = []\n",
    "            p = []\n",
    "            z = []\n",
    "            z.append(beta.rvs())\n",
    "            x.append(g_0.rvs())\n",
    "            p.append(z[0])\n",
    "            \n",
    "            #iterate for stick breaking process with appropriate exit conditions\n",
    "            stop_point = (alpha/(1.+alpha))**len(x)\n",
    "            while stop_point > e and len(x) < n_max:\n",
    "                x.append(g_0.rvs())\n",
    "                this_z = beta.rvs()\n",
    "                this_w = np.prod(1.-np.array(z))\n",
    "                p.append(this_w * this_z)\n",
    "                \n",
    "                z.append(this_z)\n",
    "    \n",
    "                if len(x) >= n_max:\n",
    "                    print 'Max iterations exceeded, exiting generation loop'\n",
    "\n",
    "                \n",
    "            self.x = x\n",
    "            self.z = z\n",
    "            self.p = p\n",
    "                \n",
    "            sort_x = np.argsort(x)\n",
    "            x = np.array(x)[sort_x]\n",
    "            p = np.insert(p,0.,0.)\n",
    "            p = np.cumsum(np.array(p)[sort_x])\n",
    "            cdf_arr.append(CDF(x,cdf=p))\n",
    "            \n",
    "            \n",
    "        return cdf_arr\n",
    "    \n",
    "    def mdp_gamma(self,grid=np.linspace(-4,4,100),a=1.,b=1.,n_cdf=1):\n",
    "        gamma = stats.gamma(a,b)\n",
    "        cdf_arr = []\n",
    "\n",
    "        for i in np.arange(n_cdf):\n",
    "            alpha = gamma.rvs()\n",
    "            draw_cdf = self.draw_cdf_ferg(alpha=alpha,n_cdf=1,grid=grid)[0]\n",
    "            cdf_arr.append(draw_cdf)\n",
    "        \n",
    "        return cdf_arr\n",
    "    \n",
    "    def plot_cdfs(self,cdf_arr,ax=None,grid=np.linspace(-4,4,200),**kwargs):\n",
    "        '''\n",
    "        Plot a list of CDFs for values of grid\n",
    "        Parameters:\n",
    "            cdf_arr: list of CDF objects\n",
    "            grid: x-grid for plotting\n",
    "        '''\n",
    "        if ax is None:\n",
    "            fig,ax = plt.subplots()\n",
    "        ax.set_ylim(0.,1.)\n",
    "        \n",
    "        for i in cdf_arr:\n",
    "            p = map(i.get_prob,grid)\n",
    "            ax.plot(grid,p,**kwargs)\n",
    "            \n",
    "    def post_inf(self,emp,g_0,alpha=np.array([1.]),n_cdf=1,sample_factor=10,lamb=1.,**kwargs):\n",
    "        '''\n",
    "        Return draw of posterior distribution\n",
    "\n",
    "        Parameters:\n",
    "            emp: CDF object containing emperical cdf of data\n",
    "            g_0 scipy.stats object\n",
    "        '''\n",
    "\n",
    "        #check if we're providing draws for many values of alpha, or just one\n",
    "        #currently assumes Poisson distribution, if performing multiple draws\n",
    "        if alpha.size > 1:\n",
    "            n_draws = int(alpha.size/sample_factor)\n",
    "            if n_draws * sample_factor > alpha.size:\n",
    "                n_draws = n_draws - 1\n",
    "                \n",
    "            draws = []\n",
    "            for i in range(n_draws):\n",
    "                ind = int(i * sample_factor)\n",
    "                g_0 = stats.poisson(ind)\n",
    "                mix = MixFunction(emp,g_0,alpha[ind])\n",
    "                alpha_prime = emp.x.size + alpha[ind]\n",
    "                draw = self.draw_cdf_ferg(alpha=alpha_prime,n_cdf=1,\\\n",
    "                        g_0=mix,grid=np.linspace(0,np.max(emp.x),np.max(emp.x)),**kwargs)\n",
    "                \n",
    "                draws.append(draw[0])\n",
    "        \n",
    "        #if not doing draws for multiple values, just do it once.\n",
    "        #works for any provided function.\n",
    "        else:\n",
    "            mix = MixFunction(emp,g_0,alpha)\n",
    "            alpha_prime = emp.x.size + alpha\n",
    "            draws = self.draw_cdf_ferg(alpha=alpha_prime,n_cdf=n_cdf,g_0=mix,**kwargs)\n",
    "        return draws\n",
    "    \n",
    "     "
   ]
  },
  {
   "cell_type": "code",
   "execution_count": 431,
   "metadata": {
    "collapsed": false
   },
   "outputs": [
    {
     "ename": "AttributeError",
     "evalue": "'list' object has no attribute 'get_prob'",
     "output_type": "error",
     "traceback": [
      "\u001b[0;31m---------------------------------------------------------------------------\u001b[0m",
      "\u001b[0;31mAttributeError\u001b[0m                            Traceback (most recent call last)",
      "\u001b[0;32m<ipython-input-431-8c38586af7be>\u001b[0m in \u001b[0;36m<module>\u001b[0;34m()\u001b[0m\n\u001b[1;32m      1\u001b[0m \u001b[0mgrid\u001b[0m \u001b[0;34m=\u001b[0m \u001b[0mnp\u001b[0m\u001b[0;34m.\u001b[0m\u001b[0mlinspace\u001b[0m\u001b[0;34m(\u001b[0m\u001b[0;34m-\u001b[0m\u001b[0;36m4\u001b[0m\u001b[0;34m,\u001b[0m\u001b[0;36m4\u001b[0m\u001b[0;34m,\u001b[0m\u001b[0;36m200\u001b[0m\u001b[0;34m)\u001b[0m\u001b[0;34m\u001b[0m\u001b[0m\n\u001b[0;32m----> 2\u001b[0;31m \u001b[0;32mprint\u001b[0m \u001b[0mmap\u001b[0m\u001b[0;34m(\u001b[0m\u001b[0memp_cdf\u001b[0m\u001b[0;34m.\u001b[0m\u001b[0mget_prob\u001b[0m\u001b[0;34m,\u001b[0m\u001b[0mgrid\u001b[0m\u001b[0;34m)\u001b[0m\u001b[0;34m\u001b[0m\u001b[0m\n\u001b[0m",
      "\u001b[0;31mAttributeError\u001b[0m: 'list' object has no attribute 'get_prob'"
     ]
    }
   ],
   "source": [
    "grid = np.linspace(-4,4,200)\n",
    "print map(emp_cdf.get_prob,grid)"
   ]
  },
  {
   "cell_type": "code",
   "execution_count": 41,
   "metadata": {
    "collapsed": false
   },
   "outputs": [
    {
     "data": {
      "text/plain": [
       "[<matplotlib.lines.Line2D at 0x10b578450>]"
      ]
     },
     "execution_count": 41,
     "metadata": {},
     "output_type": "execute_result"
    },
    {
     "data": {
      "image/png": "[encoded data removed]",
      "text/plain": [
       "<matplotlib.figure.Figure at 0x10b624890>"
      ]
     },
     "metadata": {},
     "output_type": "display_data"
    }
   ],
   "source": [
    "mix = MixFunction(emp_cdf,stats.norm(loc=4.),2000.)\n",
    "grid = np.linspace(-2,6,200)\n",
    "plt.plot(grid,mix.cdf(grid))\n",
    "#foo = mix.cdf(np.linspace(-4,6,200))"
   ]
  },
  {
   "cell_type": "code",
   "execution_count": 425,
   "metadata": {
    "collapsed": false
   },
   "outputs": [
    {
     "name": "stdout",
     "output_type": "stream",
     "text": [
      "[  2.91759763e-06   3.42097986e-06   4.00473570e-06   4.68053420e-06\n",
      "   5.46154114e-06   6.36257943e-06   7.40030207e-06   8.59337768e-06\n",
      "   9.96268901e-06   1.15315443e-05   1.33259012e-05   1.53746037e-05\n",
      "   1.77096302e-05   2.03663535e-05   2.33838105e-05   2.68049815e-05\n",
      "   3.06770761e-05   3.50518251e-05   3.99857762e-05   4.55405896e-05\n",
      "   5.17833315e-05   5.87867633e-05   6.66296194e-05   7.53968737e-05\n",
      "   8.51799863e-05   9.60771288e-05   1.08193380e-04   1.21640888e-04\n",
      "   1.36538994e-04   1.53014306e-04   1.71200724e-04   1.91239403e-04\n",
      "   2.13278650e-04   2.37473750e-04   2.63986707e-04   2.92985907e-04\n",
      "   2.82464568e-03   3.59145756e-04   3.96670657e-04   4.37408920e-04\n",
      "   4.81552250e-04   5.29294548e-04   5.80830811e-04   6.36355928e-04\n",
      "   6.96063345e-04   3.26014362e-03   3.32878288e-03   9.02161122e-04\n",
      "   9.80450486e-04   3.56381338e-03   1.15240053e-03   1.24634901e-03\n",
      "   1.34578016e-03   1.45079748e-03   1.56148452e-03   1.67790279e-03\n",
      "   1.80008964e-03   4.42805621e-03   4.56178545e-03   2.20123025e-03\n",
      "   2.34631165e-03   4.99691722e-03   5.15289959e-03   7.81407523e-03\n",
      "   5.48022337e-03   3.15108524e-03   5.82636352e-03   1.10057221e-02\n",
      "   1.61887862e-02   1.13751428e-02   6.56434120e-03   9.25589425e-03\n",
      "   9.44927980e-03   9.64394247e-03   1.23392958e-02   1.50347246e-02\n",
      "   5.22958831e-03   1.04232235e-02   1.56149478e-02   1.83040637e-02\n",
      "   1.09898623e-02   8.67162783e-03   6.34864204e-03   1.40201889e-02\n",
      "   1.41855591e-02   1.43440553e-02   1.44949966e-02   1.96377237e-02\n",
      "   1.22716033e-02   1.98960331e-02   1.25104461e-02   1.76143151e-02\n",
      "   1.27071565e-02   2.27885343e-02   2.03580631e-02   1.54154118e-02\n",
      "   1.54603055e-02   2.04925283e-02   1.55119245e-02   1.05184004e-02\n",
      "   1.80119245e-02   2.29925283e-02   1.29603055e-02   1.29154118e-02\n",
      "   1.53580631e-02   1.27885343e-02   1.27071565e-02   2.01143151e-02\n",
      "   1.75104461e-02   1.73960331e-02   1.22716033e-02   1.21377237e-02\n",
      "   1.44949966e-02   1.43440553e-02   9.18555908e-03   1.40201889e-02\n",
      "   1.63486420e-02   1.11716278e-02   1.59898623e-02   1.58040637e-02\n",
      "   8.11494783e-03   1.54232235e-02   5.22958831e-03   1.00347246e-02\n",
      "   7.33929576e-03   7.14394247e-03   6.94927980e-03   6.75589425e-03\n",
      "   9.06434120e-03   1.13751428e-02   3.68878625e-03   3.50572212e-03\n",
      "   5.82636352e-03   5.65108524e-03   2.98022337e-03   7.81407523e-03\n",
      "   5.15289959e-03   2.49691722e-03   4.84631165e-03   2.20123025e-03\n",
      "   7.06178545e-03   1.92805621e-03   4.30008964e-03   1.67790279e-03\n",
      "   4.06148452e-03   3.95079748e-03   1.34578016e-03   1.24634901e-03\n",
      "   3.65240053e-03   1.06381338e-03   9.80450486e-04   9.02161122e-04\n",
      "   8.28782879e-04   7.60143623e-04   6.96063345e-04   6.36355928e-04\n",
      "   5.80830811e-04   5.29294548e-04   4.81552250e-04   4.37408920e-04\n",
      "   3.96670657e-04   3.59145756e-04   3.24645676e-04   2.92985907e-04\n",
      "   2.63986707e-04   2.37473750e-04   2.13278650e-04   1.91239403e-04\n",
      "   1.71200724e-04   1.53014306e-04   1.36538994e-04   1.21640888e-04\n",
      "   1.08193380e-04   9.60771288e-05   2.58517999e-03   7.53968737e-05\n",
      "   6.66296194e-05   5.87867633e-05   5.17833315e-05   4.55405896e-05\n",
      "   3.99857762e-05   3.50518251e-05   3.06770761e-05   2.68049815e-05\n",
      "   2.33838105e-05   2.03663535e-05   1.77096302e-05   1.53746037e-05\n",
      "   1.33259012e-05   1.15315443e-05   9.96268901e-06   8.59337768e-06\n",
      "   7.40030207e-06   6.36257943e-06   5.46154114e-06   4.68053420e-06\n",
      "   4.00473570e-06   3.42097986e-06   2.91759763e-06   1.58356209e-05]\n"
     ]
    },
    {
     "data": {
      "image/png": "[encoded data removed]",
      "text/plain": [
       "<matplotlib.figure.Figure at 0x11a0343d0>"
      ]
     },
     "metadata": {},
     "output_type": "display_data"
    }
   ],
   "source": [
    "dat = gen_single(200)\n",
    "emp_cdf = CDF(np.sort(dat),cdf=np.linspace(0,1,dat.size+1))\n",
    "g_0 = stats.norm()\n",
    "dp = DP()\n",
    "grid = np.linspace(-4,4,200)\n",
    "post = dp.post_inf(emp_cdf,g_0,alpha=np.array([200.]),n_cdf=10,grid=grid)\n",
    "emp_cdf = [emp_cdf]\n",
    "fig,ax = plt.subplots(figsize=(10,5))\n",
    "dp.plot_cdfs(emp_cdf,linewidth=4,ax=ax,c='b',grid=grid)\n",
    "dp.plot_cdfs(post,alpha=0.3,ax=ax,grid=grid)"
   ]
  },
  {
   "cell_type": "code",
   "execution_count": 38,
   "metadata": {
    "collapsed": false
   },
   "outputs": [
    {
     "name": "stdout",
     "output_type": "stream",
     "text": [
      "[ 15.  20.]\n"
     ]
    },
    {
     "name": "stderr",
     "output_type": "stream",
     "text": [
      "/Users/zach/anaconda/envs/astro/lib/python2.7/site-packages/ipykernel/__main__.py:3: DeprecationWarning: using a non-integer number instead of an integer will result in an error in the future\n",
      "  app.launch_new_instance()\n"
     ]
    }
   ],
   "source": [
    "z = np.linspace(1,2,2)\n",
    "m = 5.\n",
    "print np.sum((np.tile(z,m) + np.sort(np.tile(np.arange(m),z.size))).reshape(m,z.size),axis=0)\n",
    "#print np.tile((z,m)+np.sort(np.tile(np.arange(m),z.size))).reshape(m,z.size)"
   ]
  },
  {
   "cell_type": "code",
   "execution_count": 454,
   "metadata": {
    "collapsed": false
   },
   "outputs": [
    {
     "name": "stdout",
     "output_type": "stream",
     "text": [
      "(array([1, 3, 0, 3, 2, 1]), array([ 2.        ,  2.83333333,  3.66666667,  4.5       ,  5.33333333,\n",
      "        6.16666667,  7.        ]))\n"
     ]
    }
   ],
   "source": [
    "foo_hist = np.histogram(foo,bins=(np.max(foo) - np.min(foo)+1))\n",
    "print foo_hist"
   ]
  },
  {
   "cell_type": "code",
   "execution_count": 6,
   "metadata": {
    "collapsed": false,
    "scrolled": true
   },
   "outputs": [
    {
     "name": "stdout",
     "output_type": "stream",
     "text": [
      "0.174725262234\n"
     ]
    }
   ],
   "source": [
    "dp = DP()\n",
    "cdf_arr = dp.MDPGamma(n_cdf=30,a=1,b=1)\n",
    "means = []\n",
    "stddevs = []\n",
    "for i in cdf_arr:\n",
    "    means.append(i.GetMean())\n",
    "    stddevs.append(i.GetSD())\n",
    "print np.median(means)"
   ]
  },
  {
   "cell_type": "code",
   "execution_count": 21,
   "metadata": {
    "collapsed": false
   },
   "outputs": [
    {
     "data": {
      "text/plain": [
       "array([ 1,  0, -1,  0,  0, -1, -1,  0,  0,  0])"
      ]
     },
     "execution_count": 21,
     "metadata": {},
     "output_type": "execute_result"
    }
   ],
   "source": [
    "foo = stats.rv_discrete(name='emperical_cdf',values=(cdf_arr[0].x,cdf_arr[0].pdf))\n",
    "xk = np.arange(7)\n",
    "pk = (0.1, 0.2, 0.3, 0.1, 0.1, 0.0, 0.2)\n",
    "custm = stats.rv_discrete(name='custm', values=(xk, pk))\n",
    "foo.rvs(size=10)"
   ]
  },
  {
   "cell_type": "code",
   "execution_count": 30,
   "metadata": {
    "collapsed": false
   },
   "outputs": [],
   "source": [
    "foo = np.linspace(0,1,101)\n",
    "x = np.arange(100)\n",
    "probs = stats.uniform.rvs(size=10)\n",
    "rvs = []\n",
    "for i in probs:\n",
    "    rvs.append(x[np.argmin(np.abs(foo - i))])\n"
   ]
  },
  {
   "cell_type": "code",
   "execution_count": 59,
   "metadata": {
    "collapsed": false
   },
   "outputs": [
    {
     "name": "stdout",
     "output_type": "stream",
     "text": [
      "-2.5\n"
     ]
    }
   ],
   "source": [
    "print stats.gamma.logpdf(2.5,1.)"
   ]
  },
  {
   "cell_type": "code",
   "execution_count": 353,
   "metadata": {
    "collapsed": false
   },
   "outputs": [],
   "source": [
    "cdf_arr = []\n",
    "grid = np.linspace(-4,4,100)\n",
    "med_arr = []\n",
    "stddev_arr = []\n",
    "for j in range(50):\n",
    "    means = []\n",
    "    stddev = []\n",
    "    cdf_arr = []\n",
    "    \n",
    "    for i in range(1000):\n",
    "        x = stats.norm.rvs(size=100)\n",
    "        x = np.sort(x)\n",
    "        y = np.linspace(0.,1.,101)\n",
    "        cdf_arr.append(CDF(x,y))\n",
    "        means.append(cdf_arr[i].GetMean())\n",
    "        stddev.append(cdf_arr[i].GetSD())\n",
    "        \n",
    "    med_arr.append(np.median(means))\n",
    "    stddev_arr.append(np.median(stddev))\n"
   ]
  },
  {
   "cell_type": "code",
   "execution_count": 83,
   "metadata": {
    "collapsed": false
   },
   "outputs": [
    {
     "name": "stdout",
     "output_type": "stream",
     "text": [
      "[  3.25578215e-18   2.82835379e-24   4.20527855e-07   4.88049796e-19\n",
      "   6.46182301e-12   2.14117372e-07   8.94515352e-06   2.54985947e-04\n",
      "   3.05321663e-04   5.59104615e-10   2.16793406e-05   4.60126088e-04\n",
      "   5.73005726e-04   9.42933946e-05   3.28489555e-04   1.35049258e-04\n",
      "   1.34988171e-03   3.00147177e-03   2.27591395e-03   1.30576421e-03\n",
      "   3.38103647e-03   1.03868344e-03   2.68944825e-03   6.54741632e-03\n",
      "   1.05916909e-02   2.76308748e-03   3.68274942e-03   6.57318133e-03\n",
      "   1.01000596e-02   1.36014984e-02   4.52641529e-03   1.46116745e-02\n",
      "   1.68564196e-02   9.20372427e-03   1.86540853e-02   1.61757737e-02\n",
      "   1.82539802e-02   2.35110357e-02   2.76798819e-02   2.52390408e-02\n",
      "   2.23895349e-02   2.28074022e-02   3.72845177e-02   3.00035850e-02\n",
      "   3.21814549e-02   2.48242458e-02   3.43607473e-02   2.51439391e-02\n",
      "   3.36968759e-02   3.47058469e-02   3.80207036e-02   2.75784732e-02\n",
      "   2.91625307e-02   2.37799528e-02   2.35281060e-02   2.92920591e-02\n",
      "   2.01382774e-02   3.15985896e-02   2.35194401e-02   3.66463103e-02\n",
      "   2.21126407e-02   1.63288727e-02   2.04444812e-02   8.36309464e-03\n",
      "   1.25614035e-02   8.93736106e-03   8.63276619e-03   1.58009519e-02\n",
      "   5.72390122e-03   6.72616774e-03   1.66803089e-03   9.44596368e-03\n",
      "   6.24749073e-03   5.97641575e-03   5.07439302e-03   3.33419053e-03\n",
      "   1.10254250e-03   3.67544859e-03   7.00953866e-04   1.40822424e-03\n",
      "   3.58647687e-04   9.68753274e-04   1.38584951e-03   9.77754913e-06\n",
      "   3.29353221e-03   2.43598408e-04   1.48770661e-05   1.03622220e-05\n",
      "   3.51825123e-07   2.93098879e-14   1.11022302e-16   0.00000000e+00\n",
      "   2.97716086e-03   1.88264444e-08   0.00000000e+00   6.47218834e-10\n",
      "   1.23487192e-05   0.00000000e+00   3.88446959e-07   1.11022302e-16]\n",
      "[ 0.  0.  0.  0.  0.  0.  0.  0.  0.  0.  0.  0.  0.  0.  0.  0.  0.  0.\n",
      "  0.  0.  0.  0.  0.  0.  0.  0.  0.  0.  0.  0.  0.  0.  0.  0.  0.  0.\n",
      "  0.  0.  0.  0.  0.  0.  0.  0.  0.  0.  0.  0.  0.  0.  0.  0.  0.  0.\n",
      "  0.  0.  0.  0.  0.  0.  0.  0.  0.  0.  0.  0.  0.  0.  0.  0.  0.  0.\n",
      "  0.  0.  0.  0.  0.  0.  0.  0.  0.  0.  0.  0.  0.  0.  0.  0.  0.  0.\n",
      "  0.  0.  0.  0.  0.  0.  0.  0.  0.  0.]\n"
     ]
    }
   ],
   "source": [
    "foo = np.insert(cdf_arr[0].cdf,cdf_arr[0].cdf.size,1.)\n",
    "print foo[1:] - foo[:-1]\n",
    "print cdf_arr[0].cdf[:] - np.insert(cdf_arr[0].cdf,cdf_arr[0].cdf.size,1.)[:-1]"
   ]
  },
  {
   "cell_type": "code",
   "execution_count": 98,
   "metadata": {
    "collapsed": false
   },
   "outputs": [
    {
     "name": "stdout",
     "output_type": "stream",
     "text": [
      "0.445411343028\n",
      "0.468204203044\n",
      "0.023580938754\n",
      "0.0444806498827\n",
      "0.195169020849\n"
     ]
    }
   ],
   "source": [
    "foo = np.array(stats.uniform.rvs(size=5))\n",
    "for i in foo:\n",
    "    print i"
   ]
  },
  {
   "cell_type": "code",
   "execution_count": 52,
   "metadata": {
    "collapsed": false
   },
   "outputs": [
    {
     "name": "stdout",
     "output_type": "stream",
     "text": [
      "100\n"
     ]
    }
   ],
   "source": [
    "grid = np.linspace(-4,4,100)\n",
    "g_draws = stats.norm.cdf(grid)\n",
    "g_draws = np.insert(g_draws,grid.size,1.)\n",
    "g_diff = g_draws[1:] - g_draws[:-1]\n",
    "print g_diff.size"
   ]
  },
  {
   "cell_type": "code",
   "execution_count": 238,
   "metadata": {
    "collapsed": false
   },
   "outputs": [],
   "source": [
    "class EmpericalDistribution(stats.rv_continuous):\n",
    "    \n",
    "    def SetParameters(self,x,p,d_type='cdf'):\n",
    "        p = np.array(p)[np.argsort(x)]\n",
    "        self.x = np.array(x)[np.argsort(x)]\n",
    "        \n",
    "        if d_type == 'pdf':\n",
    "            self.p = np.cumsum(p)\n",
    "        else:\n",
    "            self.p = p\n",
    "        \n",
    "        \n",
    "    \n",
    "    def _cdf(self,check_x):\n",
    "        if np.all(check_x < self.x):\n",
    "            return 0.0\n",
    "        \n",
    "        if np.all(check_x > self.x):\n",
    "            return 1.0\n",
    "        \n",
    "        diff = check_x - self.x\n",
    "        mask = diff < 0.\n",
    "        \n",
    "        masked_diff = np.ma.masked_array(diff, mask)\n",
    "        return self.p[masked_diff.argmin()]"
   ]
  },
  {
   "cell_type": "code",
   "execution_count": 109,
   "metadata": {
    "collapsed": false
   },
   "outputs": [
    {
     "data": {
      "text/plain": [
       "[0.2183850826968432,\n",
       " 0.78131196631067978,\n",
       " 0.19299689233354664,\n",
       " 0.010697301704192152,\n",
       " 0.0037585826834016633,\n",
       " 0.0094372690352094359,\n",
       " 0.001789514262302305,\n",
       " 6.777355704258306e-06,\n",
       " 4.3939264958602757e-07,\n",
       " 8.9026124561464268e-07]"
      ]
     },
     "execution_count": 109,
     "metadata": {},
     "output_type": "execute_result"
    }
   ],
   "source": [
    "dp.p"
   ]
  },
  {
   "cell_type": "code",
   "execution_count": 171,
   "metadata": {
    "collapsed": false
   },
   "outputs": [],
   "source": [
    "cdf = CDF(np.array([0,1,2,3]),np.array([0.1,0.3,0.95,1.0]))"
   ]
  },
  {
   "cell_type": "code",
   "execution_count": 154,
   "metadata": {
    "collapsed": false
   },
   "outputs": [
    {
     "name": "stdout",
     "output_type": "stream",
     "text": [
      "[-0.5 -1.5 -2.5 -3.5]\n",
      "[ True  True  True  True]\n",
      "[-- -- -- --]\n",
      "0\n"
     ]
    }
   ],
   "source": [
    "diff = -0.5 - np.array([0,1,2,3])\n",
    "print diff\n",
    "mask = diff < 0\n",
    "print mask\n",
    "masked_diff = np.ma.masked_array(diff,mask)\n",
    "print masked_diff\n",
    "print masked_diff.argmin()"
   ]
  },
  {
   "cell_type": "code",
   "execution_count": 64,
   "metadata": {
    "collapsed": false
   },
   "outputs": [],
   "source": [
    "g_grid = rv.cdf(foo)\n",
    "g_diff = g_grid[1:] - g_grid[:-1]\n",
    "p = stats.dirichlet.rvs(g_diff * 0.1)"
   ]
  },
  {
   "cell_type": "code",
   "execution_count": 32,
   "metadata": {
    "collapsed": false
   },
   "outputs": [
    {
     "data": {
      "text/plain": [
       "0.0"
      ]
     },
     "execution_count": 32,
     "metadata": {},
     "output_type": "execute_result"
    }
   ],
   "source": [
    "len(cdf_arr[0].x)\n",
    "(10./(10.+1))**10000"
   ]
  },
  {
   "cell_type": "code",
   "execution_count": 67,
   "metadata": {
    "collapsed": false
   },
   "outputs": [
    {
     "data": {
      "text/plain": [
       "[<matplotlib.lines.Line2D at 0x10bbf0310>]"
      ]
     },
     "execution_count": 67,
     "metadata": {},
     "output_type": "execute_result"
    },
    {
     "data": {
      "image/png": "[encoded data removed]",
      "text/plain": [
       "<matplotlib.figure.Figure at 0x10baf8c90>"
      ]
     },
     "metadata": {},
     "output_type": "display_data"
    }
   ],
   "source": [
    "plt.plot(np.linspace(-4,4,99),sum)"
   ]
  },
  {
   "cell_type": "code",
   "execution_count": 81,
   "metadata": {
    "collapsed": false
   },
   "outputs": [
    {
     "data": {
      "text/plain": [
       "[<matplotlib.lines.Line2D at 0x10d00ea10>]"
      ]
     },
     "execution_count": 81,
     "metadata": {},
     "output_type": "execute_result"
    },
    {
     "data": {
      "image/png": "[encoded data removed]",
      "text/plain": [
       "<matplotlib.figure.Figure at 0x10d00ea90>"
      ]
     },
     "metadata": {},
     "output_type": "display_data"
    }
   ],
   "source": [
    "a = 1\n",
    "b = 1.5\n",
    "foo = np.linspace(0,1,100)\n",
    "beta = stats.beta(a,b)\n",
    "plt.plot(foo,beta.pdf(foo))\n",
    "plt.plot(foo,stats.beta.pdf(foo,a,b))"
   ]
  },
  {
   "cell_type": "code",
   "execution_count": null,
   "metadata": {
    "collapsed": true
   },
   "outputs": [],
   "source": []
  }
 ],
 "metadata": {
  "kernelspec": {
   "display_name": "Python 2",
   "language": "python",
   "name": "python2"
  },
  "language_info": {
   "codemirror_mode": {
    "name": "ipython",
    "version": 2
   },
   "file_extension": ".py",
   "mimetype": "text/x-python",
   "name": "python",
   "nbconvert_exporter": "python",
   "pygments_lexer": "ipython2",
   "version": "2.7.10"
  }
 },
 "nbformat": 4,
 "nbformat_minor": 0
}
